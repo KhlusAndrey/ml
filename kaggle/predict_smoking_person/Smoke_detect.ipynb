{
  "nbformat": 4,
  "nbformat_minor": 0,
  "metadata": {
    "colab": {
      "provenance": []
    },
    "kernelspec": {
      "name": "python3",
      "display_name": "Python 3"
    },
    "language_info": {
      "name": "python"
    },
    "widgets": {
      "application/vnd.jupyter.widget-state+json": {
        "44e77e5053634b94a271280bc8936e0c": {
          "model_module": "@jupyter-widgets/controls",
          "model_name": "HBoxModel",
          "model_module_version": "1.5.0",
          "state": {
            "_dom_classes": [],
            "_model_module": "@jupyter-widgets/controls",
            "_model_module_version": "1.5.0",
            "_model_name": "HBoxModel",
            "_view_count": null,
            "_view_module": "@jupyter-widgets/controls",
            "_view_module_version": "1.5.0",
            "_view_name": "HBoxView",
            "box_style": "",
            "children": [
              "IPY_MODEL_3e24c1a8e88a4081b7676ca4e8a185d1",
              "IPY_MODEL_499c5e37b71e4a73b21484caede8cc30",
              "IPY_MODEL_cbf1ec7c88d6402d9f9d7cc29bfe6c55"
            ],
            "layout": "IPY_MODEL_97d0ad42c3404be8b28dcc78d6c8dee3"
          }
        },
        "3e24c1a8e88a4081b7676ca4e8a185d1": {
          "model_module": "@jupyter-widgets/controls",
          "model_name": "HTMLModel",
          "model_module_version": "1.5.0",
          "state": {
            "_dom_classes": [],
            "_model_module": "@jupyter-widgets/controls",
            "_model_module_version": "1.5.0",
            "_model_name": "HTMLModel",
            "_view_count": null,
            "_view_module": "@jupyter-widgets/controls",
            "_view_module_version": "1.5.0",
            "_view_name": "HTMLView",
            "description": "",
            "description_tooltip": null,
            "layout": "IPY_MODEL_a5d8546e5eec47aabfeb09582b1f6172",
            "placeholder": "​",
            "style": "IPY_MODEL_6b75e4ad263746b2aa969de2b2081b36",
            "value": "100%"
          }
        },
        "499c5e37b71e4a73b21484caede8cc30": {
          "model_module": "@jupyter-widgets/controls",
          "model_name": "FloatProgressModel",
          "model_module_version": "1.5.0",
          "state": {
            "_dom_classes": [],
            "_model_module": "@jupyter-widgets/controls",
            "_model_module_version": "1.5.0",
            "_model_name": "FloatProgressModel",
            "_view_count": null,
            "_view_module": "@jupyter-widgets/controls",
            "_view_module_version": "1.5.0",
            "_view_name": "ProgressView",
            "bar_style": "success",
            "description": "",
            "description_tooltip": null,
            "layout": "IPY_MODEL_e3615928da664ecea98ab0b9bab1c56f",
            "max": 101,
            "min": 0,
            "orientation": "horizontal",
            "style": "IPY_MODEL_654baf217ed840cc9d2d120a1a9fda4a",
            "value": 101
          }
        },
        "cbf1ec7c88d6402d9f9d7cc29bfe6c55": {
          "model_module": "@jupyter-widgets/controls",
          "model_name": "HTMLModel",
          "model_module_version": "1.5.0",
          "state": {
            "_dom_classes": [],
            "_model_module": "@jupyter-widgets/controls",
            "_model_module_version": "1.5.0",
            "_model_name": "HTMLModel",
            "_view_count": null,
            "_view_module": "@jupyter-widgets/controls",
            "_view_module_version": "1.5.0",
            "_view_name": "HTMLView",
            "description": "",
            "description_tooltip": null,
            "layout": "IPY_MODEL_a5c8bf0c9aa9409b9f5159e29fb713ef",
            "placeholder": "​",
            "style": "IPY_MODEL_27b0f1e914d74aee95a9ab76d6069899",
            "value": " 101/101 [00:04&lt;00:00, 37.23it/s]"
          }
        },
        "97d0ad42c3404be8b28dcc78d6c8dee3": {
          "model_module": "@jupyter-widgets/base",
          "model_name": "LayoutModel",
          "model_module_version": "1.2.0",
          "state": {
            "_model_module": "@jupyter-widgets/base",
            "_model_module_version": "1.2.0",
            "_model_name": "LayoutModel",
            "_view_count": null,
            "_view_module": "@jupyter-widgets/base",
            "_view_module_version": "1.2.0",
            "_view_name": "LayoutView",
            "align_content": null,
            "align_items": null,
            "align_self": null,
            "border": null,
            "bottom": null,
            "display": null,
            "flex": null,
            "flex_flow": null,
            "grid_area": null,
            "grid_auto_columns": null,
            "grid_auto_flow": null,
            "grid_auto_rows": null,
            "grid_column": null,
            "grid_gap": null,
            "grid_row": null,
            "grid_template_areas": null,
            "grid_template_columns": null,
            "grid_template_rows": null,
            "height": null,
            "justify_content": null,
            "justify_items": null,
            "left": null,
            "margin": null,
            "max_height": null,
            "max_width": null,
            "min_height": null,
            "min_width": null,
            "object_fit": null,
            "object_position": null,
            "order": null,
            "overflow": null,
            "overflow_x": null,
            "overflow_y": null,
            "padding": null,
            "right": null,
            "top": null,
            "visibility": null,
            "width": null
          }
        },
        "a5d8546e5eec47aabfeb09582b1f6172": {
          "model_module": "@jupyter-widgets/base",
          "model_name": "LayoutModel",
          "model_module_version": "1.2.0",
          "state": {
            "_model_module": "@jupyter-widgets/base",
            "_model_module_version": "1.2.0",
            "_model_name": "LayoutModel",
            "_view_count": null,
            "_view_module": "@jupyter-widgets/base",
            "_view_module_version": "1.2.0",
            "_view_name": "LayoutView",
            "align_content": null,
            "align_items": null,
            "align_self": null,
            "border": null,
            "bottom": null,
            "display": null,
            "flex": null,
            "flex_flow": null,
            "grid_area": null,
            "grid_auto_columns": null,
            "grid_auto_flow": null,
            "grid_auto_rows": null,
            "grid_column": null,
            "grid_gap": null,
            "grid_row": null,
            "grid_template_areas": null,
            "grid_template_columns": null,
            "grid_template_rows": null,
            "height": null,
            "justify_content": null,
            "justify_items": null,
            "left": null,
            "margin": null,
            "max_height": null,
            "max_width": null,
            "min_height": null,
            "min_width": null,
            "object_fit": null,
            "object_position": null,
            "order": null,
            "overflow": null,
            "overflow_x": null,
            "overflow_y": null,
            "padding": null,
            "right": null,
            "top": null,
            "visibility": null,
            "width": null
          }
        },
        "6b75e4ad263746b2aa969de2b2081b36": {
          "model_module": "@jupyter-widgets/controls",
          "model_name": "DescriptionStyleModel",
          "model_module_version": "1.5.0",
          "state": {
            "_model_module": "@jupyter-widgets/controls",
            "_model_module_version": "1.5.0",
            "_model_name": "DescriptionStyleModel",
            "_view_count": null,
            "_view_module": "@jupyter-widgets/base",
            "_view_module_version": "1.2.0",
            "_view_name": "StyleView",
            "description_width": ""
          }
        },
        "e3615928da664ecea98ab0b9bab1c56f": {
          "model_module": "@jupyter-widgets/base",
          "model_name": "LayoutModel",
          "model_module_version": "1.2.0",
          "state": {
            "_model_module": "@jupyter-widgets/base",
            "_model_module_version": "1.2.0",
            "_model_name": "LayoutModel",
            "_view_count": null,
            "_view_module": "@jupyter-widgets/base",
            "_view_module_version": "1.2.0",
            "_view_name": "LayoutView",
            "align_content": null,
            "align_items": null,
            "align_self": null,
            "border": null,
            "bottom": null,
            "display": null,
            "flex": null,
            "flex_flow": null,
            "grid_area": null,
            "grid_auto_columns": null,
            "grid_auto_flow": null,
            "grid_auto_rows": null,
            "grid_column": null,
            "grid_gap": null,
            "grid_row": null,
            "grid_template_areas": null,
            "grid_template_columns": null,
            "grid_template_rows": null,
            "height": null,
            "justify_content": null,
            "justify_items": null,
            "left": null,
            "margin": null,
            "max_height": null,
            "max_width": null,
            "min_height": null,
            "min_width": null,
            "object_fit": null,
            "object_position": null,
            "order": null,
            "overflow": null,
            "overflow_x": null,
            "overflow_y": null,
            "padding": null,
            "right": null,
            "top": null,
            "visibility": null,
            "width": null
          }
        },
        "654baf217ed840cc9d2d120a1a9fda4a": {
          "model_module": "@jupyter-widgets/controls",
          "model_name": "ProgressStyleModel",
          "model_module_version": "1.5.0",
          "state": {
            "_model_module": "@jupyter-widgets/controls",
            "_model_module_version": "1.5.0",
            "_model_name": "ProgressStyleModel",
            "_view_count": null,
            "_view_module": "@jupyter-widgets/base",
            "_view_module_version": "1.2.0",
            "_view_name": "StyleView",
            "bar_color": null,
            "description_width": ""
          }
        },
        "a5c8bf0c9aa9409b9f5159e29fb713ef": {
          "model_module": "@jupyter-widgets/base",
          "model_name": "LayoutModel",
          "model_module_version": "1.2.0",
          "state": {
            "_model_module": "@jupyter-widgets/base",
            "_model_module_version": "1.2.0",
            "_model_name": "LayoutModel",
            "_view_count": null,
            "_view_module": "@jupyter-widgets/base",
            "_view_module_version": "1.2.0",
            "_view_name": "LayoutView",
            "align_content": null,
            "align_items": null,
            "align_self": null,
            "border": null,
            "bottom": null,
            "display": null,
            "flex": null,
            "flex_flow": null,
            "grid_area": null,
            "grid_auto_columns": null,
            "grid_auto_flow": null,
            "grid_auto_rows": null,
            "grid_column": null,
            "grid_gap": null,
            "grid_row": null,
            "grid_template_areas": null,
            "grid_template_columns": null,
            "grid_template_rows": null,
            "height": null,
            "justify_content": null,
            "justify_items": null,
            "left": null,
            "margin": null,
            "max_height": null,
            "max_width": null,
            "min_height": null,
            "min_width": null,
            "object_fit": null,
            "object_position": null,
            "order": null,
            "overflow": null,
            "overflow_x": null,
            "overflow_y": null,
            "padding": null,
            "right": null,
            "top": null,
            "visibility": null,
            "width": null
          }
        },
        "27b0f1e914d74aee95a9ab76d6069899": {
          "model_module": "@jupyter-widgets/controls",
          "model_name": "DescriptionStyleModel",
          "model_module_version": "1.5.0",
          "state": {
            "_model_module": "@jupyter-widgets/controls",
            "_model_module_version": "1.5.0",
            "_model_name": "DescriptionStyleModel",
            "_view_count": null,
            "_view_module": "@jupyter-widgets/base",
            "_view_module_version": "1.2.0",
            "_view_name": "StyleView",
            "description_width": ""
          }
        },
        "cc5275a22a4e413b96b0d53e7048451c": {
          "model_module": "@jupyter-widgets/controls",
          "model_name": "HBoxModel",
          "model_module_version": "1.5.0",
          "state": {
            "_dom_classes": [],
            "_model_module": "@jupyter-widgets/controls",
            "_model_module_version": "1.5.0",
            "_model_name": "HBoxModel",
            "_view_count": null,
            "_view_module": "@jupyter-widgets/controls",
            "_view_module_version": "1.5.0",
            "_view_name": "HBoxView",
            "box_style": "",
            "children": [
              "IPY_MODEL_1e986f72e1214f73808882f4e38f984f",
              "IPY_MODEL_920ebe42518a4ec68ab328f143be1f34",
              "IPY_MODEL_d0dee55d03524a90b62c2622f9370e24"
            ],
            "layout": "IPY_MODEL_b90300e9dac14051923877bf4f8e93eb"
          }
        },
        "1e986f72e1214f73808882f4e38f984f": {
          "model_module": "@jupyter-widgets/controls",
          "model_name": "HTMLModel",
          "model_module_version": "1.5.0",
          "state": {
            "_dom_classes": [],
            "_model_module": "@jupyter-widgets/controls",
            "_model_module_version": "1.5.0",
            "_model_name": "HTMLModel",
            "_view_count": null,
            "_view_module": "@jupyter-widgets/controls",
            "_view_module_version": "1.5.0",
            "_view_name": "HTMLView",
            "description": "",
            "description_tooltip": null,
            "layout": "IPY_MODEL_f03d2932474b411893d9ff2449b8d512",
            "placeholder": "​",
            "style": "IPY_MODEL_0d66b9ea725245ae859e8c555c67cc9c",
            "value": "100%"
          }
        },
        "920ebe42518a4ec68ab328f143be1f34": {
          "model_module": "@jupyter-widgets/controls",
          "model_name": "FloatProgressModel",
          "model_module_version": "1.5.0",
          "state": {
            "_dom_classes": [],
            "_model_module": "@jupyter-widgets/controls",
            "_model_module_version": "1.5.0",
            "_model_name": "FloatProgressModel",
            "_view_count": null,
            "_view_module": "@jupyter-widgets/controls",
            "_view_module_version": "1.5.0",
            "_view_name": "ProgressView",
            "bar_style": "success",
            "description": "",
            "description_tooltip": null,
            "layout": "IPY_MODEL_53524d8f143244d5a15df41c4537b34f",
            "max": 13843,
            "min": 0,
            "orientation": "horizontal",
            "style": "IPY_MODEL_d817e0fe11ef4b39a2cc3201ae290ec0",
            "value": 13843
          }
        },
        "d0dee55d03524a90b62c2622f9370e24": {
          "model_module": "@jupyter-widgets/controls",
          "model_name": "HTMLModel",
          "model_module_version": "1.5.0",
          "state": {
            "_dom_classes": [],
            "_model_module": "@jupyter-widgets/controls",
            "_model_module_version": "1.5.0",
            "_model_name": "HTMLModel",
            "_view_count": null,
            "_view_module": "@jupyter-widgets/controls",
            "_view_module_version": "1.5.0",
            "_view_name": "HTMLView",
            "description": "",
            "description_tooltip": null,
            "layout": "IPY_MODEL_cc46218b053e43289bf26efbd04397a2",
            "placeholder": "​",
            "style": "IPY_MODEL_8fa013a011cb46f08d18e4698b0eb6f1",
            "value": " 13843/13843 [02:26&lt;00:00, 148.53it/s]"
          }
        },
        "b90300e9dac14051923877bf4f8e93eb": {
          "model_module": "@jupyter-widgets/base",
          "model_name": "LayoutModel",
          "model_module_version": "1.2.0",
          "state": {
            "_model_module": "@jupyter-widgets/base",
            "_model_module_version": "1.2.0",
            "_model_name": "LayoutModel",
            "_view_count": null,
            "_view_module": "@jupyter-widgets/base",
            "_view_module_version": "1.2.0",
            "_view_name": "LayoutView",
            "align_content": null,
            "align_items": null,
            "align_self": null,
            "border": null,
            "bottom": null,
            "display": null,
            "flex": null,
            "flex_flow": null,
            "grid_area": null,
            "grid_auto_columns": null,
            "grid_auto_flow": null,
            "grid_auto_rows": null,
            "grid_column": null,
            "grid_gap": null,
            "grid_row": null,
            "grid_template_areas": null,
            "grid_template_columns": null,
            "grid_template_rows": null,
            "height": null,
            "justify_content": null,
            "justify_items": null,
            "left": null,
            "margin": null,
            "max_height": null,
            "max_width": null,
            "min_height": null,
            "min_width": null,
            "object_fit": null,
            "object_position": null,
            "order": null,
            "overflow": null,
            "overflow_x": null,
            "overflow_y": null,
            "padding": null,
            "right": null,
            "top": null,
            "visibility": null,
            "width": null
          }
        },
        "f03d2932474b411893d9ff2449b8d512": {
          "model_module": "@jupyter-widgets/base",
          "model_name": "LayoutModel",
          "model_module_version": "1.2.0",
          "state": {
            "_model_module": "@jupyter-widgets/base",
            "_model_module_version": "1.2.0",
            "_model_name": "LayoutModel",
            "_view_count": null,
            "_view_module": "@jupyter-widgets/base",
            "_view_module_version": "1.2.0",
            "_view_name": "LayoutView",
            "align_content": null,
            "align_items": null,
            "align_self": null,
            "border": null,
            "bottom": null,
            "display": null,
            "flex": null,
            "flex_flow": null,
            "grid_area": null,
            "grid_auto_columns": null,
            "grid_auto_flow": null,
            "grid_auto_rows": null,
            "grid_column": null,
            "grid_gap": null,
            "grid_row": null,
            "grid_template_areas": null,
            "grid_template_columns": null,
            "grid_template_rows": null,
            "height": null,
            "justify_content": null,
            "justify_items": null,
            "left": null,
            "margin": null,
            "max_height": null,
            "max_width": null,
            "min_height": null,
            "min_width": null,
            "object_fit": null,
            "object_position": null,
            "order": null,
            "overflow": null,
            "overflow_x": null,
            "overflow_y": null,
            "padding": null,
            "right": null,
            "top": null,
            "visibility": null,
            "width": null
          }
        },
        "0d66b9ea725245ae859e8c555c67cc9c": {
          "model_module": "@jupyter-widgets/controls",
          "model_name": "DescriptionStyleModel",
          "model_module_version": "1.5.0",
          "state": {
            "_model_module": "@jupyter-widgets/controls",
            "_model_module_version": "1.5.0",
            "_model_name": "DescriptionStyleModel",
            "_view_count": null,
            "_view_module": "@jupyter-widgets/base",
            "_view_module_version": "1.2.0",
            "_view_name": "StyleView",
            "description_width": ""
          }
        },
        "53524d8f143244d5a15df41c4537b34f": {
          "model_module": "@jupyter-widgets/base",
          "model_name": "LayoutModel",
          "model_module_version": "1.2.0",
          "state": {
            "_model_module": "@jupyter-widgets/base",
            "_model_module_version": "1.2.0",
            "_model_name": "LayoutModel",
            "_view_count": null,
            "_view_module": "@jupyter-widgets/base",
            "_view_module_version": "1.2.0",
            "_view_name": "LayoutView",
            "align_content": null,
            "align_items": null,
            "align_self": null,
            "border": null,
            "bottom": null,
            "display": null,
            "flex": null,
            "flex_flow": null,
            "grid_area": null,
            "grid_auto_columns": null,
            "grid_auto_flow": null,
            "grid_auto_rows": null,
            "grid_column": null,
            "grid_gap": null,
            "grid_row": null,
            "grid_template_areas": null,
            "grid_template_columns": null,
            "grid_template_rows": null,
            "height": null,
            "justify_content": null,
            "justify_items": null,
            "left": null,
            "margin": null,
            "max_height": null,
            "max_width": null,
            "min_height": null,
            "min_width": null,
            "object_fit": null,
            "object_position": null,
            "order": null,
            "overflow": null,
            "overflow_x": null,
            "overflow_y": null,
            "padding": null,
            "right": null,
            "top": null,
            "visibility": null,
            "width": null
          }
        },
        "d817e0fe11ef4b39a2cc3201ae290ec0": {
          "model_module": "@jupyter-widgets/controls",
          "model_name": "ProgressStyleModel",
          "model_module_version": "1.5.0",
          "state": {
            "_model_module": "@jupyter-widgets/controls",
            "_model_module_version": "1.5.0",
            "_model_name": "ProgressStyleModel",
            "_view_count": null,
            "_view_module": "@jupyter-widgets/base",
            "_view_module_version": "1.2.0",
            "_view_name": "StyleView",
            "bar_color": null,
            "description_width": ""
          }
        },
        "cc46218b053e43289bf26efbd04397a2": {
          "model_module": "@jupyter-widgets/base",
          "model_name": "LayoutModel",
          "model_module_version": "1.2.0",
          "state": {
            "_model_module": "@jupyter-widgets/base",
            "_model_module_version": "1.2.0",
            "_model_name": "LayoutModel",
            "_view_count": null,
            "_view_module": "@jupyter-widgets/base",
            "_view_module_version": "1.2.0",
            "_view_name": "LayoutView",
            "align_content": null,
            "align_items": null,
            "align_self": null,
            "border": null,
            "bottom": null,
            "display": null,
            "flex": null,
            "flex_flow": null,
            "grid_area": null,
            "grid_auto_columns": null,
            "grid_auto_flow": null,
            "grid_auto_rows": null,
            "grid_column": null,
            "grid_gap": null,
            "grid_row": null,
            "grid_template_areas": null,
            "grid_template_columns": null,
            "grid_template_rows": null,
            "height": null,
            "justify_content": null,
            "justify_items": null,
            "left": null,
            "margin": null,
            "max_height": null,
            "max_width": null,
            "min_height": null,
            "min_width": null,
            "object_fit": null,
            "object_position": null,
            "order": null,
            "overflow": null,
            "overflow_x": null,
            "overflow_y": null,
            "padding": null,
            "right": null,
            "top": null,
            "visibility": null,
            "width": null
          }
        },
        "8fa013a011cb46f08d18e4698b0eb6f1": {
          "model_module": "@jupyter-widgets/controls",
          "model_name": "DescriptionStyleModel",
          "model_module_version": "1.5.0",
          "state": {
            "_model_module": "@jupyter-widgets/controls",
            "_model_module_version": "1.5.0",
            "_model_name": "DescriptionStyleModel",
            "_view_count": null,
            "_view_module": "@jupyter-widgets/base",
            "_view_module_version": "1.2.0",
            "_view_name": "StyleView",
            "description_width": ""
          }
        },
        "d132bf88ce044a76989933fd3942750d": {
          "model_module": "@jupyter-widgets/controls",
          "model_name": "HBoxModel",
          "model_module_version": "1.5.0",
          "state": {
            "_dom_classes": [],
            "_model_module": "@jupyter-widgets/controls",
            "_model_module_version": "1.5.0",
            "_model_name": "HBoxModel",
            "_view_count": null,
            "_view_module": "@jupyter-widgets/controls",
            "_view_module_version": "1.5.0",
            "_view_name": "HBoxView",
            "box_style": "",
            "children": [
              "IPY_MODEL_fe51dd8bd6d64546b017f0e2ab9cb467",
              "IPY_MODEL_b66e578dabec473b9b25551690af83ee",
              "IPY_MODEL_a51cdc1abfcd4fce852eb31792fb11f4"
            ],
            "layout": "IPY_MODEL_65bb0d7d20c74f19b03729ea527431a0"
          }
        },
        "fe51dd8bd6d64546b017f0e2ab9cb467": {
          "model_module": "@jupyter-widgets/controls",
          "model_name": "HTMLModel",
          "model_module_version": "1.5.0",
          "state": {
            "_dom_classes": [],
            "_model_module": "@jupyter-widgets/controls",
            "_model_module_version": "1.5.0",
            "_model_name": "HTMLModel",
            "_view_count": null,
            "_view_module": "@jupyter-widgets/controls",
            "_view_module_version": "1.5.0",
            "_view_name": "HTMLView",
            "description": "",
            "description_tooltip": null,
            "layout": "IPY_MODEL_a969f246e2544616a1f752ca557fbd85",
            "placeholder": "​",
            "style": "IPY_MODEL_4c25be172c454c3594cc603a60184e4e",
            "value": "100%"
          }
        },
        "b66e578dabec473b9b25551690af83ee": {
          "model_module": "@jupyter-widgets/controls",
          "model_name": "FloatProgressModel",
          "model_module_version": "1.5.0",
          "state": {
            "_dom_classes": [],
            "_model_module": "@jupyter-widgets/controls",
            "_model_module_version": "1.5.0",
            "_model_name": "FloatProgressModel",
            "_view_count": null,
            "_view_module": "@jupyter-widgets/controls",
            "_view_module_version": "1.5.0",
            "_view_name": "ProgressView",
            "bar_style": "success",
            "description": "",
            "description_tooltip": null,
            "layout": "IPY_MODEL_c1d47c2b07e44f53a6d0ea7f6bb3a26f",
            "max": 11076,
            "min": 0,
            "orientation": "horizontal",
            "style": "IPY_MODEL_680e901b688d4b14b8e711e6591ce231",
            "value": 11076
          }
        },
        "a51cdc1abfcd4fce852eb31792fb11f4": {
          "model_module": "@jupyter-widgets/controls",
          "model_name": "HTMLModel",
          "model_module_version": "1.5.0",
          "state": {
            "_dom_classes": [],
            "_model_module": "@jupyter-widgets/controls",
            "_model_module_version": "1.5.0",
            "_model_name": "HTMLModel",
            "_view_count": null,
            "_view_module": "@jupyter-widgets/controls",
            "_view_module_version": "1.5.0",
            "_view_name": "HTMLView",
            "description": "",
            "description_tooltip": null,
            "layout": "IPY_MODEL_6b40cdf858a341a58d2189b785d9781f",
            "placeholder": "​",
            "style": "IPY_MODEL_1212c6d8fba34f2fa9a566f974f4df9e",
            "value": " 11076/11076 [01:45&lt;00:00, 79.58it/s]"
          }
        },
        "65bb0d7d20c74f19b03729ea527431a0": {
          "model_module": "@jupyter-widgets/base",
          "model_name": "LayoutModel",
          "model_module_version": "1.2.0",
          "state": {
            "_model_module": "@jupyter-widgets/base",
            "_model_module_version": "1.2.0",
            "_model_name": "LayoutModel",
            "_view_count": null,
            "_view_module": "@jupyter-widgets/base",
            "_view_module_version": "1.2.0",
            "_view_name": "LayoutView",
            "align_content": null,
            "align_items": null,
            "align_self": null,
            "border": null,
            "bottom": null,
            "display": null,
            "flex": null,
            "flex_flow": null,
            "grid_area": null,
            "grid_auto_columns": null,
            "grid_auto_flow": null,
            "grid_auto_rows": null,
            "grid_column": null,
            "grid_gap": null,
            "grid_row": null,
            "grid_template_areas": null,
            "grid_template_columns": null,
            "grid_template_rows": null,
            "height": null,
            "justify_content": null,
            "justify_items": null,
            "left": null,
            "margin": null,
            "max_height": null,
            "max_width": null,
            "min_height": null,
            "min_width": null,
            "object_fit": null,
            "object_position": null,
            "order": null,
            "overflow": null,
            "overflow_x": null,
            "overflow_y": null,
            "padding": null,
            "right": null,
            "top": null,
            "visibility": null,
            "width": null
          }
        },
        "a969f246e2544616a1f752ca557fbd85": {
          "model_module": "@jupyter-widgets/base",
          "model_name": "LayoutModel",
          "model_module_version": "1.2.0",
          "state": {
            "_model_module": "@jupyter-widgets/base",
            "_model_module_version": "1.2.0",
            "_model_name": "LayoutModel",
            "_view_count": null,
            "_view_module": "@jupyter-widgets/base",
            "_view_module_version": "1.2.0",
            "_view_name": "LayoutView",
            "align_content": null,
            "align_items": null,
            "align_self": null,
            "border": null,
            "bottom": null,
            "display": null,
            "flex": null,
            "flex_flow": null,
            "grid_area": null,
            "grid_auto_columns": null,
            "grid_auto_flow": null,
            "grid_auto_rows": null,
            "grid_column": null,
            "grid_gap": null,
            "grid_row": null,
            "grid_template_areas": null,
            "grid_template_columns": null,
            "grid_template_rows": null,
            "height": null,
            "justify_content": null,
            "justify_items": null,
            "left": null,
            "margin": null,
            "max_height": null,
            "max_width": null,
            "min_height": null,
            "min_width": null,
            "object_fit": null,
            "object_position": null,
            "order": null,
            "overflow": null,
            "overflow_x": null,
            "overflow_y": null,
            "padding": null,
            "right": null,
            "top": null,
            "visibility": null,
            "width": null
          }
        },
        "4c25be172c454c3594cc603a60184e4e": {
          "model_module": "@jupyter-widgets/controls",
          "model_name": "DescriptionStyleModel",
          "model_module_version": "1.5.0",
          "state": {
            "_model_module": "@jupyter-widgets/controls",
            "_model_module_version": "1.5.0",
            "_model_name": "DescriptionStyleModel",
            "_view_count": null,
            "_view_module": "@jupyter-widgets/base",
            "_view_module_version": "1.2.0",
            "_view_name": "StyleView",
            "description_width": ""
          }
        },
        "c1d47c2b07e44f53a6d0ea7f6bb3a26f": {
          "model_module": "@jupyter-widgets/base",
          "model_name": "LayoutModel",
          "model_module_version": "1.2.0",
          "state": {
            "_model_module": "@jupyter-widgets/base",
            "_model_module_version": "1.2.0",
            "_model_name": "LayoutModel",
            "_view_count": null,
            "_view_module": "@jupyter-widgets/base",
            "_view_module_version": "1.2.0",
            "_view_name": "LayoutView",
            "align_content": null,
            "align_items": null,
            "align_self": null,
            "border": null,
            "bottom": null,
            "display": null,
            "flex": null,
            "flex_flow": null,
            "grid_area": null,
            "grid_auto_columns": null,
            "grid_auto_flow": null,
            "grid_auto_rows": null,
            "grid_column": null,
            "grid_gap": null,
            "grid_row": null,
            "grid_template_areas": null,
            "grid_template_columns": null,
            "grid_template_rows": null,
            "height": null,
            "justify_content": null,
            "justify_items": null,
            "left": null,
            "margin": null,
            "max_height": null,
            "max_width": null,
            "min_height": null,
            "min_width": null,
            "object_fit": null,
            "object_position": null,
            "order": null,
            "overflow": null,
            "overflow_x": null,
            "overflow_y": null,
            "padding": null,
            "right": null,
            "top": null,
            "visibility": null,
            "width": null
          }
        },
        "680e901b688d4b14b8e711e6591ce231": {
          "model_module": "@jupyter-widgets/controls",
          "model_name": "ProgressStyleModel",
          "model_module_version": "1.5.0",
          "state": {
            "_model_module": "@jupyter-widgets/controls",
            "_model_module_version": "1.5.0",
            "_model_name": "ProgressStyleModel",
            "_view_count": null,
            "_view_module": "@jupyter-widgets/base",
            "_view_module_version": "1.2.0",
            "_view_name": "StyleView",
            "bar_color": null,
            "description_width": ""
          }
        },
        "6b40cdf858a341a58d2189b785d9781f": {
          "model_module": "@jupyter-widgets/base",
          "model_name": "LayoutModel",
          "model_module_version": "1.2.0",
          "state": {
            "_model_module": "@jupyter-widgets/base",
            "_model_module_version": "1.2.0",
            "_model_name": "LayoutModel",
            "_view_count": null,
            "_view_module": "@jupyter-widgets/base",
            "_view_module_version": "1.2.0",
            "_view_name": "LayoutView",
            "align_content": null,
            "align_items": null,
            "align_self": null,
            "border": null,
            "bottom": null,
            "display": null,
            "flex": null,
            "flex_flow": null,
            "grid_area": null,
            "grid_auto_columns": null,
            "grid_auto_flow": null,
            "grid_auto_rows": null,
            "grid_column": null,
            "grid_gap": null,
            "grid_row": null,
            "grid_template_areas": null,
            "grid_template_columns": null,
            "grid_template_rows": null,
            "height": null,
            "justify_content": null,
            "justify_items": null,
            "left": null,
            "margin": null,
            "max_height": null,
            "max_width": null,
            "min_height": null,
            "min_width": null,
            "object_fit": null,
            "object_position": null,
            "order": null,
            "overflow": null,
            "overflow_x": null,
            "overflow_y": null,
            "padding": null,
            "right": null,
            "top": null,
            "visibility": null,
            "width": null
          }
        },
        "1212c6d8fba34f2fa9a566f974f4df9e": {
          "model_module": "@jupyter-widgets/controls",
          "model_name": "DescriptionStyleModel",
          "model_module_version": "1.5.0",
          "state": {
            "_model_module": "@jupyter-widgets/controls",
            "_model_module_version": "1.5.0",
            "_model_name": "DescriptionStyleModel",
            "_view_count": null,
            "_view_module": "@jupyter-widgets/base",
            "_view_module_version": "1.2.0",
            "_view_name": "StyleView",
            "description_width": ""
          }
        },
        "6f447dc2fa214e469639df8062a83fc2": {
          "model_module": "@jupyter-widgets/controls",
          "model_name": "HBoxModel",
          "model_module_version": "1.5.0",
          "state": {
            "_dom_classes": [],
            "_model_module": "@jupyter-widgets/controls",
            "_model_module_version": "1.5.0",
            "_model_name": "HBoxModel",
            "_view_count": null,
            "_view_module": "@jupyter-widgets/controls",
            "_view_module_version": "1.5.0",
            "_view_name": "HBoxView",
            "box_style": "",
            "children": [
              "IPY_MODEL_b0ccebd4c591464e97bd861a5b9cc1a9",
              "IPY_MODEL_a401972833ce49ee987e334404eb63bb",
              "IPY_MODEL_1c010875dbd9495dbadd000837599cdc"
            ],
            "layout": "IPY_MODEL_94f5c98cfcd64ede9be44a6ed677c8c5"
          }
        },
        "b0ccebd4c591464e97bd861a5b9cc1a9": {
          "model_module": "@jupyter-widgets/controls",
          "model_name": "HTMLModel",
          "model_module_version": "1.5.0",
          "state": {
            "_dom_classes": [],
            "_model_module": "@jupyter-widgets/controls",
            "_model_module_version": "1.5.0",
            "_model_name": "HTMLModel",
            "_view_count": null,
            "_view_module": "@jupyter-widgets/controls",
            "_view_module_version": "1.5.0",
            "_view_name": "HTMLView",
            "description": "",
            "description_tooltip": null,
            "layout": "IPY_MODEL_5648437a799b4335941aa24ca2e0564a",
            "placeholder": "​",
            "style": "IPY_MODEL_3a6c14eaf39f48f382ab4c8dd63e2ca4",
            "value": "100%"
          }
        },
        "a401972833ce49ee987e334404eb63bb": {
          "model_module": "@jupyter-widgets/controls",
          "model_name": "FloatProgressModel",
          "model_module_version": "1.5.0",
          "state": {
            "_dom_classes": [],
            "_model_module": "@jupyter-widgets/controls",
            "_model_module_version": "1.5.0",
            "_model_name": "FloatProgressModel",
            "_view_count": null,
            "_view_module": "@jupyter-widgets/controls",
            "_view_module_version": "1.5.0",
            "_view_name": "ProgressView",
            "bar_style": "success",
            "description": "",
            "description_tooltip": null,
            "layout": "IPY_MODEL_41866384997842cdbb05abad9a56ac99",
            "max": 12209,
            "min": 0,
            "orientation": "horizontal",
            "style": "IPY_MODEL_71505680b571499280e2d07867ee2a97",
            "value": 12209
          }
        },
        "1c010875dbd9495dbadd000837599cdc": {
          "model_module": "@jupyter-widgets/controls",
          "model_name": "HTMLModel",
          "model_module_version": "1.5.0",
          "state": {
            "_dom_classes": [],
            "_model_module": "@jupyter-widgets/controls",
            "_model_module_version": "1.5.0",
            "_model_name": "HTMLModel",
            "_view_count": null,
            "_view_module": "@jupyter-widgets/controls",
            "_view_module_version": "1.5.0",
            "_view_name": "HTMLView",
            "description": "",
            "description_tooltip": null,
            "layout": "IPY_MODEL_5f897e0f0be045208a62dab44bfad39d",
            "placeholder": "​",
            "style": "IPY_MODEL_1f71148c54db4ad4ae4942d334379bc1",
            "value": " 12209/12209 [01:47&lt;00:00, 157.42it/s]"
          }
        },
        "94f5c98cfcd64ede9be44a6ed677c8c5": {
          "model_module": "@jupyter-widgets/base",
          "model_name": "LayoutModel",
          "model_module_version": "1.2.0",
          "state": {
            "_model_module": "@jupyter-widgets/base",
            "_model_module_version": "1.2.0",
            "_model_name": "LayoutModel",
            "_view_count": null,
            "_view_module": "@jupyter-widgets/base",
            "_view_module_version": "1.2.0",
            "_view_name": "LayoutView",
            "align_content": null,
            "align_items": null,
            "align_self": null,
            "border": null,
            "bottom": null,
            "display": null,
            "flex": null,
            "flex_flow": null,
            "grid_area": null,
            "grid_auto_columns": null,
            "grid_auto_flow": null,
            "grid_auto_rows": null,
            "grid_column": null,
            "grid_gap": null,
            "grid_row": null,
            "grid_template_areas": null,
            "grid_template_columns": null,
            "grid_template_rows": null,
            "height": null,
            "justify_content": null,
            "justify_items": null,
            "left": null,
            "margin": null,
            "max_height": null,
            "max_width": null,
            "min_height": null,
            "min_width": null,
            "object_fit": null,
            "object_position": null,
            "order": null,
            "overflow": null,
            "overflow_x": null,
            "overflow_y": null,
            "padding": null,
            "right": null,
            "top": null,
            "visibility": null,
            "width": null
          }
        },
        "5648437a799b4335941aa24ca2e0564a": {
          "model_module": "@jupyter-widgets/base",
          "model_name": "LayoutModel",
          "model_module_version": "1.2.0",
          "state": {
            "_model_module": "@jupyter-widgets/base",
            "_model_module_version": "1.2.0",
            "_model_name": "LayoutModel",
            "_view_count": null,
            "_view_module": "@jupyter-widgets/base",
            "_view_module_version": "1.2.0",
            "_view_name": "LayoutView",
            "align_content": null,
            "align_items": null,
            "align_self": null,
            "border": null,
            "bottom": null,
            "display": null,
            "flex": null,
            "flex_flow": null,
            "grid_area": null,
            "grid_auto_columns": null,
            "grid_auto_flow": null,
            "grid_auto_rows": null,
            "grid_column": null,
            "grid_gap": null,
            "grid_row": null,
            "grid_template_areas": null,
            "grid_template_columns": null,
            "grid_template_rows": null,
            "height": null,
            "justify_content": null,
            "justify_items": null,
            "left": null,
            "margin": null,
            "max_height": null,
            "max_width": null,
            "min_height": null,
            "min_width": null,
            "object_fit": null,
            "object_position": null,
            "order": null,
            "overflow": null,
            "overflow_x": null,
            "overflow_y": null,
            "padding": null,
            "right": null,
            "top": null,
            "visibility": null,
            "width": null
          }
        },
        "3a6c14eaf39f48f382ab4c8dd63e2ca4": {
          "model_module": "@jupyter-widgets/controls",
          "model_name": "DescriptionStyleModel",
          "model_module_version": "1.5.0",
          "state": {
            "_model_module": "@jupyter-widgets/controls",
            "_model_module_version": "1.5.0",
            "_model_name": "DescriptionStyleModel",
            "_view_count": null,
            "_view_module": "@jupyter-widgets/base",
            "_view_module_version": "1.2.0",
            "_view_name": "StyleView",
            "description_width": ""
          }
        },
        "41866384997842cdbb05abad9a56ac99": {
          "model_module": "@jupyter-widgets/base",
          "model_name": "LayoutModel",
          "model_module_version": "1.2.0",
          "state": {
            "_model_module": "@jupyter-widgets/base",
            "_model_module_version": "1.2.0",
            "_model_name": "LayoutModel",
            "_view_count": null,
            "_view_module": "@jupyter-widgets/base",
            "_view_module_version": "1.2.0",
            "_view_name": "LayoutView",
            "align_content": null,
            "align_items": null,
            "align_self": null,
            "border": null,
            "bottom": null,
            "display": null,
            "flex": null,
            "flex_flow": null,
            "grid_area": null,
            "grid_auto_columns": null,
            "grid_auto_flow": null,
            "grid_auto_rows": null,
            "grid_column": null,
            "grid_gap": null,
            "grid_row": null,
            "grid_template_areas": null,
            "grid_template_columns": null,
            "grid_template_rows": null,
            "height": null,
            "justify_content": null,
            "justify_items": null,
            "left": null,
            "margin": null,
            "max_height": null,
            "max_width": null,
            "min_height": null,
            "min_width": null,
            "object_fit": null,
            "object_position": null,
            "order": null,
            "overflow": null,
            "overflow_x": null,
            "overflow_y": null,
            "padding": null,
            "right": null,
            "top": null,
            "visibility": null,
            "width": null
          }
        },
        "71505680b571499280e2d07867ee2a97": {
          "model_module": "@jupyter-widgets/controls",
          "model_name": "ProgressStyleModel",
          "model_module_version": "1.5.0",
          "state": {
            "_model_module": "@jupyter-widgets/controls",
            "_model_module_version": "1.5.0",
            "_model_name": "ProgressStyleModel",
            "_view_count": null,
            "_view_module": "@jupyter-widgets/base",
            "_view_module_version": "1.2.0",
            "_view_name": "StyleView",
            "bar_color": null,
            "description_width": ""
          }
        },
        "5f897e0f0be045208a62dab44bfad39d": {
          "model_module": "@jupyter-widgets/base",
          "model_name": "LayoutModel",
          "model_module_version": "1.2.0",
          "state": {
            "_model_module": "@jupyter-widgets/base",
            "_model_module_version": "1.2.0",
            "_model_name": "LayoutModel",
            "_view_count": null,
            "_view_module": "@jupyter-widgets/base",
            "_view_module_version": "1.2.0",
            "_view_name": "LayoutView",
            "align_content": null,
            "align_items": null,
            "align_self": null,
            "border": null,
            "bottom": null,
            "display": null,
            "flex": null,
            "flex_flow": null,
            "grid_area": null,
            "grid_auto_columns": null,
            "grid_auto_flow": null,
            "grid_auto_rows": null,
            "grid_column": null,
            "grid_gap": null,
            "grid_row": null,
            "grid_template_areas": null,
            "grid_template_columns": null,
            "grid_template_rows": null,
            "height": null,
            "justify_content": null,
            "justify_items": null,
            "left": null,
            "margin": null,
            "max_height": null,
            "max_width": null,
            "min_height": null,
            "min_width": null,
            "object_fit": null,
            "object_position": null,
            "order": null,
            "overflow": null,
            "overflow_x": null,
            "overflow_y": null,
            "padding": null,
            "right": null,
            "top": null,
            "visibility": null,
            "width": null
          }
        },
        "1f71148c54db4ad4ae4942d334379bc1": {
          "model_module": "@jupyter-widgets/controls",
          "model_name": "DescriptionStyleModel",
          "model_module_version": "1.5.0",
          "state": {
            "_model_module": "@jupyter-widgets/controls",
            "_model_module_version": "1.5.0",
            "_model_name": "DescriptionStyleModel",
            "_view_count": null,
            "_view_module": "@jupyter-widgets/base",
            "_view_module_version": "1.2.0",
            "_view_name": "StyleView",
            "description_width": ""
          }
        },
        "054ebd91f66c4657b959661b55d02825": {
          "model_module": "@jupyter-widgets/controls",
          "model_name": "HBoxModel",
          "model_module_version": "1.5.0",
          "state": {
            "_dom_classes": [],
            "_model_module": "@jupyter-widgets/controls",
            "_model_module_version": "1.5.0",
            "_model_name": "HBoxModel",
            "_view_count": null,
            "_view_module": "@jupyter-widgets/controls",
            "_view_module_version": "1.5.0",
            "_view_name": "HBoxView",
            "box_style": "",
            "children": [
              "IPY_MODEL_7de99b5c9d564d49884a31ec91584635",
              "IPY_MODEL_bc64f113bc9f4979ac1fd2c3c4cc8253",
              "IPY_MODEL_ad4810e6f9794b0cb31999ab2a1e576c"
            ],
            "layout": "IPY_MODEL_5e3a8837e8044a77bd7d03780439af4b"
          }
        },
        "7de99b5c9d564d49884a31ec91584635": {
          "model_module": "@jupyter-widgets/controls",
          "model_name": "HTMLModel",
          "model_module_version": "1.5.0",
          "state": {
            "_dom_classes": [],
            "_model_module": "@jupyter-widgets/controls",
            "_model_module_version": "1.5.0",
            "_model_name": "HTMLModel",
            "_view_count": null,
            "_view_module": "@jupyter-widgets/controls",
            "_view_module_version": "1.5.0",
            "_view_name": "HTMLView",
            "description": "",
            "description_tooltip": null,
            "layout": "IPY_MODEL_468ed5d8b12c4c95bd867332d14c1378",
            "placeholder": "​",
            "style": "IPY_MODEL_60004b76a46f4061b212223ab8e878d5",
            "value": "100%"
          }
        },
        "bc64f113bc9f4979ac1fd2c3c4cc8253": {
          "model_module": "@jupyter-widgets/controls",
          "model_name": "FloatProgressModel",
          "model_module_version": "1.5.0",
          "state": {
            "_dom_classes": [],
            "_model_module": "@jupyter-widgets/controls",
            "_model_module_version": "1.5.0",
            "_model_name": "FloatProgressModel",
            "_view_count": null,
            "_view_module": "@jupyter-widgets/controls",
            "_view_module_version": "1.5.0",
            "_view_name": "ProgressView",
            "bar_style": "success",
            "description": "",
            "description_tooltip": null,
            "layout": "IPY_MODEL_448ade1a7cba413ea38ef0a81a3b8b20",
            "max": 10024,
            "min": 0,
            "orientation": "horizontal",
            "style": "IPY_MODEL_8f8d76016d6b4661a4c400e6b5a98273",
            "value": 10024
          }
        },
        "ad4810e6f9794b0cb31999ab2a1e576c": {
          "model_module": "@jupyter-widgets/controls",
          "model_name": "HTMLModel",
          "model_module_version": "1.5.0",
          "state": {
            "_dom_classes": [],
            "_model_module": "@jupyter-widgets/controls",
            "_model_module_version": "1.5.0",
            "_model_name": "HTMLModel",
            "_view_count": null,
            "_view_module": "@jupyter-widgets/controls",
            "_view_module_version": "1.5.0",
            "_view_name": "HTMLView",
            "description": "",
            "description_tooltip": null,
            "layout": "IPY_MODEL_89f2ffdd7cad40ce91e7887e5bcfa6fe",
            "placeholder": "​",
            "style": "IPY_MODEL_70962bbfc1784a4cabeccb27de7dc35b",
            "value": " 10024/10024 [01:24&lt;00:00, 154.03it/s]"
          }
        },
        "5e3a8837e8044a77bd7d03780439af4b": {
          "model_module": "@jupyter-widgets/base",
          "model_name": "LayoutModel",
          "model_module_version": "1.2.0",
          "state": {
            "_model_module": "@jupyter-widgets/base",
            "_model_module_version": "1.2.0",
            "_model_name": "LayoutModel",
            "_view_count": null,
            "_view_module": "@jupyter-widgets/base",
            "_view_module_version": "1.2.0",
            "_view_name": "LayoutView",
            "align_content": null,
            "align_items": null,
            "align_self": null,
            "border": null,
            "bottom": null,
            "display": null,
            "flex": null,
            "flex_flow": null,
            "grid_area": null,
            "grid_auto_columns": null,
            "grid_auto_flow": null,
            "grid_auto_rows": null,
            "grid_column": null,
            "grid_gap": null,
            "grid_row": null,
            "grid_template_areas": null,
            "grid_template_columns": null,
            "grid_template_rows": null,
            "height": null,
            "justify_content": null,
            "justify_items": null,
            "left": null,
            "margin": null,
            "max_height": null,
            "max_width": null,
            "min_height": null,
            "min_width": null,
            "object_fit": null,
            "object_position": null,
            "order": null,
            "overflow": null,
            "overflow_x": null,
            "overflow_y": null,
            "padding": null,
            "right": null,
            "top": null,
            "visibility": null,
            "width": null
          }
        },
        "468ed5d8b12c4c95bd867332d14c1378": {
          "model_module": "@jupyter-widgets/base",
          "model_name": "LayoutModel",
          "model_module_version": "1.2.0",
          "state": {
            "_model_module": "@jupyter-widgets/base",
            "_model_module_version": "1.2.0",
            "_model_name": "LayoutModel",
            "_view_count": null,
            "_view_module": "@jupyter-widgets/base",
            "_view_module_version": "1.2.0",
            "_view_name": "LayoutView",
            "align_content": null,
            "align_items": null,
            "align_self": null,
            "border": null,
            "bottom": null,
            "display": null,
            "flex": null,
            "flex_flow": null,
            "grid_area": null,
            "grid_auto_columns": null,
            "grid_auto_flow": null,
            "grid_auto_rows": null,
            "grid_column": null,
            "grid_gap": null,
            "grid_row": null,
            "grid_template_areas": null,
            "grid_template_columns": null,
            "grid_template_rows": null,
            "height": null,
            "justify_content": null,
            "justify_items": null,
            "left": null,
            "margin": null,
            "max_height": null,
            "max_width": null,
            "min_height": null,
            "min_width": null,
            "object_fit": null,
            "object_position": null,
            "order": null,
            "overflow": null,
            "overflow_x": null,
            "overflow_y": null,
            "padding": null,
            "right": null,
            "top": null,
            "visibility": null,
            "width": null
          }
        },
        "60004b76a46f4061b212223ab8e878d5": {
          "model_module": "@jupyter-widgets/controls",
          "model_name": "DescriptionStyleModel",
          "model_module_version": "1.5.0",
          "state": {
            "_model_module": "@jupyter-widgets/controls",
            "_model_module_version": "1.5.0",
            "_model_name": "DescriptionStyleModel",
            "_view_count": null,
            "_view_module": "@jupyter-widgets/base",
            "_view_module_version": "1.2.0",
            "_view_name": "StyleView",
            "description_width": ""
          }
        },
        "448ade1a7cba413ea38ef0a81a3b8b20": {
          "model_module": "@jupyter-widgets/base",
          "model_name": "LayoutModel",
          "model_module_version": "1.2.0",
          "state": {
            "_model_module": "@jupyter-widgets/base",
            "_model_module_version": "1.2.0",
            "_model_name": "LayoutModel",
            "_view_count": null,
            "_view_module": "@jupyter-widgets/base",
            "_view_module_version": "1.2.0",
            "_view_name": "LayoutView",
            "align_content": null,
            "align_items": null,
            "align_self": null,
            "border": null,
            "bottom": null,
            "display": null,
            "flex": null,
            "flex_flow": null,
            "grid_area": null,
            "grid_auto_columns": null,
            "grid_auto_flow": null,
            "grid_auto_rows": null,
            "grid_column": null,
            "grid_gap": null,
            "grid_row": null,
            "grid_template_areas": null,
            "grid_template_columns": null,
            "grid_template_rows": null,
            "height": null,
            "justify_content": null,
            "justify_items": null,
            "left": null,
            "margin": null,
            "max_height": null,
            "max_width": null,
            "min_height": null,
            "min_width": null,
            "object_fit": null,
            "object_position": null,
            "order": null,
            "overflow": null,
            "overflow_x": null,
            "overflow_y": null,
            "padding": null,
            "right": null,
            "top": null,
            "visibility": null,
            "width": null
          }
        },
        "8f8d76016d6b4661a4c400e6b5a98273": {
          "model_module": "@jupyter-widgets/controls",
          "model_name": "ProgressStyleModel",
          "model_module_version": "1.5.0",
          "state": {
            "_model_module": "@jupyter-widgets/controls",
            "_model_module_version": "1.5.0",
            "_model_name": "ProgressStyleModel",
            "_view_count": null,
            "_view_module": "@jupyter-widgets/base",
            "_view_module_version": "1.2.0",
            "_view_name": "StyleView",
            "bar_color": null,
            "description_width": ""
          }
        },
        "89f2ffdd7cad40ce91e7887e5bcfa6fe": {
          "model_module": "@jupyter-widgets/base",
          "model_name": "LayoutModel",
          "model_module_version": "1.2.0",
          "state": {
            "_model_module": "@jupyter-widgets/base",
            "_model_module_version": "1.2.0",
            "_model_name": "LayoutModel",
            "_view_count": null,
            "_view_module": "@jupyter-widgets/base",
            "_view_module_version": "1.2.0",
            "_view_name": "LayoutView",
            "align_content": null,
            "align_items": null,
            "align_self": null,
            "border": null,
            "bottom": null,
            "display": null,
            "flex": null,
            "flex_flow": null,
            "grid_area": null,
            "grid_auto_columns": null,
            "grid_auto_flow": null,
            "grid_auto_rows": null,
            "grid_column": null,
            "grid_gap": null,
            "grid_row": null,
            "grid_template_areas": null,
            "grid_template_columns": null,
            "grid_template_rows": null,
            "height": null,
            "justify_content": null,
            "justify_items": null,
            "left": null,
            "margin": null,
            "max_height": null,
            "max_width": null,
            "min_height": null,
            "min_width": null,
            "object_fit": null,
            "object_position": null,
            "order": null,
            "overflow": null,
            "overflow_x": null,
            "overflow_y": null,
            "padding": null,
            "right": null,
            "top": null,
            "visibility": null,
            "width": null
          }
        },
        "70962bbfc1784a4cabeccb27de7dc35b": {
          "model_module": "@jupyter-widgets/controls",
          "model_name": "DescriptionStyleModel",
          "model_module_version": "1.5.0",
          "state": {
            "_model_module": "@jupyter-widgets/controls",
            "_model_module_version": "1.5.0",
            "_model_name": "DescriptionStyleModel",
            "_view_count": null,
            "_view_module": "@jupyter-widgets/base",
            "_view_module_version": "1.2.0",
            "_view_name": "StyleView",
            "description_width": ""
          }
        }
      }
    }
  },
  "cells": [
    {
      "cell_type": "markdown",
      "source": [
        "# Detetct smoking man\n",
        "This is a classification task to predict smokers based on clinical indications. You can solve it using any algorithm, but I think it will mostly be Catbust).\n",
        "\n",
        "After simply launching a catboost, you can try to play around with the features and parameters of the model to get to first place. Don’t forget that a threshold of 0.5 will not necessarily be optimal: first set up the model using the ROC AUC and Average Precision metrics, and then select the optimal threshold to get the highest F1.\n",
        "\n",
        "EDA (exploratory data analysis) and posting notebooks in the Code section are also encouraged.\n",
        "\n",
        "The model's prediction will be assessed by the F-measure (F1). The F-measure is the harmonic average between precision and recall. The weights for precision and recall are set to the same."
      ],
      "metadata": {
        "id": "7b7qI856vkEV"
      }
    },
    {
      "cell_type": "code",
      "source": [
        "!pip install -q catboost\n",
        "!pip install -q tqdm\n",
        "!pip install -q phik"
      ],
      "metadata": {
        "id": "jUiaoMpltwSF",
        "colab": {
          "base_uri": "https://localhost:8080/"
        },
        "outputId": "bedd8ccf-fe37-478e-b166-9c96352b9ad5"
      },
      "execution_count": 1,
      "outputs": [
        {
          "output_type": "stream",
          "name": "stdout",
          "text": [
            "\u001b[2K     \u001b[90m━━━━━━━━━━━━━━━━━━━━━━━━━━━━━━━━━━━━━━━━\u001b[0m \u001b[32m98.7/98.7 MB\u001b[0m \u001b[31m10.1 MB/s\u001b[0m eta \u001b[36m0:00:00\u001b[0m\n",
            "\u001b[2K     \u001b[90m━━━━━━━━━━━━━━━━━━━━━━━━━━━━━━━━━━━━━━━\u001b[0m \u001b[32m679.5/679.5 kB\u001b[0m \u001b[31m6.5 MB/s\u001b[0m eta \u001b[36m0:00:00\u001b[0m\n",
            "\u001b[?25h"
          ]
        }
      ]
    },
    {
      "cell_type": "code",
      "execution_count": 2,
      "metadata": {
        "id": "kngM84KitTl7",
        "colab": {
          "base_uri": "https://localhost:8080/"
        },
        "outputId": "e316ea2f-7a3e-4c81-dd8e-28f8769f6d6a"
      },
      "outputs": [
        {
          "output_type": "stream",
          "name": "stderr",
          "text": [
            "<ipython-input-2-40e3b6d580c4>:14: TqdmExperimentalWarning: Using `tqdm.autonotebook.tqdm` in notebook mode. Use `tqdm.tqdm` instead to force console mode (e.g. in jupyter console)\n",
            "  from tqdm.autonotebook import tqdm\n"
          ]
        }
      ],
      "source": [
        "import pandas as pd\n",
        "import numpy as np\n",
        "\n",
        "import matplotlib.pyplot as plt\n",
        "plt.style.use('dark_background')\n",
        "\n",
        "from sklearn.metrics import f1_score\n",
        "from sklearn.model_selection import train_test_split\n",
        "from sklearn.metrics import confusion_matrix, ConfusionMatrixDisplay, \\\n",
        "                            classification_report, roc_auc_score, log_loss\n",
        "\n",
        "from catboost import CatBoostClassifier, Pool, cv\n",
        "\n",
        "from tqdm.autonotebook import tqdm\n",
        "\n",
        "import phik"
      ]
    },
    {
      "cell_type": "markdown",
      "source": [
        "# Download and read data"
      ],
      "metadata": {
        "id": "C-j8nOj0ylyV"
      }
    },
    {
      "cell_type": "markdown",
      "source": [
        "https://drive.google.com/file/d/1AOx2EfKZKzTCYpV4PInhZ9J3CJbKwbWg/view?usp=drive_link"
      ],
      "metadata": {
        "id": "D8mmy-Uq3fs6"
      }
    },
    {
      "cell_type": "code",
      "source": [
        "! gdown 1AOx2EfKZKzTCYpV4PInhZ9J3CJbKwbWg\n",
        "! unzip -o /content/leopard-challenge-classification.zip -d /content/smoke"
      ],
      "metadata": {
        "colab": {
          "base_uri": "https://localhost:8080/"
        },
        "id": "DT0ouds9tma1",
        "outputId": "c7e65048-4976-4e16-b746-bc4969818829"
      },
      "execution_count": 3,
      "outputs": [
        {
          "output_type": "stream",
          "name": "stdout",
          "text": [
            "Downloading...\n",
            "From: https://drive.google.com/uc?id=1AOx2EfKZKzTCYpV4PInhZ9J3CJbKwbWg\n",
            "To: /content/leopard-challenge-classification.zip\n",
            "\r  0% 0.00/639k [00:00<?, ?B/s]\r100% 639k/639k [00:00<00:00, 83.5MB/s]\n",
            "Archive:  /content/leopard-challenge-classification.zip\n",
            "  inflating: /content/smoke/sample_submission.csv  \n",
            "  inflating: /content/smoke/test.csv  \n",
            "  inflating: /content/smoke/train.csv  \n"
          ]
        }
      ]
    },
    {
      "cell_type": "code",
      "source": [
        "df = pd.read_csv(\"/content/smoke/train.csv\")\n",
        "test = pd.read_csv(\"/content/smoke/test.csv\")"
      ],
      "metadata": {
        "id": "_DEicngdvucu"
      },
      "execution_count": 4,
      "outputs": []
    },
    {
      "cell_type": "markdown",
      "source": [
        "# Verify data"
      ],
      "metadata": {
        "id": "uJS81qHYzGnK"
      }
    },
    {
      "cell_type": "code",
      "source": [
        "df.columns"
      ],
      "metadata": {
        "colab": {
          "base_uri": "https://localhost:8080/"
        },
        "id": "O-tsocavzwIK",
        "outputId": "cbc05848-3fbb-4783-a6ce-6f468f087a8a"
      },
      "execution_count": 5,
      "outputs": [
        {
          "output_type": "execute_result",
          "data": {
            "text/plain": [
              "Index(['ID', 'age', 'height(cm)', 'weight(kg)', 'waist(cm)', 'eyesight(left)',\n",
              "       'eyesight(right)', 'hearing(left)', 'hearing(right)', 'systolic',\n",
              "       'relaxation', 'fasting blood sugar', 'Cholesterol', 'triglyceride',\n",
              "       'HDL', 'LDL', 'hemoglobin', 'Urine protein', 'serum creatinine', 'AST',\n",
              "       'ALT', 'Gtp', 'oral', 'dental caries', 'tartar', 'smoking'],\n",
              "      dtype='object')"
            ]
          },
          "metadata": {},
          "execution_count": 5
        }
      ]
    },
    {
      "cell_type": "code",
      "source": [
        "test.columns"
      ],
      "metadata": {
        "id": "30X2zDV1wShK",
        "colab": {
          "base_uri": "https://localhost:8080/"
        },
        "outputId": "5a02b7e5-6d15-44ab-e5c8-ea3ea15dbad8"
      },
      "execution_count": 6,
      "outputs": [
        {
          "output_type": "execute_result",
          "data": {
            "text/plain": [
              "Index(['ID', 'age', 'height(cm)', 'weight(kg)', 'waist(cm)', 'eyesight(left)',\n",
              "       'eyesight(right)', 'hearing(left)', 'hearing(right)', 'systolic',\n",
              "       'relaxation', 'fasting blood sugar', 'Cholesterol', 'triglyceride',\n",
              "       'HDL', 'LDL', 'hemoglobin', 'Urine protein', 'serum creatinine', 'AST',\n",
              "       'ALT', 'Gtp', 'oral', 'dental caries', 'tartar'],\n",
              "      dtype='object')"
            ]
          },
          "metadata": {},
          "execution_count": 6
        }
      ]
    },
    {
      "cell_type": "markdown",
      "source": [
        "# Format columns name"
      ],
      "metadata": {
        "id": "c3lFraGf5kJd"
      }
    },
    {
      "cell_type": "code",
      "source": [
        "df.columns = df.columns.str.lower()\n",
        "test.columns = test.columns.str.lower()\n",
        "\n",
        "df.columns = [\n",
        "    col.replace('(', '_').replace(')', '').replace(' ', '_')\n",
        "    for col in df.columns\n",
        "]\n",
        "\n",
        "test.columns = [\n",
        "    col.replace('(', '_').replace(')', '').replace(' ', '_')\n",
        "    for col in test.columns\n",
        "]"
      ],
      "metadata": {
        "id": "-2RgnNVN5iH2"
      },
      "execution_count": 7,
      "outputs": []
    },
    {
      "cell_type": "code",
      "source": [
        "df.columns"
      ],
      "metadata": {
        "colab": {
          "base_uri": "https://localhost:8080/"
        },
        "id": "NjRvrcCl6m6t",
        "outputId": "6f672d43-e6d8-4ea5-e5f3-7ff041f318bb"
      },
      "execution_count": 8,
      "outputs": [
        {
          "output_type": "execute_result",
          "data": {
            "text/plain": [
              "Index(['id', 'age', 'height_cm', 'weight_kg', 'waist_cm', 'eyesight_left',\n",
              "       'eyesight_right', 'hearing_left', 'hearing_right', 'systolic',\n",
              "       'relaxation', 'fasting_blood_sugar', 'cholesterol', 'triglyceride',\n",
              "       'hdl', 'ldl', 'hemoglobin', 'urine_protein', 'serum_creatinine', 'ast',\n",
              "       'alt', 'gtp', 'oral', 'dental_caries', 'tartar', 'smoking'],\n",
              "      dtype='object')"
            ]
          },
          "metadata": {},
          "execution_count": 8
        }
      ]
    },
    {
      "cell_type": "code",
      "source": [
        "df.dtypes"
      ],
      "metadata": {
        "colab": {
          "base_uri": "https://localhost:8080/"
        },
        "id": "sVz-e-rV1kz6",
        "outputId": "9bc5a508-05bd-4fdb-f464-c77e9adf4b08"
      },
      "execution_count": 9,
      "outputs": [
        {
          "output_type": "execute_result",
          "data": {
            "text/plain": [
              "id                       int64\n",
              "age                      int64\n",
              "height_cm                int64\n",
              "weight_kg                int64\n",
              "waist_cm               float64\n",
              "eyesight_left          float64\n",
              "eyesight_right         float64\n",
              "hearing_left           float64\n",
              "hearing_right          float64\n",
              "systolic               float64\n",
              "relaxation             float64\n",
              "fasting_blood_sugar    float64\n",
              "cholesterol            float64\n",
              "triglyceride           float64\n",
              "hdl                    float64\n",
              "ldl                    float64\n",
              "hemoglobin             float64\n",
              "urine_protein          float64\n",
              "serum_creatinine       float64\n",
              "ast                    float64\n",
              "alt                    float64\n",
              "gtp                    float64\n",
              "oral                    object\n",
              "dental_caries            int64\n",
              "tartar                  object\n",
              "smoking                  int64\n",
              "dtype: object"
            ]
          },
          "metadata": {},
          "execution_count": 9
        }
      ]
    },
    {
      "cell_type": "code",
      "source": [
        "df.isna().mean()"
      ],
      "metadata": {
        "colab": {
          "base_uri": "https://localhost:8080/"
        },
        "id": "8NZQyyXU4Uxb",
        "outputId": "9b0ea88d-a16f-4c01-d29e-3a1495c67cf7"
      },
      "execution_count": 10,
      "outputs": [
        {
          "output_type": "execute_result",
          "data": {
            "text/plain": [
              "id                     0.0\n",
              "age                    0.0\n",
              "height_cm              0.0\n",
              "weight_kg              0.0\n",
              "waist_cm               0.0\n",
              "eyesight_left          0.0\n",
              "eyesight_right         0.0\n",
              "hearing_left           0.0\n",
              "hearing_right          0.0\n",
              "systolic               0.0\n",
              "relaxation             0.0\n",
              "fasting_blood_sugar    0.0\n",
              "cholesterol            0.0\n",
              "triglyceride           0.0\n",
              "hdl                    0.0\n",
              "ldl                    0.0\n",
              "hemoglobin             0.0\n",
              "urine_protein          0.0\n",
              "serum_creatinine       0.0\n",
              "ast                    0.0\n",
              "alt                    0.0\n",
              "gtp                    0.0\n",
              "oral                   0.0\n",
              "dental_caries          0.0\n",
              "tartar                 0.0\n",
              "smoking                0.0\n",
              "dtype: float64"
            ]
          },
          "metadata": {},
          "execution_count": 10
        }
      ]
    },
    {
      "cell_type": "code",
      "source": [
        "test.isna().mean()"
      ],
      "metadata": {
        "colab": {
          "base_uri": "https://localhost:8080/"
        },
        "id": "1n1A0k5Vz9Ln",
        "outputId": "4ced0dff-2767-47df-8d26-0b0cf5b3e2d5"
      },
      "execution_count": 11,
      "outputs": [
        {
          "output_type": "execute_result",
          "data": {
            "text/plain": [
              "id                     0.0\n",
              "age                    0.0\n",
              "height_cm              0.0\n",
              "weight_kg              0.0\n",
              "waist_cm               0.0\n",
              "eyesight_left          0.0\n",
              "eyesight_right         0.0\n",
              "hearing_left           0.0\n",
              "hearing_right          0.0\n",
              "systolic               0.0\n",
              "relaxation             0.0\n",
              "fasting_blood_sugar    0.0\n",
              "cholesterol            0.0\n",
              "triglyceride           0.0\n",
              "hdl                    0.0\n",
              "ldl                    0.0\n",
              "hemoglobin             0.0\n",
              "urine_protein          0.0\n",
              "serum_creatinine       0.0\n",
              "ast                    0.0\n",
              "alt                    0.0\n",
              "gtp                    0.0\n",
              "oral                   0.0\n",
              "dental_caries          0.0\n",
              "tartar                 0.0\n",
              "dtype: float64"
            ]
          },
          "metadata": {},
          "execution_count": 11
        }
      ]
    },
    {
      "cell_type": "code",
      "source": [
        "df.smoking.mean()"
      ],
      "metadata": {
        "colab": {
          "base_uri": "https://localhost:8080/"
        },
        "id": "4CoY8jsR28jX",
        "outputId": "9ce160a5-ce75-4314-a274-34b4a99a616a"
      },
      "execution_count": 12,
      "outputs": [
        {
          "output_type": "execute_result",
          "data": {
            "text/plain": [
              "0.20197648416648634"
            ]
          },
          "metadata": {},
          "execution_count": 12
        }
      ]
    },
    {
      "cell_type": "code",
      "source": [
        "df.select_dtypes(include='object').columns"
      ],
      "metadata": {
        "colab": {
          "base_uri": "https://localhost:8080/"
        },
        "id": "TbinQ_kq4c2p",
        "outputId": "545aa4ce-e3f8-463d-cab3-ca8c51c763cb"
      },
      "execution_count": 13,
      "outputs": [
        {
          "output_type": "execute_result",
          "data": {
            "text/plain": [
              "Index(['oral', 'tartar'], dtype='object')"
            ]
          },
          "metadata": {},
          "execution_count": 13
        }
      ]
    },
    {
      "cell_type": "code",
      "source": [
        "df['oral'].nunique()"
      ],
      "metadata": {
        "colab": {
          "base_uri": "https://localhost:8080/"
        },
        "id": "18XgmGSG0V03",
        "outputId": "bdd5221e-b05d-40e8-8505-8298b1aed7d0"
      },
      "execution_count": 14,
      "outputs": [
        {
          "output_type": "execute_result",
          "data": {
            "text/plain": [
              "1"
            ]
          },
          "metadata": {},
          "execution_count": 14
        }
      ]
    },
    {
      "cell_type": "markdown",
      "source": [
        "df['oral'] is constant and not usefull, should exclude from model learning."
      ],
      "metadata": {
        "id": "xIoa2mxP4Vbc"
      }
    },
    {
      "cell_type": "code",
      "source": [
        "df['tartar'].nunique()"
      ],
      "metadata": {
        "colab": {
          "base_uri": "https://localhost:8080/"
        },
        "id": "ZwE6UVlr0X0R",
        "outputId": "3d2a002b-0612-4047-a1f6-e44d2041dc1a"
      },
      "execution_count": 15,
      "outputs": [
        {
          "output_type": "execute_result",
          "data": {
            "text/plain": [
              "2"
            ]
          },
          "metadata": {},
          "execution_count": 15
        }
      ]
    },
    {
      "cell_type": "markdown",
      "source": [
        "# Phik correlation\n",
        "## Check correlation between features"
      ],
      "metadata": {
        "id": "VVvlUMKE9-NJ"
      }
    },
    {
      "cell_type": "code",
      "source": [
        "phik_overview = df.phik_matrix()\n",
        "phik_overview['smoking'].sort_values(ascending=False).round(3)"
      ],
      "metadata": {
        "id": "pjYL1BMSyash",
        "colab": {
          "base_uri": "https://localhost:8080/"
        },
        "outputId": "360fced2-3173-4ea1-9102-adcf6a54c178"
      },
      "execution_count": 16,
      "outputs": [
        {
          "output_type": "stream",
          "name": "stdout",
          "text": [
            "interval columns not set, guessing: ['id', 'age', 'height_cm', 'weight_kg', 'waist_cm', 'eyesight_left', 'eyesight_right', 'hearing_left', 'hearing_right', 'systolic', 'relaxation', 'fasting_blood_sugar', 'cholesterol', 'triglyceride', 'hdl', 'ldl', 'hemoglobin', 'urine_protein', 'serum_creatinine', 'ast', 'alt', 'gtp', 'dental_caries', 'smoking']\n"
          ]
        },
        {
          "output_type": "stream",
          "name": "stderr",
          "text": [
            "/usr/local/lib/python3.10/dist-packages/phik/data_quality.py:82: UserWarning: Not enough unique value for variable oral for analysis 1. Dropping this column\n",
            "  warnings.warn(\n"
          ]
        },
        {
          "output_type": "execute_result",
          "data": {
            "text/plain": [
              "smoking                1.000\n",
              "triglyceride           0.191\n",
              "age                    0.183\n",
              "gtp                    0.143\n",
              "hemoglobin             0.112\n",
              "tartar                 0.104\n",
              "dental_caries          0.089\n",
              "waist_cm               0.063\n",
              "serum_creatinine       0.056\n",
              "hdl                    0.051\n",
              "weight_kg              0.043\n",
              "fasting_blood_sugar    0.042\n",
              "hearing_left           0.035\n",
              "height_cm              0.035\n",
              "urine_protein          0.031\n",
              "hearing_right          0.025\n",
              "relaxation             0.023\n",
              "ldl                    0.022\n",
              "systolic               0.016\n",
              "cholesterol            0.016\n",
              "alt                    0.015\n",
              "ast                    0.002\n",
              "eyesight_right         0.000\n",
              "eyesight_left          0.000\n",
              "id                     0.000\n",
              "Name: smoking, dtype: float64"
            ]
          },
          "metadata": {},
          "execution_count": 16
        }
      ]
    },
    {
      "cell_type": "code",
      "source": [
        "def phik_corr_features(arr: list, feature: str) -> pd.DataFrame:\n",
        "    '''\n",
        "    The function is applied to enter the list of predictors,\n",
        "    determines the date and time, where in the cells is the coefficient\n",
        "    matching phik with built-in variable 'feature'\n",
        "    '''\n",
        "    table = df[arr + [feature]]\\\n",
        "    .phik_matrix()[feature].to_frame()\\\n",
        "    .sort_values(feature, ascending=False).round(2)\n",
        "    return table.iloc[1:, :]"
      ],
      "metadata": {
        "id": "CyKKIppD98eY"
      },
      "execution_count": 17,
      "outputs": []
    },
    {
      "cell_type": "markdown",
      "source": [
        "#Derived features\n",
        "###These derived features can help the model better capture the relationships between various indicators and the target variable \"smoking.\"\n",
        "Each new metric to categorize into five groups: Very Good, Good, Average, Poor, and Very Poor. Keep in mind that these ranges are indicative, and based on this specific dataset and requirements. These ranges should help you categorize the derived metrics into the specified groups, allowing for further analysis or modeling based on the categorized data. Adjust the ranges as needed to fit the specific characteristics of your dataset and the context of your analysis.\n"
      ],
      "metadata": {
        "id": "g43O7X_q_MCM"
      }
    },
    {
      "cell_type": "markdown",
      "source": [
        "##1. Body Mass Index (BMI):\n",
        "\n",
        "   <b><i>BMI = weight(kg) / (height(cm) / 100)^2</i></b>\n",
        "\n",
        "   BMI is an important indicator for analyzing the relationship between weight and height of an individual.\n",
        "\n",
        "  Body Mass Index (BMI):\n",
        "   - Very Good: < 18.5 (Underweight)\n",
        "   - Good: 18.5 - 24.9 (Normal Weight)\n",
        "   - Average: 25 - 29.9 (Overweight)\n",
        "   - Poor: 30 - 34.9 (Obese Class I)\n",
        "   - Very Poor: ≥ 35 (Obese Class II+)\n",
        "\n"
      ],
      "metadata": {
        "id": "KAG6mrSio_pd"
      }
    },
    {
      "cell_type": "code",
      "source": [
        "phik_corr_features(['height_cm', 'weight_kg', 'waist_cm'], 'smoking')"
      ],
      "metadata": {
        "colab": {
          "base_uri": "https://localhost:8080/",
          "height": 161
        },
        "id": "kpUeGI8iEYdW",
        "outputId": "5512e135-cf88-4354-c882-81f1000ec9cf"
      },
      "execution_count": 18,
      "outputs": [
        {
          "output_type": "stream",
          "name": "stdout",
          "text": [
            "interval columns not set, guessing: ['height_cm', 'weight_kg', 'waist_cm', 'smoking']\n"
          ]
        },
        {
          "output_type": "execute_result",
          "data": {
            "text/plain": [
              "           smoking\n",
              "waist_cm      0.06\n",
              "weight_kg     0.04\n",
              "height_cm     0.04"
            ],
            "text/html": [
              "\n",
              "  <div id=\"df-b99a2fc2-88df-4458-83d9-4058342b30bb\" class=\"colab-df-container\">\n",
              "    <div>\n",
              "<style scoped>\n",
              "    .dataframe tbody tr th:only-of-type {\n",
              "        vertical-align: middle;\n",
              "    }\n",
              "\n",
              "    .dataframe tbody tr th {\n",
              "        vertical-align: top;\n",
              "    }\n",
              "\n",
              "    .dataframe thead th {\n",
              "        text-align: right;\n",
              "    }\n",
              "</style>\n",
              "<table border=\"1\" class=\"dataframe\">\n",
              "  <thead>\n",
              "    <tr style=\"text-align: right;\">\n",
              "      <th></th>\n",
              "      <th>smoking</th>\n",
              "    </tr>\n",
              "  </thead>\n",
              "  <tbody>\n",
              "    <tr>\n",
              "      <th>waist_cm</th>\n",
              "      <td>0.06</td>\n",
              "    </tr>\n",
              "    <tr>\n",
              "      <th>weight_kg</th>\n",
              "      <td>0.04</td>\n",
              "    </tr>\n",
              "    <tr>\n",
              "      <th>height_cm</th>\n",
              "      <td>0.04</td>\n",
              "    </tr>\n",
              "  </tbody>\n",
              "</table>\n",
              "</div>\n",
              "    <div class=\"colab-df-buttons\">\n",
              "\n",
              "  <div class=\"colab-df-container\">\n",
              "    <button class=\"colab-df-convert\" onclick=\"convertToInteractive('df-b99a2fc2-88df-4458-83d9-4058342b30bb')\"\n",
              "            title=\"Convert this dataframe to an interactive table.\"\n",
              "            style=\"display:none;\">\n",
              "\n",
              "  <svg xmlns=\"http://www.w3.org/2000/svg\" height=\"24px\" viewBox=\"0 -960 960 960\">\n",
              "    <path d=\"M120-120v-720h720v720H120Zm60-500h600v-160H180v160Zm220 220h160v-160H400v160Zm0 220h160v-160H400v160ZM180-400h160v-160H180v160Zm440 0h160v-160H620v160ZM180-180h160v-160H180v160Zm440 0h160v-160H620v160Z\"/>\n",
              "  </svg>\n",
              "    </button>\n",
              "\n",
              "  <style>\n",
              "    .colab-df-container {\n",
              "      display:flex;\n",
              "      gap: 12px;\n",
              "    }\n",
              "\n",
              "    .colab-df-convert {\n",
              "      background-color: #E8F0FE;\n",
              "      border: none;\n",
              "      border-radius: 50%;\n",
              "      cursor: pointer;\n",
              "      display: none;\n",
              "      fill: #1967D2;\n",
              "      height: 32px;\n",
              "      padding: 0 0 0 0;\n",
              "      width: 32px;\n",
              "    }\n",
              "\n",
              "    .colab-df-convert:hover {\n",
              "      background-color: #E2EBFA;\n",
              "      box-shadow: 0px 1px 2px rgba(60, 64, 67, 0.3), 0px 1px 3px 1px rgba(60, 64, 67, 0.15);\n",
              "      fill: #174EA6;\n",
              "    }\n",
              "\n",
              "    .colab-df-buttons div {\n",
              "      margin-bottom: 4px;\n",
              "    }\n",
              "\n",
              "    [theme=dark] .colab-df-convert {\n",
              "      background-color: #3B4455;\n",
              "      fill: #D2E3FC;\n",
              "    }\n",
              "\n",
              "    [theme=dark] .colab-df-convert:hover {\n",
              "      background-color: #434B5C;\n",
              "      box-shadow: 0px 1px 3px 1px rgba(0, 0, 0, 0.15);\n",
              "      filter: drop-shadow(0px 1px 2px rgba(0, 0, 0, 0.3));\n",
              "      fill: #FFFFFF;\n",
              "    }\n",
              "  </style>\n",
              "\n",
              "    <script>\n",
              "      const buttonEl =\n",
              "        document.querySelector('#df-b99a2fc2-88df-4458-83d9-4058342b30bb button.colab-df-convert');\n",
              "      buttonEl.style.display =\n",
              "        google.colab.kernel.accessAllowed ? 'block' : 'none';\n",
              "\n",
              "      async function convertToInteractive(key) {\n",
              "        const element = document.querySelector('#df-b99a2fc2-88df-4458-83d9-4058342b30bb');\n",
              "        const dataTable =\n",
              "          await google.colab.kernel.invokeFunction('convertToInteractive',\n",
              "                                                    [key], {});\n",
              "        if (!dataTable) return;\n",
              "\n",
              "        const docLinkHtml = 'Like what you see? Visit the ' +\n",
              "          '<a target=\"_blank\" href=https://colab.research.google.com/notebooks/data_table.ipynb>data table notebook</a>'\n",
              "          + ' to learn more about interactive tables.';\n",
              "        element.innerHTML = '';\n",
              "        dataTable['output_type'] = 'display_data';\n",
              "        await google.colab.output.renderOutput(dataTable, element);\n",
              "        const docLink = document.createElement('div');\n",
              "        docLink.innerHTML = docLinkHtml;\n",
              "        element.appendChild(docLink);\n",
              "      }\n",
              "    </script>\n",
              "  </div>\n",
              "\n",
              "\n",
              "<div id=\"df-9ce4200a-11c1-4074-9f2a-64a30908c9b5\">\n",
              "  <button class=\"colab-df-quickchart\" onclick=\"quickchart('df-9ce4200a-11c1-4074-9f2a-64a30908c9b5')\"\n",
              "            title=\"Suggest charts.\"\n",
              "            style=\"display:none;\">\n",
              "\n",
              "<svg xmlns=\"http://www.w3.org/2000/svg\" height=\"24px\"viewBox=\"0 0 24 24\"\n",
              "     width=\"24px\">\n",
              "    <g>\n",
              "        <path d=\"M19 3H5c-1.1 0-2 .9-2 2v14c0 1.1.9 2 2 2h14c1.1 0 2-.9 2-2V5c0-1.1-.9-2-2-2zM9 17H7v-7h2v7zm4 0h-2V7h2v10zm4 0h-2v-4h2v4z\"/>\n",
              "    </g>\n",
              "</svg>\n",
              "  </button>\n",
              "\n",
              "<style>\n",
              "  .colab-df-quickchart {\n",
              "      --bg-color: #E8F0FE;\n",
              "      --fill-color: #1967D2;\n",
              "      --hover-bg-color: #E2EBFA;\n",
              "      --hover-fill-color: #174EA6;\n",
              "      --disabled-fill-color: #AAA;\n",
              "      --disabled-bg-color: #DDD;\n",
              "  }\n",
              "\n",
              "  [theme=dark] .colab-df-quickchart {\n",
              "      --bg-color: #3B4455;\n",
              "      --fill-color: #D2E3FC;\n",
              "      --hover-bg-color: #434B5C;\n",
              "      --hover-fill-color: #FFFFFF;\n",
              "      --disabled-bg-color: #3B4455;\n",
              "      --disabled-fill-color: #666;\n",
              "  }\n",
              "\n",
              "  .colab-df-quickchart {\n",
              "    background-color: var(--bg-color);\n",
              "    border: none;\n",
              "    border-radius: 50%;\n",
              "    cursor: pointer;\n",
              "    display: none;\n",
              "    fill: var(--fill-color);\n",
              "    height: 32px;\n",
              "    padding: 0;\n",
              "    width: 32px;\n",
              "  }\n",
              "\n",
              "  .colab-df-quickchart:hover {\n",
              "    background-color: var(--hover-bg-color);\n",
              "    box-shadow: 0 1px 2px rgba(60, 64, 67, 0.3), 0 1px 3px 1px rgba(60, 64, 67, 0.15);\n",
              "    fill: var(--button-hover-fill-color);\n",
              "  }\n",
              "\n",
              "  .colab-df-quickchart-complete:disabled,\n",
              "  .colab-df-quickchart-complete:disabled:hover {\n",
              "    background-color: var(--disabled-bg-color);\n",
              "    fill: var(--disabled-fill-color);\n",
              "    box-shadow: none;\n",
              "  }\n",
              "\n",
              "  .colab-df-spinner {\n",
              "    border: 2px solid var(--fill-color);\n",
              "    border-color: transparent;\n",
              "    border-bottom-color: var(--fill-color);\n",
              "    animation:\n",
              "      spin 1s steps(1) infinite;\n",
              "  }\n",
              "\n",
              "  @keyframes spin {\n",
              "    0% {\n",
              "      border-color: transparent;\n",
              "      border-bottom-color: var(--fill-color);\n",
              "      border-left-color: var(--fill-color);\n",
              "    }\n",
              "    20% {\n",
              "      border-color: transparent;\n",
              "      border-left-color: var(--fill-color);\n",
              "      border-top-color: var(--fill-color);\n",
              "    }\n",
              "    30% {\n",
              "      border-color: transparent;\n",
              "      border-left-color: var(--fill-color);\n",
              "      border-top-color: var(--fill-color);\n",
              "      border-right-color: var(--fill-color);\n",
              "    }\n",
              "    40% {\n",
              "      border-color: transparent;\n",
              "      border-right-color: var(--fill-color);\n",
              "      border-top-color: var(--fill-color);\n",
              "    }\n",
              "    60% {\n",
              "      border-color: transparent;\n",
              "      border-right-color: var(--fill-color);\n",
              "    }\n",
              "    80% {\n",
              "      border-color: transparent;\n",
              "      border-right-color: var(--fill-color);\n",
              "      border-bottom-color: var(--fill-color);\n",
              "    }\n",
              "    90% {\n",
              "      border-color: transparent;\n",
              "      border-bottom-color: var(--fill-color);\n",
              "    }\n",
              "  }\n",
              "</style>\n",
              "\n",
              "  <script>\n",
              "    async function quickchart(key) {\n",
              "      const quickchartButtonEl =\n",
              "        document.querySelector('#' + key + ' button');\n",
              "      quickchartButtonEl.disabled = true;  // To prevent multiple clicks.\n",
              "      quickchartButtonEl.classList.add('colab-df-spinner');\n",
              "      try {\n",
              "        const charts = await google.colab.kernel.invokeFunction(\n",
              "            'suggestCharts', [key], {});\n",
              "      } catch (error) {\n",
              "        console.error('Error during call to suggestCharts:', error);\n",
              "      }\n",
              "      quickchartButtonEl.classList.remove('colab-df-spinner');\n",
              "      quickchartButtonEl.classList.add('colab-df-quickchart-complete');\n",
              "    }\n",
              "    (() => {\n",
              "      let quickchartButtonEl =\n",
              "        document.querySelector('#df-9ce4200a-11c1-4074-9f2a-64a30908c9b5 button');\n",
              "      quickchartButtonEl.style.display =\n",
              "        google.colab.kernel.accessAllowed ? 'block' : 'none';\n",
              "    })();\n",
              "  </script>\n",
              "</div>\n",
              "    </div>\n",
              "  </div>\n"
            ]
          },
          "metadata": {},
          "execution_count": 18
        }
      ]
    },
    {
      "cell_type": "code",
      "source": [
        "ch = df['weight_kg'] / (df['height_cm'] / 100)**2\n",
        "ch.describe()"
      ],
      "metadata": {
        "colab": {
          "base_uri": "https://localhost:8080/"
        },
        "id": "d_j-2Wm0qlfV",
        "outputId": "bfcfcf7b-2188-4b37-deb0-7ba1d823f625"
      },
      "execution_count": 19,
      "outputs": [
        {
          "output_type": "execute_result",
          "data": {
            "text/plain": [
              "count    13863.000000\n",
              "mean        24.726227\n",
              "std          3.298263\n",
              "min         14.692378\n",
              "25%         22.491349\n",
              "50%         24.221453\n",
              "75%         26.234568\n",
              "max         42.448980\n",
              "dtype: float64"
            ]
          },
          "metadata": {},
          "execution_count": 19
        }
      ]
    },
    {
      "cell_type": "code",
      "source": [
        "ch.hist()"
      ],
      "metadata": {
        "colab": {
          "base_uri": "https://localhost:8080/",
          "height": 447
        },
        "id": "17MMDFX6qsVu",
        "outputId": "c16f150e-bd0b-4a0c-fe7a-6e5d0040e785"
      },
      "execution_count": 20,
      "outputs": [
        {
          "output_type": "execute_result",
          "data": {
            "text/plain": [
              "<Axes: >"
            ]
          },
          "metadata": {},
          "execution_count": 20
        },
        {
          "output_type": "display_data",
          "data": {
            "text/plain": [
              "<Figure size 640x480 with 1 Axes>"
            ],
            "image/png": "[encoded data removed]"
          },
          "metadata": {}
        }
      ]
    },
    {
      "cell_type": "code",
      "source": [
        "def add_cat_bmi(df):\n",
        "\n",
        "  df['bmi'] = df['weight_kg'] / (df['height_cm'] / 100)**2\n",
        "\n",
        "  ranges = [0, 18.5, 24.9, 29.9, 34.9, float('inf')]\n",
        "  categories = ['very_good', 'good', 'average', 'poor', 'very_poor']\n",
        "  df['cat_bmi'] = pd.cut(df['bmi'], bins=ranges, labels=categories)\n"
      ],
      "metadata": {
        "id": "SWE5xWhcDQow"
      },
      "execution_count": 21,
      "outputs": []
    },
    {
      "cell_type": "code",
      "source": [
        "add_cat_bmi(df)\n",
        "add_cat_bmi(test)"
      ],
      "metadata": {
        "id": "5BRDXE25aquf"
      },
      "execution_count": 22,
      "outputs": []
    },
    {
      "cell_type": "markdown",
      "source": [
        "##2. Waist-to-Height Ratio:\n",
        "\n",
        "   <b><i>waist_to_height_ratio = waist(cm) / height(cm)</i></b>\n",
        "\n",
        "   This metric can be useful for assessing the relationship between waist circumference and height.\n",
        "\n",
        "   Waist-to-Height Ratio:\n",
        "   - Very Good: < 0.4\n",
        "   - Good: 0.4 - 0.49\n",
        "   - Average: 0.5 - 0.59\n",
        "   - Poor: 0.6 - 0.69\n",
        "   - Very Poor: ≥ 0.7\n"
      ],
      "metadata": {
        "id": "5Oz3QoT8oYpt"
      }
    },
    {
      "cell_type": "code",
      "source": [
        "ch = df['waist_cm'] / df['height_cm']\n",
        "ch.describe()"
      ],
      "metadata": {
        "colab": {
          "base_uri": "https://localhost:8080/"
        },
        "id": "z2Koc0DUrL1H",
        "outputId": "9b37b992-a9f2-4573-867a-035ad1ad7154"
      },
      "execution_count": 23,
      "outputs": [
        {
          "output_type": "execute_result",
          "data": {
            "text/plain": [
              "count    13863.000000\n",
              "mean         0.500781\n",
              "std          0.048848\n",
              "min          0.318750\n",
              "25%          0.467141\n",
              "50%          0.497222\n",
              "75%          0.531429\n",
              "max          0.737500\n",
              "dtype: float64"
            ]
          },
          "metadata": {},
          "execution_count": 23
        }
      ]
    },
    {
      "cell_type": "code",
      "source": [
        "ch.hist()"
      ],
      "metadata": {
        "colab": {
          "base_uri": "https://localhost:8080/",
          "height": 447
        },
        "id": "KTL9jWOArS3t",
        "outputId": "74a28e8c-1488-4902-f4f4-7b317a0650a8"
      },
      "execution_count": 24,
      "outputs": [
        {
          "output_type": "execute_result",
          "data": {
            "text/plain": [
              "<Axes: >"
            ]
          },
          "metadata": {},
          "execution_count": 24
        },
        {
          "output_type": "display_data",
          "data": {
            "text/plain": [
              "<Figure size 640x480 with 1 Axes>"
            ],
            "image/png": "[encoded data removed]"
          },
          "metadata": {}
        }
      ]
    },
    {
      "cell_type": "code",
      "source": [
        "def add_waist_to_height_ratio(df):\n",
        "  df['waist_to_height_ratio'] = df['waist_cm'] / df['height_cm']\n",
        "  ranges = [0, 0.4, 0.49, 0.59, 0.69, float('inf')]\n",
        "  categories = ['very_good', 'good', 'average', 'poor', 'very_poor']\n",
        "  df['cat_waist_to_height_ratio'] = pd.cut(df['waist_to_height_ratio'], bins=ranges, labels=categories)"
      ],
      "metadata": {
        "id": "XBGXIjJ9axxw"
      },
      "execution_count": 25,
      "outputs": []
    },
    {
      "cell_type": "code",
      "source": [
        "add_waist_to_height_ratio(df)\n",
        "add_waist_to_height_ratio(test)"
      ],
      "metadata": {
        "id": "l9r7gZbnc8CI"
      },
      "execution_count": 26,
      "outputs": []
    },
    {
      "cell_type": "markdown",
      "source": [
        "##3. Blood Pressure:\n",
        "   Create a new feature that combines systolic and diastolic blood pressure:\n",
        "\n",
        "   <b><i>blood_pressure = systolic / relaxation</i></b>\n",
        "   \n",
        "   This can help the model account for the overall cardiovascular health.\n",
        "\n",
        "   Blood Pressure (Systolic/Diastolic Ratio):\n",
        "   - Very Good: < 0.9\n",
        "   - Good: 0.9 - 1.2\n",
        "   - Average: 1.3 - 1.5\n",
        "   - Poor: 1.6 - 1.8\n",
        "   - Very Poor: ≥ 1.9\n"
      ],
      "metadata": {
        "id": "IZNdYzrUodIG"
      }
    },
    {
      "cell_type": "code",
      "source": [
        "phik_corr_features(['systolic', 'relaxation'], 'smoking')"
      ],
      "metadata": {
        "id": "YA5RH5duNaDY",
        "outputId": "863f49a5-6aca-4728-945b-b2725fe808fa",
        "colab": {
          "base_uri": "https://localhost:8080/",
          "height": 129
        }
      },
      "execution_count": 27,
      "outputs": [
        {
          "output_type": "stream",
          "name": "stdout",
          "text": [
            "interval columns not set, guessing: ['systolic', 'relaxation', 'smoking']\n"
          ]
        },
        {
          "output_type": "execute_result",
          "data": {
            "text/plain": [
              "            smoking\n",
              "relaxation     0.02\n",
              "systolic       0.02"
            ],
            "text/html": [
              "\n",
              "  <div id=\"df-628ed70d-b6ca-43b1-8d8d-642bef513885\" class=\"colab-df-container\">\n",
              "    <div>\n",
              "<style scoped>\n",
              "    .dataframe tbody tr th:only-of-type {\n",
              "        vertical-align: middle;\n",
              "    }\n",
              "\n",
              "    .dataframe tbody tr th {\n",
              "        vertical-align: top;\n",
              "    }\n",
              "\n",
              "    .dataframe thead th {\n",
              "        text-align: right;\n",
              "    }\n",
              "</style>\n",
              "<table border=\"1\" class=\"dataframe\">\n",
              "  <thead>\n",
              "    <tr style=\"text-align: right;\">\n",
              "      <th></th>\n",
              "      <th>smoking</th>\n",
              "    </tr>\n",
              "  </thead>\n",
              "  <tbody>\n",
              "    <tr>\n",
              "      <th>relaxation</th>\n",
              "      <td>0.02</td>\n",
              "    </tr>\n",
              "    <tr>\n",
              "      <th>systolic</th>\n",
              "      <td>0.02</td>\n",
              "    </tr>\n",
              "  </tbody>\n",
              "</table>\n",
              "</div>\n",
              "    <div class=\"colab-df-buttons\">\n",
              "\n",
              "  <div class=\"colab-df-container\">\n",
              "    <button class=\"colab-df-convert\" onclick=\"convertToInteractive('df-628ed70d-b6ca-43b1-8d8d-642bef513885')\"\n",
              "            title=\"Convert this dataframe to an interactive table.\"\n",
              "            style=\"display:none;\">\n",
              "\n",
              "  <svg xmlns=\"http://www.w3.org/2000/svg\" height=\"24px\" viewBox=\"0 -960 960 960\">\n",
              "    <path d=\"M120-120v-720h720v720H120Zm60-500h600v-160H180v160Zm220 220h160v-160H400v160Zm0 220h160v-160H400v160ZM180-400h160v-160H180v160Zm440 0h160v-160H620v160ZM180-180h160v-160H180v160Zm440 0h160v-160H620v160Z\"/>\n",
              "  </svg>\n",
              "    </button>\n",
              "\n",
              "  <style>\n",
              "    .colab-df-container {\n",
              "      display:flex;\n",
              "      gap: 12px;\n",
              "    }\n",
              "\n",
              "    .colab-df-convert {\n",
              "      background-color: #E8F0FE;\n",
              "      border: none;\n",
              "      border-radius: 50%;\n",
              "      cursor: pointer;\n",
              "      display: none;\n",
              "      fill: #1967D2;\n",
              "      height: 32px;\n",
              "      padding: 0 0 0 0;\n",
              "      width: 32px;\n",
              "    }\n",
              "\n",
              "    .colab-df-convert:hover {\n",
              "      background-color: #E2EBFA;\n",
              "      box-shadow: 0px 1px 2px rgba(60, 64, 67, 0.3), 0px 1px 3px 1px rgba(60, 64, 67, 0.15);\n",
              "      fill: #174EA6;\n",
              "    }\n",
              "\n",
              "    .colab-df-buttons div {\n",
              "      margin-bottom: 4px;\n",
              "    }\n",
              "\n",
              "    [theme=dark] .colab-df-convert {\n",
              "      background-color: #3B4455;\n",
              "      fill: #D2E3FC;\n",
              "    }\n",
              "\n",
              "    [theme=dark] .colab-df-convert:hover {\n",
              "      background-color: #434B5C;\n",
              "      box-shadow: 0px 1px 3px 1px rgba(0, 0, 0, 0.15);\n",
              "      filter: drop-shadow(0px 1px 2px rgba(0, 0, 0, 0.3));\n",
              "      fill: #FFFFFF;\n",
              "    }\n",
              "  </style>\n",
              "\n",
              "    <script>\n",
              "      const buttonEl =\n",
              "        document.querySelector('#df-628ed70d-b6ca-43b1-8d8d-642bef513885 button.colab-df-convert');\n",
              "      buttonEl.style.display =\n",
              "        google.colab.kernel.accessAllowed ? 'block' : 'none';\n",
              "\n",
              "      async function convertToInteractive(key) {\n",
              "        const element = document.querySelector('#df-628ed70d-b6ca-43b1-8d8d-642bef513885');\n",
              "        const dataTable =\n",
              "          await google.colab.kernel.invokeFunction('convertToInteractive',\n",
              "                                                    [key], {});\n",
              "        if (!dataTable) return;\n",
              "\n",
              "        const docLinkHtml = 'Like what you see? Visit the ' +\n",
              "          '<a target=\"_blank\" href=https://colab.research.google.com/notebooks/data_table.ipynb>data table notebook</a>'\n",
              "          + ' to learn more about interactive tables.';\n",
              "        element.innerHTML = '';\n",
              "        dataTable['output_type'] = 'display_data';\n",
              "        await google.colab.output.renderOutput(dataTable, element);\n",
              "        const docLink = document.createElement('div');\n",
              "        docLink.innerHTML = docLinkHtml;\n",
              "        element.appendChild(docLink);\n",
              "      }\n",
              "    </script>\n",
              "  </div>\n",
              "\n",
              "\n",
              "<div id=\"df-7ba86a87-b147-4922-ad25-da0e20ec02ab\">\n",
              "  <button class=\"colab-df-quickchart\" onclick=\"quickchart('df-7ba86a87-b147-4922-ad25-da0e20ec02ab')\"\n",
              "            title=\"Suggest charts.\"\n",
              "            style=\"display:none;\">\n",
              "\n",
              "<svg xmlns=\"http://www.w3.org/2000/svg\" height=\"24px\"viewBox=\"0 0 24 24\"\n",
              "     width=\"24px\">\n",
              "    <g>\n",
              "        <path d=\"M19 3H5c-1.1 0-2 .9-2 2v14c0 1.1.9 2 2 2h14c1.1 0 2-.9 2-2V5c0-1.1-.9-2-2-2zM9 17H7v-7h2v7zm4 0h-2V7h2v10zm4 0h-2v-4h2v4z\"/>\n",
              "    </g>\n",
              "</svg>\n",
              "  </button>\n",
              "\n",
              "<style>\n",
              "  .colab-df-quickchart {\n",
              "      --bg-color: #E8F0FE;\n",
              "      --fill-color: #1967D2;\n",
              "      --hover-bg-color: #E2EBFA;\n",
              "      --hover-fill-color: #174EA6;\n",
              "      --disabled-fill-color: #AAA;\n",
              "      --disabled-bg-color: #DDD;\n",
              "  }\n",
              "\n",
              "  [theme=dark] .colab-df-quickchart {\n",
              "      --bg-color: #3B4455;\n",
              "      --fill-color: #D2E3FC;\n",
              "      --hover-bg-color: #434B5C;\n",
              "      --hover-fill-color: #FFFFFF;\n",
              "      --disabled-bg-color: #3B4455;\n",
              "      --disabled-fill-color: #666;\n",
              "  }\n",
              "\n",
              "  .colab-df-quickchart {\n",
              "    background-color: var(--bg-color);\n",
              "    border: none;\n",
              "    border-radius: 50%;\n",
              "    cursor: pointer;\n",
              "    display: none;\n",
              "    fill: var(--fill-color);\n",
              "    height: 32px;\n",
              "    padding: 0;\n",
              "    width: 32px;\n",
              "  }\n",
              "\n",
              "  .colab-df-quickchart:hover {\n",
              "    background-color: var(--hover-bg-color);\n",
              "    box-shadow: 0 1px 2px rgba(60, 64, 67, 0.3), 0 1px 3px 1px rgba(60, 64, 67, 0.15);\n",
              "    fill: var(--button-hover-fill-color);\n",
              "  }\n",
              "\n",
              "  .colab-df-quickchart-complete:disabled,\n",
              "  .colab-df-quickchart-complete:disabled:hover {\n",
              "    background-color: var(--disabled-bg-color);\n",
              "    fill: var(--disabled-fill-color);\n",
              "    box-shadow: none;\n",
              "  }\n",
              "\n",
              "  .colab-df-spinner {\n",
              "    border: 2px solid var(--fill-color);\n",
              "    border-color: transparent;\n",
              "    border-bottom-color: var(--fill-color);\n",
              "    animation:\n",
              "      spin 1s steps(1) infinite;\n",
              "  }\n",
              "\n",
              "  @keyframes spin {\n",
              "    0% {\n",
              "      border-color: transparent;\n",
              "      border-bottom-color: var(--fill-color);\n",
              "      border-left-color: var(--fill-color);\n",
              "    }\n",
              "    20% {\n",
              "      border-color: transparent;\n",
              "      border-left-color: var(--fill-color);\n",
              "      border-top-color: var(--fill-color);\n",
              "    }\n",
              "    30% {\n",
              "      border-color: transparent;\n",
              "      border-left-color: var(--fill-color);\n",
              "      border-top-color: var(--fill-color);\n",
              "      border-right-color: var(--fill-color);\n",
              "    }\n",
              "    40% {\n",
              "      border-color: transparent;\n",
              "      border-right-color: var(--fill-color);\n",
              "      border-top-color: var(--fill-color);\n",
              "    }\n",
              "    60% {\n",
              "      border-color: transparent;\n",
              "      border-right-color: var(--fill-color);\n",
              "    }\n",
              "    80% {\n",
              "      border-color: transparent;\n",
              "      border-right-color: var(--fill-color);\n",
              "      border-bottom-color: var(--fill-color);\n",
              "    }\n",
              "    90% {\n",
              "      border-color: transparent;\n",
              "      border-bottom-color: var(--fill-color);\n",
              "    }\n",
              "  }\n",
              "</style>\n",
              "\n",
              "  <script>\n",
              "    async function quickchart(key) {\n",
              "      const quickchartButtonEl =\n",
              "        document.querySelector('#' + key + ' button');\n",
              "      quickchartButtonEl.disabled = true;  // To prevent multiple clicks.\n",
              "      quickchartButtonEl.classList.add('colab-df-spinner');\n",
              "      try {\n",
              "        const charts = await google.colab.kernel.invokeFunction(\n",
              "            'suggestCharts', [key], {});\n",
              "      } catch (error) {\n",
              "        console.error('Error during call to suggestCharts:', error);\n",
              "      }\n",
              "      quickchartButtonEl.classList.remove('colab-df-spinner');\n",
              "      quickchartButtonEl.classList.add('colab-df-quickchart-complete');\n",
              "    }\n",
              "    (() => {\n",
              "      let quickchartButtonEl =\n",
              "        document.querySelector('#df-7ba86a87-b147-4922-ad25-da0e20ec02ab button');\n",
              "      quickchartButtonEl.style.display =\n",
              "        google.colab.kernel.accessAllowed ? 'block' : 'none';\n",
              "    })();\n",
              "  </script>\n",
              "</div>\n",
              "    </div>\n",
              "  </div>\n"
            ]
          },
          "metadata": {},
          "execution_count": 27
        }
      ]
    },
    {
      "cell_type": "code",
      "source": [
        "ch = df['systolic'] / df['relaxation']\n",
        "ch.describe()"
      ],
      "metadata": {
        "id": "aJ-vEKuRiaSS",
        "colab": {
          "base_uri": "https://localhost:8080/"
        },
        "outputId": "67d18f15-cc7f-45a6-ae01-75adaf510a16"
      },
      "execution_count": 28,
      "outputs": [
        {
          "output_type": "execute_result",
          "data": {
            "text/plain": [
              "count    13863.000000\n",
              "mean         1.608511\n",
              "std          0.138103\n",
              "min          1.162791\n",
              "25%          1.512821\n",
              "50%          1.589744\n",
              "75%          1.684932\n",
              "max          2.537037\n",
              "dtype: float64"
            ]
          },
          "metadata": {},
          "execution_count": 28
        }
      ]
    },
    {
      "cell_type": "code",
      "source": [
        "ch.hist()"
      ],
      "metadata": {
        "id": "tiELcZb1imWd",
        "outputId": "ac7888cc-9592-48ef-d654-4e16b2934186",
        "colab": {
          "base_uri": "https://localhost:8080/",
          "height": 447
        }
      },
      "execution_count": 29,
      "outputs": [
        {
          "output_type": "execute_result",
          "data": {
            "text/plain": [
              "<Axes: >"
            ]
          },
          "metadata": {},
          "execution_count": 29
        },
        {
          "output_type": "display_data",
          "data": {
            "text/plain": [
              "<Figure size 640x480 with 1 Axes>"
            ],
            "image/png": "[encoded data removed]"
          },
          "metadata": {}
        }
      ]
    },
    {
      "cell_type": "code",
      "source": [
        "def add_blood_pressure(df):\n",
        "  df['blood_pressure'] = df['systolic'] / df['relaxation']\n",
        "  ranges = [0, 0.9, 1.2, 1.5, 1.8, float('inf')]\n",
        "  categories = ['very_good', 'good', 'average', 'poor', 'very_poor']\n",
        "  df['cat_blood_pressure'] = pd.cut(df['blood_pressure'], bins=ranges, labels=categories)"
      ],
      "metadata": {
        "id": "0mNnT0rCdWea"
      },
      "execution_count": 30,
      "outputs": []
    },
    {
      "cell_type": "code",
      "source": [
        "add_blood_pressure(df)\n",
        "add_blood_pressure(test)"
      ],
      "metadata": {
        "id": "a9bwFvjjeDgw"
      },
      "execution_count": 31,
      "outputs": []
    },
    {
      "cell_type": "markdown",
      "source": [
        "##4. Vision:\n",
        "   Create a feature that considers the average eyesight between both eyes:\n",
        "\n",
        "   <b><i>average_eyesight = (eyesight(left) + eyesight(right)) / 2</i></b>\n",
        "\n",
        "\n"
      ],
      "metadata": {
        "id": "rXVewksPoiW_"
      }
    },
    {
      "cell_type": "code",
      "source": [
        "phik_corr_features(['eyesight_left', 'eyesight_right'], 'smoking')"
      ],
      "metadata": {
        "id": "EhgK8B2KNinS",
        "outputId": "9f138fd7-b565-4421-8909-d64ad0e1a050",
        "colab": {
          "base_uri": "https://localhost:8080/",
          "height": 129
        }
      },
      "execution_count": 32,
      "outputs": [
        {
          "output_type": "stream",
          "name": "stdout",
          "text": [
            "interval columns not set, guessing: ['eyesight_left', 'eyesight_right', 'smoking']\n"
          ]
        },
        {
          "output_type": "execute_result",
          "data": {
            "text/plain": [
              "                smoking\n",
              "eyesight_left       0.0\n",
              "eyesight_right      0.0"
            ],
            "text/html": [
              "\n",
              "  <div id=\"df-d0e89421-2c82-44f8-a802-d36d377ee49e\" class=\"colab-df-container\">\n",
              "    <div>\n",
              "<style scoped>\n",
              "    .dataframe tbody tr th:only-of-type {\n",
              "        vertical-align: middle;\n",
              "    }\n",
              "\n",
              "    .dataframe tbody tr th {\n",
              "        vertical-align: top;\n",
              "    }\n",
              "\n",
              "    .dataframe thead th {\n",
              "        text-align: right;\n",
              "    }\n",
              "</style>\n",
              "<table border=\"1\" class=\"dataframe\">\n",
              "  <thead>\n",
              "    <tr style=\"text-align: right;\">\n",
              "      <th></th>\n",
              "      <th>smoking</th>\n",
              "    </tr>\n",
              "  </thead>\n",
              "  <tbody>\n",
              "    <tr>\n",
              "      <th>eyesight_left</th>\n",
              "      <td>0.0</td>\n",
              "    </tr>\n",
              "    <tr>\n",
              "      <th>eyesight_right</th>\n",
              "      <td>0.0</td>\n",
              "    </tr>\n",
              "  </tbody>\n",
              "</table>\n",
              "</div>\n",
              "    <div class=\"colab-df-buttons\">\n",
              "\n",
              "  <div class=\"colab-df-container\">\n",
              "    <button class=\"colab-df-convert\" onclick=\"convertToInteractive('df-d0e89421-2c82-44f8-a802-d36d377ee49e')\"\n",
              "            title=\"Convert this dataframe to an interactive table.\"\n",
              "            style=\"display:none;\">\n",
              "\n",
              "  <svg xmlns=\"http://www.w3.org/2000/svg\" height=\"24px\" viewBox=\"0 -960 960 960\">\n",
              "    <path d=\"M120-120v-720h720v720H120Zm60-500h600v-160H180v160Zm220 220h160v-160H400v160Zm0 220h160v-160H400v160ZM180-400h160v-160H180v160Zm440 0h160v-160H620v160ZM180-180h160v-160H180v160Zm440 0h160v-160H620v160Z\"/>\n",
              "  </svg>\n",
              "    </button>\n",
              "\n",
              "  <style>\n",
              "    .colab-df-container {\n",
              "      display:flex;\n",
              "      gap: 12px;\n",
              "    }\n",
              "\n",
              "    .colab-df-convert {\n",
              "      background-color: #E8F0FE;\n",
              "      border: none;\n",
              "      border-radius: 50%;\n",
              "      cursor: pointer;\n",
              "      display: none;\n",
              "      fill: #1967D2;\n",
              "      height: 32px;\n",
              "      padding: 0 0 0 0;\n",
              "      width: 32px;\n",
              "    }\n",
              "\n",
              "    .colab-df-convert:hover {\n",
              "      background-color: #E2EBFA;\n",
              "      box-shadow: 0px 1px 2px rgba(60, 64, 67, 0.3), 0px 1px 3px 1px rgba(60, 64, 67, 0.15);\n",
              "      fill: #174EA6;\n",
              "    }\n",
              "\n",
              "    .colab-df-buttons div {\n",
              "      margin-bottom: 4px;\n",
              "    }\n",
              "\n",
              "    [theme=dark] .colab-df-convert {\n",
              "      background-color: #3B4455;\n",
              "      fill: #D2E3FC;\n",
              "    }\n",
              "\n",
              "    [theme=dark] .colab-df-convert:hover {\n",
              "      background-color: #434B5C;\n",
              "      box-shadow: 0px 1px 3px 1px rgba(0, 0, 0, 0.15);\n",
              "      filter: drop-shadow(0px 1px 2px rgba(0, 0, 0, 0.3));\n",
              "      fill: #FFFFFF;\n",
              "    }\n",
              "  </style>\n",
              "\n",
              "    <script>\n",
              "      const buttonEl =\n",
              "        document.querySelector('#df-d0e89421-2c82-44f8-a802-d36d377ee49e button.colab-df-convert');\n",
              "      buttonEl.style.display =\n",
              "        google.colab.kernel.accessAllowed ? 'block' : 'none';\n",
              "\n",
              "      async function convertToInteractive(key) {\n",
              "        const element = document.querySelector('#df-d0e89421-2c82-44f8-a802-d36d377ee49e');\n",
              "        const dataTable =\n",
              "          await google.colab.kernel.invokeFunction('convertToInteractive',\n",
              "                                                    [key], {});\n",
              "        if (!dataTable) return;\n",
              "\n",
              "        const docLinkHtml = 'Like what you see? Visit the ' +\n",
              "          '<a target=\"_blank\" href=https://colab.research.google.com/notebooks/data_table.ipynb>data table notebook</a>'\n",
              "          + ' to learn more about interactive tables.';\n",
              "        element.innerHTML = '';\n",
              "        dataTable['output_type'] = 'display_data';\n",
              "        await google.colab.output.renderOutput(dataTable, element);\n",
              "        const docLink = document.createElement('div');\n",
              "        docLink.innerHTML = docLinkHtml;\n",
              "        element.appendChild(docLink);\n",
              "      }\n",
              "    </script>\n",
              "  </div>\n",
              "\n",
              "\n",
              "<div id=\"df-490f3794-5306-45bf-8ddc-43a33bd710e7\">\n",
              "  <button class=\"colab-df-quickchart\" onclick=\"quickchart('df-490f3794-5306-45bf-8ddc-43a33bd710e7')\"\n",
              "            title=\"Suggest charts.\"\n",
              "            style=\"display:none;\">\n",
              "\n",
              "<svg xmlns=\"http://www.w3.org/2000/svg\" height=\"24px\"viewBox=\"0 0 24 24\"\n",
              "     width=\"24px\">\n",
              "    <g>\n",
              "        <path d=\"M19 3H5c-1.1 0-2 .9-2 2v14c0 1.1.9 2 2 2h14c1.1 0 2-.9 2-2V5c0-1.1-.9-2-2-2zM9 17H7v-7h2v7zm4 0h-2V7h2v10zm4 0h-2v-4h2v4z\"/>\n",
              "    </g>\n",
              "</svg>\n",
              "  </button>\n",
              "\n",
              "<style>\n",
              "  .colab-df-quickchart {\n",
              "      --bg-color: #E8F0FE;\n",
              "      --fill-color: #1967D2;\n",
              "      --hover-bg-color: #E2EBFA;\n",
              "      --hover-fill-color: #174EA6;\n",
              "      --disabled-fill-color: #AAA;\n",
              "      --disabled-bg-color: #DDD;\n",
              "  }\n",
              "\n",
              "  [theme=dark] .colab-df-quickchart {\n",
              "      --bg-color: #3B4455;\n",
              "      --fill-color: #D2E3FC;\n",
              "      --hover-bg-color: #434B5C;\n",
              "      --hover-fill-color: #FFFFFF;\n",
              "      --disabled-bg-color: #3B4455;\n",
              "      --disabled-fill-color: #666;\n",
              "  }\n",
              "\n",
              "  .colab-df-quickchart {\n",
              "    background-color: var(--bg-color);\n",
              "    border: none;\n",
              "    border-radius: 50%;\n",
              "    cursor: pointer;\n",
              "    display: none;\n",
              "    fill: var(--fill-color);\n",
              "    height: 32px;\n",
              "    padding: 0;\n",
              "    width: 32px;\n",
              "  }\n",
              "\n",
              "  .colab-df-quickchart:hover {\n",
              "    background-color: var(--hover-bg-color);\n",
              "    box-shadow: 0 1px 2px rgba(60, 64, 67, 0.3), 0 1px 3px 1px rgba(60, 64, 67, 0.15);\n",
              "    fill: var(--button-hover-fill-color);\n",
              "  }\n",
              "\n",
              "  .colab-df-quickchart-complete:disabled,\n",
              "  .colab-df-quickchart-complete:disabled:hover {\n",
              "    background-color: var(--disabled-bg-color);\n",
              "    fill: var(--disabled-fill-color);\n",
              "    box-shadow: none;\n",
              "  }\n",
              "\n",
              "  .colab-df-spinner {\n",
              "    border: 2px solid var(--fill-color);\n",
              "    border-color: transparent;\n",
              "    border-bottom-color: var(--fill-color);\n",
              "    animation:\n",
              "      spin 1s steps(1) infinite;\n",
              "  }\n",
              "\n",
              "  @keyframes spin {\n",
              "    0% {\n",
              "      border-color: transparent;\n",
              "      border-bottom-color: var(--fill-color);\n",
              "      border-left-color: var(--fill-color);\n",
              "    }\n",
              "    20% {\n",
              "      border-color: transparent;\n",
              "      border-left-color: var(--fill-color);\n",
              "      border-top-color: var(--fill-color);\n",
              "    }\n",
              "    30% {\n",
              "      border-color: transparent;\n",
              "      border-left-color: var(--fill-color);\n",
              "      border-top-color: var(--fill-color);\n",
              "      border-right-color: var(--fill-color);\n",
              "    }\n",
              "    40% {\n",
              "      border-color: transparent;\n",
              "      border-right-color: var(--fill-color);\n",
              "      border-top-color: var(--fill-color);\n",
              "    }\n",
              "    60% {\n",
              "      border-color: transparent;\n",
              "      border-right-color: var(--fill-color);\n",
              "    }\n",
              "    80% {\n",
              "      border-color: transparent;\n",
              "      border-right-color: var(--fill-color);\n",
              "      border-bottom-color: var(--fill-color);\n",
              "    }\n",
              "    90% {\n",
              "      border-color: transparent;\n",
              "      border-bottom-color: var(--fill-color);\n",
              "    }\n",
              "  }\n",
              "</style>\n",
              "\n",
              "  <script>\n",
              "    async function quickchart(key) {\n",
              "      const quickchartButtonEl =\n",
              "        document.querySelector('#' + key + ' button');\n",
              "      quickchartButtonEl.disabled = true;  // To prevent multiple clicks.\n",
              "      quickchartButtonEl.classList.add('colab-df-spinner');\n",
              "      try {\n",
              "        const charts = await google.colab.kernel.invokeFunction(\n",
              "            'suggestCharts', [key], {});\n",
              "      } catch (error) {\n",
              "        console.error('Error during call to suggestCharts:', error);\n",
              "      }\n",
              "      quickchartButtonEl.classList.remove('colab-df-spinner');\n",
              "      quickchartButtonEl.classList.add('colab-df-quickchart-complete');\n",
              "    }\n",
              "    (() => {\n",
              "      let quickchartButtonEl =\n",
              "        document.querySelector('#df-490f3794-5306-45bf-8ddc-43a33bd710e7 button');\n",
              "      quickchartButtonEl.style.display =\n",
              "        google.colab.kernel.accessAllowed ? 'block' : 'none';\n",
              "    })();\n",
              "  </script>\n",
              "</div>\n",
              "    </div>\n",
              "  </div>\n"
            ]
          },
          "metadata": {},
          "execution_count": 32
        }
      ]
    },
    {
      "cell_type": "code",
      "source": [
        "df['eyesight_avg'] = (df['eyesight_left'] + df['eyesight_right'])/2\n",
        "test['eyesight_avg'] = (test['eyesight_left'] + test['eyesight_right'])/2"
      ],
      "metadata": {
        "id": "SrF1qym4dXje"
      },
      "execution_count": 33,
      "outputs": []
    },
    {
      "cell_type": "markdown",
      "source": [
        "##5. Hearing:\n",
        "   Create a feature that considers the average hearing metric between both ears:\n",
        "\n",
        "   <b><i>average_hearing = (hearing(left) + hearing(right)) / 2</i></b>\n",
        "\n"
      ],
      "metadata": {
        "id": "RAWqSZO6ojWn"
      }
    },
    {
      "cell_type": "code",
      "source": [
        "phik_corr_features(['hearing_left', 'hearing_right'], 'smoking')"
      ],
      "metadata": {
        "id": "iauRc9StNjH3",
        "outputId": "a6f47c51-13b4-4fc3-fcb8-fa76756682f1",
        "colab": {
          "base_uri": "https://localhost:8080/",
          "height": 129
        }
      },
      "execution_count": 35,
      "outputs": [
        {
          "output_type": "stream",
          "name": "stdout",
          "text": [
            "interval columns not set, guessing: ['hearing_left', 'hearing_right', 'smoking']\n"
          ]
        },
        {
          "output_type": "execute_result",
          "data": {
            "text/plain": [
              "               smoking\n",
              "hearing_left      0.04\n",
              "hearing_right     0.02"
            ],
            "text/html": [
              "\n",
              "  <div id=\"df-e8bf1cf1-21db-452d-a254-ff46393e12e9\" class=\"colab-df-container\">\n",
              "    <div>\n",
              "<style scoped>\n",
              "    .dataframe tbody tr th:only-of-type {\n",
              "        vertical-align: middle;\n",
              "    }\n",
              "\n",
              "    .dataframe tbody tr th {\n",
              "        vertical-align: top;\n",
              "    }\n",
              "\n",
              "    .dataframe thead th {\n",
              "        text-align: right;\n",
              "    }\n",
              "</style>\n",
              "<table border=\"1\" class=\"dataframe\">\n",
              "  <thead>\n",
              "    <tr style=\"text-align: right;\">\n",
              "      <th></th>\n",
              "      <th>smoking</th>\n",
              "    </tr>\n",
              "  </thead>\n",
              "  <tbody>\n",
              "    <tr>\n",
              "      <th>hearing_left</th>\n",
              "      <td>0.04</td>\n",
              "    </tr>\n",
              "    <tr>\n",
              "      <th>hearing_right</th>\n",
              "      <td>0.02</td>\n",
              "    </tr>\n",
              "  </tbody>\n",
              "</table>\n",
              "</div>\n",
              "    <div class=\"colab-df-buttons\">\n",
              "\n",
              "  <div class=\"colab-df-container\">\n",
              "    <button class=\"colab-df-convert\" onclick=\"convertToInteractive('df-e8bf1cf1-21db-452d-a254-ff46393e12e9')\"\n",
              "            title=\"Convert this dataframe to an interactive table.\"\n",
              "            style=\"display:none;\">\n",
              "\n",
              "  <svg xmlns=\"http://www.w3.org/2000/svg\" height=\"24px\" viewBox=\"0 -960 960 960\">\n",
              "    <path d=\"M120-120v-720h720v720H120Zm60-500h600v-160H180v160Zm220 220h160v-160H400v160Zm0 220h160v-160H400v160ZM180-400h160v-160H180v160Zm440 0h160v-160H620v160ZM180-180h160v-160H180v160Zm440 0h160v-160H620v160Z\"/>\n",
              "  </svg>\n",
              "    </button>\n",
              "\n",
              "  <style>\n",
              "    .colab-df-container {\n",
              "      display:flex;\n",
              "      gap: 12px;\n",
              "    }\n",
              "\n",
              "    .colab-df-convert {\n",
              "      background-color: #E8F0FE;\n",
              "      border: none;\n",
              "      border-radius: 50%;\n",
              "      cursor: pointer;\n",
              "      display: none;\n",
              "      fill: #1967D2;\n",
              "      height: 32px;\n",
              "      padding: 0 0 0 0;\n",
              "      width: 32px;\n",
              "    }\n",
              "\n",
              "    .colab-df-convert:hover {\n",
              "      background-color: #E2EBFA;\n",
              "      box-shadow: 0px 1px 2px rgba(60, 64, 67, 0.3), 0px 1px 3px 1px rgba(60, 64, 67, 0.15);\n",
              "      fill: #174EA6;\n",
              "    }\n",
              "\n",
              "    .colab-df-buttons div {\n",
              "      margin-bottom: 4px;\n",
              "    }\n",
              "\n",
              "    [theme=dark] .colab-df-convert {\n",
              "      background-color: #3B4455;\n",
              "      fill: #D2E3FC;\n",
              "    }\n",
              "\n",
              "    [theme=dark] .colab-df-convert:hover {\n",
              "      background-color: #434B5C;\n",
              "      box-shadow: 0px 1px 3px 1px rgba(0, 0, 0, 0.15);\n",
              "      filter: drop-shadow(0px 1px 2px rgba(0, 0, 0, 0.3));\n",
              "      fill: #FFFFFF;\n",
              "    }\n",
              "  </style>\n",
              "\n",
              "    <script>\n",
              "      const buttonEl =\n",
              "        document.querySelector('#df-e8bf1cf1-21db-452d-a254-ff46393e12e9 button.colab-df-convert');\n",
              "      buttonEl.style.display =\n",
              "        google.colab.kernel.accessAllowed ? 'block' : 'none';\n",
              "\n",
              "      async function convertToInteractive(key) {\n",
              "        const element = document.querySelector('#df-e8bf1cf1-21db-452d-a254-ff46393e12e9');\n",
              "        const dataTable =\n",
              "          await google.colab.kernel.invokeFunction('convertToInteractive',\n",
              "                                                    [key], {});\n",
              "        if (!dataTable) return;\n",
              "\n",
              "        const docLinkHtml = 'Like what you see? Visit the ' +\n",
              "          '<a target=\"_blank\" href=https://colab.research.google.com/notebooks/data_table.ipynb>data table notebook</a>'\n",
              "          + ' to learn more about interactive tables.';\n",
              "        element.innerHTML = '';\n",
              "        dataTable['output_type'] = 'display_data';\n",
              "        await google.colab.output.renderOutput(dataTable, element);\n",
              "        const docLink = document.createElement('div');\n",
              "        docLink.innerHTML = docLinkHtml;\n",
              "        element.appendChild(docLink);\n",
              "      }\n",
              "    </script>\n",
              "  </div>\n",
              "\n",
              "\n",
              "<div id=\"df-503a0e22-8801-411a-8b4a-d58b426d7c00\">\n",
              "  <button class=\"colab-df-quickchart\" onclick=\"quickchart('df-503a0e22-8801-411a-8b4a-d58b426d7c00')\"\n",
              "            title=\"Suggest charts.\"\n",
              "            style=\"display:none;\">\n",
              "\n",
              "<svg xmlns=\"http://www.w3.org/2000/svg\" height=\"24px\"viewBox=\"0 0 24 24\"\n",
              "     width=\"24px\">\n",
              "    <g>\n",
              "        <path d=\"M19 3H5c-1.1 0-2 .9-2 2v14c0 1.1.9 2 2 2h14c1.1 0 2-.9 2-2V5c0-1.1-.9-2-2-2zM9 17H7v-7h2v7zm4 0h-2V7h2v10zm4 0h-2v-4h2v4z\"/>\n",
              "    </g>\n",
              "</svg>\n",
              "  </button>\n",
              "\n",
              "<style>\n",
              "  .colab-df-quickchart {\n",
              "      --bg-color: #E8F0FE;\n",
              "      --fill-color: #1967D2;\n",
              "      --hover-bg-color: #E2EBFA;\n",
              "      --hover-fill-color: #174EA6;\n",
              "      --disabled-fill-color: #AAA;\n",
              "      --disabled-bg-color: #DDD;\n",
              "  }\n",
              "\n",
              "  [theme=dark] .colab-df-quickchart {\n",
              "      --bg-color: #3B4455;\n",
              "      --fill-color: #D2E3FC;\n",
              "      --hover-bg-color: #434B5C;\n",
              "      --hover-fill-color: #FFFFFF;\n",
              "      --disabled-bg-color: #3B4455;\n",
              "      --disabled-fill-color: #666;\n",
              "  }\n",
              "\n",
              "  .colab-df-quickchart {\n",
              "    background-color: var(--bg-color);\n",
              "    border: none;\n",
              "    border-radius: 50%;\n",
              "    cursor: pointer;\n",
              "    display: none;\n",
              "    fill: var(--fill-color);\n",
              "    height: 32px;\n",
              "    padding: 0;\n",
              "    width: 32px;\n",
              "  }\n",
              "\n",
              "  .colab-df-quickchart:hover {\n",
              "    background-color: var(--hover-bg-color);\n",
              "    box-shadow: 0 1px 2px rgba(60, 64, 67, 0.3), 0 1px 3px 1px rgba(60, 64, 67, 0.15);\n",
              "    fill: var(--button-hover-fill-color);\n",
              "  }\n",
              "\n",
              "  .colab-df-quickchart-complete:disabled,\n",
              "  .colab-df-quickchart-complete:disabled:hover {\n",
              "    background-color: var(--disabled-bg-color);\n",
              "    fill: var(--disabled-fill-color);\n",
              "    box-shadow: none;\n",
              "  }\n",
              "\n",
              "  .colab-df-spinner {\n",
              "    border: 2px solid var(--fill-color);\n",
              "    border-color: transparent;\n",
              "    border-bottom-color: var(--fill-color);\n",
              "    animation:\n",
              "      spin 1s steps(1) infinite;\n",
              "  }\n",
              "\n",
              "  @keyframes spin {\n",
              "    0% {\n",
              "      border-color: transparent;\n",
              "      border-bottom-color: var(--fill-color);\n",
              "      border-left-color: var(--fill-color);\n",
              "    }\n",
              "    20% {\n",
              "      border-color: transparent;\n",
              "      border-left-color: var(--fill-color);\n",
              "      border-top-color: var(--fill-color);\n",
              "    }\n",
              "    30% {\n",
              "      border-color: transparent;\n",
              "      border-left-color: var(--fill-color);\n",
              "      border-top-color: var(--fill-color);\n",
              "      border-right-color: var(--fill-color);\n",
              "    }\n",
              "    40% {\n",
              "      border-color: transparent;\n",
              "      border-right-color: var(--fill-color);\n",
              "      border-top-color: var(--fill-color);\n",
              "    }\n",
              "    60% {\n",
              "      border-color: transparent;\n",
              "      border-right-color: var(--fill-color);\n",
              "    }\n",
              "    80% {\n",
              "      border-color: transparent;\n",
              "      border-right-color: var(--fill-color);\n",
              "      border-bottom-color: var(--fill-color);\n",
              "    }\n",
              "    90% {\n",
              "      border-color: transparent;\n",
              "      border-bottom-color: var(--fill-color);\n",
              "    }\n",
              "  }\n",
              "</style>\n",
              "\n",
              "  <script>\n",
              "    async function quickchart(key) {\n",
              "      const quickchartButtonEl =\n",
              "        document.querySelector('#' + key + ' button');\n",
              "      quickchartButtonEl.disabled = true;  // To prevent multiple clicks.\n",
              "      quickchartButtonEl.classList.add('colab-df-spinner');\n",
              "      try {\n",
              "        const charts = await google.colab.kernel.invokeFunction(\n",
              "            'suggestCharts', [key], {});\n",
              "      } catch (error) {\n",
              "        console.error('Error during call to suggestCharts:', error);\n",
              "      }\n",
              "      quickchartButtonEl.classList.remove('colab-df-spinner');\n",
              "      quickchartButtonEl.classList.add('colab-df-quickchart-complete');\n",
              "    }\n",
              "    (() => {\n",
              "      let quickchartButtonEl =\n",
              "        document.querySelector('#df-503a0e22-8801-411a-8b4a-d58b426d7c00 button');\n",
              "      quickchartButtonEl.style.display =\n",
              "        google.colab.kernel.accessAllowed ? 'block' : 'none';\n",
              "    })();\n",
              "  </script>\n",
              "</div>\n",
              "    </div>\n",
              "  </div>\n"
            ]
          },
          "metadata": {},
          "execution_count": 35
        }
      ]
    },
    {
      "cell_type": "code",
      "source": [
        "df['hearing_avg'] = (df['hearing_left'] + df['hearing_right'])/2\n",
        "test['hearing_avg'] = (test['hearing_left'] + test['hearing_right'])/2"
      ],
      "metadata": {
        "id": "Ns7mMPKyhsau"
      },
      "execution_count": 36,
      "outputs": []
    },
    {
      "cell_type": "markdown",
      "source": [
        "##6. Cholesterol Ratios:\n",
        "   Create ratios between cholesterol and high-density lipoprotein (HDL) or low-density lipoprotein (LDL), for example:\n",
        "\n",
        "   <b><i>cholesterol_to_hdl_ratio = cholesterol / hdl</i></b>\n",
        "   \n",
        "   <b><i>cholesterol_to_ldl_ratio = cholesterol / ldl</i></b>\n",
        "\n",
        "   Cholesterol-to-HDL Ratio:\n",
        "   - Very Good: < 2.0\n",
        "   - Good: 2.0 - 3.0\n",
        "   - Average: 3.1 - 4.0\n",
        "   - Poor: 4.1 - 5.0\n",
        "   - Very Poor: ≥ 5.1\n",
        "\n"
      ],
      "metadata": {
        "id": "UJ7G_zk2oqiR"
      }
    },
    {
      "cell_type": "code",
      "source": [
        "phik_corr_features(['cholesterol', 'hdl', 'ldl'], 'smoking')"
      ],
      "metadata": {
        "id": "uNlTX8KtN2pn",
        "outputId": "6b0e89e0-b530-4ed7-b47f-48ae022c10a9",
        "colab": {
          "base_uri": "https://localhost:8080/",
          "height": 161
        }
      },
      "execution_count": 37,
      "outputs": [
        {
          "output_type": "stream",
          "name": "stdout",
          "text": [
            "interval columns not set, guessing: ['cholesterol', 'hdl', 'ldl', 'smoking']\n"
          ]
        },
        {
          "output_type": "execute_result",
          "data": {
            "text/plain": [
              "             smoking\n",
              "hdl             0.05\n",
              "ldl             0.02\n",
              "cholesterol     0.02"
            ],
            "text/html": [
              "\n",
              "  <div id=\"df-8b82bcdf-efe5-4f2e-9368-3455a63c892b\" class=\"colab-df-container\">\n",
              "    <div>\n",
              "<style scoped>\n",
              "    .dataframe tbody tr th:only-of-type {\n",
              "        vertical-align: middle;\n",
              "    }\n",
              "\n",
              "    .dataframe tbody tr th {\n",
              "        vertical-align: top;\n",
              "    }\n",
              "\n",
              "    .dataframe thead th {\n",
              "        text-align: right;\n",
              "    }\n",
              "</style>\n",
              "<table border=\"1\" class=\"dataframe\">\n",
              "  <thead>\n",
              "    <tr style=\"text-align: right;\">\n",
              "      <th></th>\n",
              "      <th>smoking</th>\n",
              "    </tr>\n",
              "  </thead>\n",
              "  <tbody>\n",
              "    <tr>\n",
              "      <th>hdl</th>\n",
              "      <td>0.05</td>\n",
              "    </tr>\n",
              "    <tr>\n",
              "      <th>ldl</th>\n",
              "      <td>0.02</td>\n",
              "    </tr>\n",
              "    <tr>\n",
              "      <th>cholesterol</th>\n",
              "      <td>0.02</td>\n",
              "    </tr>\n",
              "  </tbody>\n",
              "</table>\n",
              "</div>\n",
              "    <div class=\"colab-df-buttons\">\n",
              "\n",
              "  <div class=\"colab-df-container\">\n",
              "    <button class=\"colab-df-convert\" onclick=\"convertToInteractive('df-8b82bcdf-efe5-4f2e-9368-3455a63c892b')\"\n",
              "            title=\"Convert this dataframe to an interactive table.\"\n",
              "            style=\"display:none;\">\n",
              "\n",
              "  <svg xmlns=\"http://www.w3.org/2000/svg\" height=\"24px\" viewBox=\"0 -960 960 960\">\n",
              "    <path d=\"M120-120v-720h720v720H120Zm60-500h600v-160H180v160Zm220 220h160v-160H400v160Zm0 220h160v-160H400v160ZM180-400h160v-160H180v160Zm440 0h160v-160H620v160ZM180-180h160v-160H180v160Zm440 0h160v-160H620v160Z\"/>\n",
              "  </svg>\n",
              "    </button>\n",
              "\n",
              "  <style>\n",
              "    .colab-df-container {\n",
              "      display:flex;\n",
              "      gap: 12px;\n",
              "    }\n",
              "\n",
              "    .colab-df-convert {\n",
              "      background-color: #E8F0FE;\n",
              "      border: none;\n",
              "      border-radius: 50%;\n",
              "      cursor: pointer;\n",
              "      display: none;\n",
              "      fill: #1967D2;\n",
              "      height: 32px;\n",
              "      padding: 0 0 0 0;\n",
              "      width: 32px;\n",
              "    }\n",
              "\n",
              "    .colab-df-convert:hover {\n",
              "      background-color: #E2EBFA;\n",
              "      box-shadow: 0px 1px 2px rgba(60, 64, 67, 0.3), 0px 1px 3px 1px rgba(60, 64, 67, 0.15);\n",
              "      fill: #174EA6;\n",
              "    }\n",
              "\n",
              "    .colab-df-buttons div {\n",
              "      margin-bottom: 4px;\n",
              "    }\n",
              "\n",
              "    [theme=dark] .colab-df-convert {\n",
              "      background-color: #3B4455;\n",
              "      fill: #D2E3FC;\n",
              "    }\n",
              "\n",
              "    [theme=dark] .colab-df-convert:hover {\n",
              "      background-color: #434B5C;\n",
              "      box-shadow: 0px 1px 3px 1px rgba(0, 0, 0, 0.15);\n",
              "      filter: drop-shadow(0px 1px 2px rgba(0, 0, 0, 0.3));\n",
              "      fill: #FFFFFF;\n",
              "    }\n",
              "  </style>\n",
              "\n",
              "    <script>\n",
              "      const buttonEl =\n",
              "        document.querySelector('#df-8b82bcdf-efe5-4f2e-9368-3455a63c892b button.colab-df-convert');\n",
              "      buttonEl.style.display =\n",
              "        google.colab.kernel.accessAllowed ? 'block' : 'none';\n",
              "\n",
              "      async function convertToInteractive(key) {\n",
              "        const element = document.querySelector('#df-8b82bcdf-efe5-4f2e-9368-3455a63c892b');\n",
              "        const dataTable =\n",
              "          await google.colab.kernel.invokeFunction('convertToInteractive',\n",
              "                                                    [key], {});\n",
              "        if (!dataTable) return;\n",
              "\n",
              "        const docLinkHtml = 'Like what you see? Visit the ' +\n",
              "          '<a target=\"_blank\" href=https://colab.research.google.com/notebooks/data_table.ipynb>data table notebook</a>'\n",
              "          + ' to learn more about interactive tables.';\n",
              "        element.innerHTML = '';\n",
              "        dataTable['output_type'] = 'display_data';\n",
              "        await google.colab.output.renderOutput(dataTable, element);\n",
              "        const docLink = document.createElement('div');\n",
              "        docLink.innerHTML = docLinkHtml;\n",
              "        element.appendChild(docLink);\n",
              "      }\n",
              "    </script>\n",
              "  </div>\n",
              "\n",
              "\n",
              "<div id=\"df-15c9f899-c91e-4a13-8912-a8537667c262\">\n",
              "  <button class=\"colab-df-quickchart\" onclick=\"quickchart('df-15c9f899-c91e-4a13-8912-a8537667c262')\"\n",
              "            title=\"Suggest charts.\"\n",
              "            style=\"display:none;\">\n",
              "\n",
              "<svg xmlns=\"http://www.w3.org/2000/svg\" height=\"24px\"viewBox=\"0 0 24 24\"\n",
              "     width=\"24px\">\n",
              "    <g>\n",
              "        <path d=\"M19 3H5c-1.1 0-2 .9-2 2v14c0 1.1.9 2 2 2h14c1.1 0 2-.9 2-2V5c0-1.1-.9-2-2-2zM9 17H7v-7h2v7zm4 0h-2V7h2v10zm4 0h-2v-4h2v4z\"/>\n",
              "    </g>\n",
              "</svg>\n",
              "  </button>\n",
              "\n",
              "<style>\n",
              "  .colab-df-quickchart {\n",
              "      --bg-color: #E8F0FE;\n",
              "      --fill-color: #1967D2;\n",
              "      --hover-bg-color: #E2EBFA;\n",
              "      --hover-fill-color: #174EA6;\n",
              "      --disabled-fill-color: #AAA;\n",
              "      --disabled-bg-color: #DDD;\n",
              "  }\n",
              "\n",
              "  [theme=dark] .colab-df-quickchart {\n",
              "      --bg-color: #3B4455;\n",
              "      --fill-color: #D2E3FC;\n",
              "      --hover-bg-color: #434B5C;\n",
              "      --hover-fill-color: #FFFFFF;\n",
              "      --disabled-bg-color: #3B4455;\n",
              "      --disabled-fill-color: #666;\n",
              "  }\n",
              "\n",
              "  .colab-df-quickchart {\n",
              "    background-color: var(--bg-color);\n",
              "    border: none;\n",
              "    border-radius: 50%;\n",
              "    cursor: pointer;\n",
              "    display: none;\n",
              "    fill: var(--fill-color);\n",
              "    height: 32px;\n",
              "    padding: 0;\n",
              "    width: 32px;\n",
              "  }\n",
              "\n",
              "  .colab-df-quickchart:hover {\n",
              "    background-color: var(--hover-bg-color);\n",
              "    box-shadow: 0 1px 2px rgba(60, 64, 67, 0.3), 0 1px 3px 1px rgba(60, 64, 67, 0.15);\n",
              "    fill: var(--button-hover-fill-color);\n",
              "  }\n",
              "\n",
              "  .colab-df-quickchart-complete:disabled,\n",
              "  .colab-df-quickchart-complete:disabled:hover {\n",
              "    background-color: var(--disabled-bg-color);\n",
              "    fill: var(--disabled-fill-color);\n",
              "    box-shadow: none;\n",
              "  }\n",
              "\n",
              "  .colab-df-spinner {\n",
              "    border: 2px solid var(--fill-color);\n",
              "    border-color: transparent;\n",
              "    border-bottom-color: var(--fill-color);\n",
              "    animation:\n",
              "      spin 1s steps(1) infinite;\n",
              "  }\n",
              "\n",
              "  @keyframes spin {\n",
              "    0% {\n",
              "      border-color: transparent;\n",
              "      border-bottom-color: var(--fill-color);\n",
              "      border-left-color: var(--fill-color);\n",
              "    }\n",
              "    20% {\n",
              "      border-color: transparent;\n",
              "      border-left-color: var(--fill-color);\n",
              "      border-top-color: var(--fill-color);\n",
              "    }\n",
              "    30% {\n",
              "      border-color: transparent;\n",
              "      border-left-color: var(--fill-color);\n",
              "      border-top-color: var(--fill-color);\n",
              "      border-right-color: var(--fill-color);\n",
              "    }\n",
              "    40% {\n",
              "      border-color: transparent;\n",
              "      border-right-color: var(--fill-color);\n",
              "      border-top-color: var(--fill-color);\n",
              "    }\n",
              "    60% {\n",
              "      border-color: transparent;\n",
              "      border-right-color: var(--fill-color);\n",
              "    }\n",
              "    80% {\n",
              "      border-color: transparent;\n",
              "      border-right-color: var(--fill-color);\n",
              "      border-bottom-color: var(--fill-color);\n",
              "    }\n",
              "    90% {\n",
              "      border-color: transparent;\n",
              "      border-bottom-color: var(--fill-color);\n",
              "    }\n",
              "  }\n",
              "</style>\n",
              "\n",
              "  <script>\n",
              "    async function quickchart(key) {\n",
              "      const quickchartButtonEl =\n",
              "        document.querySelector('#' + key + ' button');\n",
              "      quickchartButtonEl.disabled = true;  // To prevent multiple clicks.\n",
              "      quickchartButtonEl.classList.add('colab-df-spinner');\n",
              "      try {\n",
              "        const charts = await google.colab.kernel.invokeFunction(\n",
              "            'suggestCharts', [key], {});\n",
              "      } catch (error) {\n",
              "        console.error('Error during call to suggestCharts:', error);\n",
              "      }\n",
              "      quickchartButtonEl.classList.remove('colab-df-spinner');\n",
              "      quickchartButtonEl.classList.add('colab-df-quickchart-complete');\n",
              "    }\n",
              "    (() => {\n",
              "      let quickchartButtonEl =\n",
              "        document.querySelector('#df-15c9f899-c91e-4a13-8912-a8537667c262 button');\n",
              "      quickchartButtonEl.style.display =\n",
              "        google.colab.kernel.accessAllowed ? 'block' : 'none';\n",
              "    })();\n",
              "  </script>\n",
              "</div>\n",
              "    </div>\n",
              "  </div>\n"
            ]
          },
          "metadata": {},
          "execution_count": 37
        }
      ]
    },
    {
      "cell_type": "code",
      "source": [
        "ch = df['cholesterol'] / df['hdl']\n",
        "ch.describe()"
      ],
      "metadata": {
        "id": "-2uDMxJQktlV",
        "outputId": "6a6519d9-1c19-4885-d811-87d31cf14d69",
        "colab": {
          "base_uri": "https://localhost:8080/"
        }
      },
      "execution_count": 38,
      "outputs": [
        {
          "output_type": "execute_result",
          "data": {
            "text/plain": [
              "count    13863.000000\n",
              "mean         3.755039\n",
              "std          1.178365\n",
              "min          0.559889\n",
              "25%          2.986206\n",
              "50%          3.642857\n",
              "75%          4.400000\n",
              "max         52.500000\n",
              "dtype: float64"
            ]
          },
          "metadata": {},
          "execution_count": 38
        }
      ]
    },
    {
      "cell_type": "code",
      "source": [
        "ch.hist()"
      ],
      "metadata": {
        "id": "zU74N76JlCpw",
        "outputId": "8463e369-8c97-461e-fb8c-71ccba1edbd9",
        "colab": {
          "base_uri": "https://localhost:8080/",
          "height": 452
        }
      },
      "execution_count": 39,
      "outputs": [
        {
          "output_type": "execute_result",
          "data": {
            "text/plain": [
              "<Axes: >"
            ]
          },
          "metadata": {},
          "execution_count": 39
        },
        {
          "output_type": "display_data",
          "data": {
            "text/plain": [
              "<Figure size 640x480 with 1 Axes>"
            ],
            "image/png": "[encoded data removed]"
          },
          "metadata": {}
        }
      ]
    },
    {
      "cell_type": "code",
      "source": [
        "ch = df['cholesterol'] / df['ldl']\n",
        "ch.describe()"
      ],
      "metadata": {
        "outputId": "d0b495d5-b0a1-4d6c-e639-21f728cfb2c8",
        "colab": {
          "base_uri": "https://localhost:8080/"
        },
        "id": "e_S7IkYss1Xy"
      },
      "execution_count": 40,
      "outputs": [
        {
          "output_type": "execute_result",
          "data": {
            "text/plain": [
              "count    13863.000000\n",
              "mean         1.784659\n",
              "std          0.430645\n",
              "min          0.143284\n",
              "25%          1.560000\n",
              "50%          1.692308\n",
              "75%          1.894484\n",
              "max         15.714286\n",
              "dtype: float64"
            ]
          },
          "metadata": {},
          "execution_count": 40
        }
      ]
    },
    {
      "cell_type": "code",
      "source": [
        "ch.hist()"
      ],
      "metadata": {
        "outputId": "37455e98-8bbb-4aff-b4ba-328ee3d6738a",
        "colab": {
          "base_uri": "https://localhost:8080/",
          "height": 447
        },
        "id": "GBFzd25Ps1X1"
      },
      "execution_count": 41,
      "outputs": [
        {
          "output_type": "execute_result",
          "data": {
            "text/plain": [
              "<Axes: >"
            ]
          },
          "metadata": {},
          "execution_count": 41
        },
        {
          "output_type": "display_data",
          "data": {
            "text/plain": [
              "<Figure size 640x480 with 1 Axes>"
            ],
            "image/png": "[encoded data removed]"
          },
          "metadata": {}
        }
      ]
    },
    {
      "cell_type": "code",
      "source": [
        "def add_cholesterol_ratio(df):\n",
        "  ranges_hdl = [0, 3.0, 4.0, 5.0, 6.0, float('inf')]\n",
        "  ranges_ldl = [0, 1.0, 2.0, 3.0, 4.0, float('inf')]\n",
        "  categories = ['very_good', 'good', 'average', 'poor', 'very_poor']\n",
        "\n",
        "  df['cholesterol_to_hdl_ratio'] = df['cholesterol'] / df['hdl']\n",
        "  df['cholesterol_to_ldl_ratio'] = df['cholesterol'] / df['ldl']\n",
        "  df['cat_cholesterol_to_hdl_ratio'] = pd.cut(df['cholesterol_to_hdl_ratio'], bins=ranges_hdl, labels=categories)\n",
        "  df['cat_cholesterol_to_ldl_ratio'] = pd.cut(df['cholesterol_to_ldl_ratio'], bins=ranges_ldl, labels=categories)"
      ],
      "metadata": {
        "id": "erhDYCSOiRL8"
      },
      "execution_count": 42,
      "outputs": []
    },
    {
      "cell_type": "code",
      "source": [
        "add_cholesterol_ratio(df)\n",
        "add_cholesterol_ratio(test)"
      ],
      "metadata": {
        "id": "a9NXKfIimZAy"
      },
      "execution_count": 43,
      "outputs": []
    },
    {
      "cell_type": "markdown",
      "source": [
        "##7. Urine Protein:\n",
        "   Create a ratio between urine protein and serum creatinine:\n",
        "\n",
        "   <b><i>protein_to_creatinine_ratio = urine_protein / serum_creatinine</i></b>\n",
        "  \n",
        "  Protein-to-Creatinine Ratio:\n",
        "   - Very Good: < 0.1\n",
        "   - Good: 0.1 - 0.2\n",
        "   - Average: 0.3 - 0.4\n",
        "   - Poor: 0.5 - 0.6\n",
        "   - Very Poor: ≥ 0.7\n"
      ],
      "metadata": {
        "id": "N580JCQeorx-"
      }
    },
    {
      "cell_type": "code",
      "source": [
        "phik_corr_features(['urine_protein','serum_creatinine'], 'smoking')"
      ],
      "metadata": {
        "id": "rm7SPE7doCfL",
        "outputId": "650dd0ef-b47c-4def-e1dd-02eca81eca18",
        "colab": {
          "base_uri": "https://localhost:8080/",
          "height": 129
        }
      },
      "execution_count": 44,
      "outputs": [
        {
          "output_type": "stream",
          "name": "stdout",
          "text": [
            "interval columns not set, guessing: ['urine_protein', 'serum_creatinine', 'smoking']\n"
          ]
        },
        {
          "output_type": "execute_result",
          "data": {
            "text/plain": [
              "                  smoking\n",
              "serum_creatinine     0.06\n",
              "urine_protein        0.03"
            ],
            "text/html": [
              "\n",
              "  <div id=\"df-990b8ed7-2b5c-472b-b964-706c68758bed\" class=\"colab-df-container\">\n",
              "    <div>\n",
              "<style scoped>\n",
              "    .dataframe tbody tr th:only-of-type {\n",
              "        vertical-align: middle;\n",
              "    }\n",
              "\n",
              "    .dataframe tbody tr th {\n",
              "        vertical-align: top;\n",
              "    }\n",
              "\n",
              "    .dataframe thead th {\n",
              "        text-align: right;\n",
              "    }\n",
              "</style>\n",
              "<table border=\"1\" class=\"dataframe\">\n",
              "  <thead>\n",
              "    <tr style=\"text-align: right;\">\n",
              "      <th></th>\n",
              "      <th>smoking</th>\n",
              "    </tr>\n",
              "  </thead>\n",
              "  <tbody>\n",
              "    <tr>\n",
              "      <th>serum_creatinine</th>\n",
              "      <td>0.06</td>\n",
              "    </tr>\n",
              "    <tr>\n",
              "      <th>urine_protein</th>\n",
              "      <td>0.03</td>\n",
              "    </tr>\n",
              "  </tbody>\n",
              "</table>\n",
              "</div>\n",
              "    <div class=\"colab-df-buttons\">\n",
              "\n",
              "  <div class=\"colab-df-container\">\n",
              "    <button class=\"colab-df-convert\" onclick=\"convertToInteractive('df-990b8ed7-2b5c-472b-b964-706c68758bed')\"\n",
              "            title=\"Convert this dataframe to an interactive table.\"\n",
              "            style=\"display:none;\">\n",
              "\n",
              "  <svg xmlns=\"http://www.w3.org/2000/svg\" height=\"24px\" viewBox=\"0 -960 960 960\">\n",
              "    <path d=\"M120-120v-720h720v720H120Zm60-500h600v-160H180v160Zm220 220h160v-160H400v160Zm0 220h160v-160H400v160ZM180-400h160v-160H180v160Zm440 0h160v-160H620v160ZM180-180h160v-160H180v160Zm440 0h160v-160H620v160Z\"/>\n",
              "  </svg>\n",
              "    </button>\n",
              "\n",
              "  <style>\n",
              "    .colab-df-container {\n",
              "      display:flex;\n",
              "      gap: 12px;\n",
              "    }\n",
              "\n",
              "    .colab-df-convert {\n",
              "      background-color: #E8F0FE;\n",
              "      border: none;\n",
              "      border-radius: 50%;\n",
              "      cursor: pointer;\n",
              "      display: none;\n",
              "      fill: #1967D2;\n",
              "      height: 32px;\n",
              "      padding: 0 0 0 0;\n",
              "      width: 32px;\n",
              "    }\n",
              "\n",
              "    .colab-df-convert:hover {\n",
              "      background-color: #E2EBFA;\n",
              "      box-shadow: 0px 1px 2px rgba(60, 64, 67, 0.3), 0px 1px 3px 1px rgba(60, 64, 67, 0.15);\n",
              "      fill: #174EA6;\n",
              "    }\n",
              "\n",
              "    .colab-df-buttons div {\n",
              "      margin-bottom: 4px;\n",
              "    }\n",
              "\n",
              "    [theme=dark] .colab-df-convert {\n",
              "      background-color: #3B4455;\n",
              "      fill: #D2E3FC;\n",
              "    }\n",
              "\n",
              "    [theme=dark] .colab-df-convert:hover {\n",
              "      background-color: #434B5C;\n",
              "      box-shadow: 0px 1px 3px 1px rgba(0, 0, 0, 0.15);\n",
              "      filter: drop-shadow(0px 1px 2px rgba(0, 0, 0, 0.3));\n",
              "      fill: #FFFFFF;\n",
              "    }\n",
              "  </style>\n",
              "\n",
              "    <script>\n",
              "      const buttonEl =\n",
              "        document.querySelector('#df-990b8ed7-2b5c-472b-b964-706c68758bed button.colab-df-convert');\n",
              "      buttonEl.style.display =\n",
              "        google.colab.kernel.accessAllowed ? 'block' : 'none';\n",
              "\n",
              "      async function convertToInteractive(key) {\n",
              "        const element = document.querySelector('#df-990b8ed7-2b5c-472b-b964-706c68758bed');\n",
              "        const dataTable =\n",
              "          await google.colab.kernel.invokeFunction('convertToInteractive',\n",
              "                                                    [key], {});\n",
              "        if (!dataTable) return;\n",
              "\n",
              "        const docLinkHtml = 'Like what you see? Visit the ' +\n",
              "          '<a target=\"_blank\" href=https://colab.research.google.com/notebooks/data_table.ipynb>data table notebook</a>'\n",
              "          + ' to learn more about interactive tables.';\n",
              "        element.innerHTML = '';\n",
              "        dataTable['output_type'] = 'display_data';\n",
              "        await google.colab.output.renderOutput(dataTable, element);\n",
              "        const docLink = document.createElement('div');\n",
              "        docLink.innerHTML = docLinkHtml;\n",
              "        element.appendChild(docLink);\n",
              "      }\n",
              "    </script>\n",
              "  </div>\n",
              "\n",
              "\n",
              "<div id=\"df-611030a1-c403-4674-ba59-b6035e8e7ccf\">\n",
              "  <button class=\"colab-df-quickchart\" onclick=\"quickchart('df-611030a1-c403-4674-ba59-b6035e8e7ccf')\"\n",
              "            title=\"Suggest charts.\"\n",
              "            style=\"display:none;\">\n",
              "\n",
              "<svg xmlns=\"http://www.w3.org/2000/svg\" height=\"24px\"viewBox=\"0 0 24 24\"\n",
              "     width=\"24px\">\n",
              "    <g>\n",
              "        <path d=\"M19 3H5c-1.1 0-2 .9-2 2v14c0 1.1.9 2 2 2h14c1.1 0 2-.9 2-2V5c0-1.1-.9-2-2-2zM9 17H7v-7h2v7zm4 0h-2V7h2v10zm4 0h-2v-4h2v4z\"/>\n",
              "    </g>\n",
              "</svg>\n",
              "  </button>\n",
              "\n",
              "<style>\n",
              "  .colab-df-quickchart {\n",
              "      --bg-color: #E8F0FE;\n",
              "      --fill-color: #1967D2;\n",
              "      --hover-bg-color: #E2EBFA;\n",
              "      --hover-fill-color: #174EA6;\n",
              "      --disabled-fill-color: #AAA;\n",
              "      --disabled-bg-color: #DDD;\n",
              "  }\n",
              "\n",
              "  [theme=dark] .colab-df-quickchart {\n",
              "      --bg-color: #3B4455;\n",
              "      --fill-color: #D2E3FC;\n",
              "      --hover-bg-color: #434B5C;\n",
              "      --hover-fill-color: #FFFFFF;\n",
              "      --disabled-bg-color: #3B4455;\n",
              "      --disabled-fill-color: #666;\n",
              "  }\n",
              "\n",
              "  .colab-df-quickchart {\n",
              "    background-color: var(--bg-color);\n",
              "    border: none;\n",
              "    border-radius: 50%;\n",
              "    cursor: pointer;\n",
              "    display: none;\n",
              "    fill: var(--fill-color);\n",
              "    height: 32px;\n",
              "    padding: 0;\n",
              "    width: 32px;\n",
              "  }\n",
              "\n",
              "  .colab-df-quickchart:hover {\n",
              "    background-color: var(--hover-bg-color);\n",
              "    box-shadow: 0 1px 2px rgba(60, 64, 67, 0.3), 0 1px 3px 1px rgba(60, 64, 67, 0.15);\n",
              "    fill: var(--button-hover-fill-color);\n",
              "  }\n",
              "\n",
              "  .colab-df-quickchart-complete:disabled,\n",
              "  .colab-df-quickchart-complete:disabled:hover {\n",
              "    background-color: var(--disabled-bg-color);\n",
              "    fill: var(--disabled-fill-color);\n",
              "    box-shadow: none;\n",
              "  }\n",
              "\n",
              "  .colab-df-spinner {\n",
              "    border: 2px solid var(--fill-color);\n",
              "    border-color: transparent;\n",
              "    border-bottom-color: var(--fill-color);\n",
              "    animation:\n",
              "      spin 1s steps(1) infinite;\n",
              "  }\n",
              "\n",
              "  @keyframes spin {\n",
              "    0% {\n",
              "      border-color: transparent;\n",
              "      border-bottom-color: var(--fill-color);\n",
              "      border-left-color: var(--fill-color);\n",
              "    }\n",
              "    20% {\n",
              "      border-color: transparent;\n",
              "      border-left-color: var(--fill-color);\n",
              "      border-top-color: var(--fill-color);\n",
              "    }\n",
              "    30% {\n",
              "      border-color: transparent;\n",
              "      border-left-color: var(--fill-color);\n",
              "      border-top-color: var(--fill-color);\n",
              "      border-right-color: var(--fill-color);\n",
              "    }\n",
              "    40% {\n",
              "      border-color: transparent;\n",
              "      border-right-color: var(--fill-color);\n",
              "      border-top-color: var(--fill-color);\n",
              "    }\n",
              "    60% {\n",
              "      border-color: transparent;\n",
              "      border-right-color: var(--fill-color);\n",
              "    }\n",
              "    80% {\n",
              "      border-color: transparent;\n",
              "      border-right-color: var(--fill-color);\n",
              "      border-bottom-color: var(--fill-color);\n",
              "    }\n",
              "    90% {\n",
              "      border-color: transparent;\n",
              "      border-bottom-color: var(--fill-color);\n",
              "    }\n",
              "  }\n",
              "</style>\n",
              "\n",
              "  <script>\n",
              "    async function quickchart(key) {\n",
              "      const quickchartButtonEl =\n",
              "        document.querySelector('#' + key + ' button');\n",
              "      quickchartButtonEl.disabled = true;  // To prevent multiple clicks.\n",
              "      quickchartButtonEl.classList.add('colab-df-spinner');\n",
              "      try {\n",
              "        const charts = await google.colab.kernel.invokeFunction(\n",
              "            'suggestCharts', [key], {});\n",
              "      } catch (error) {\n",
              "        console.error('Error during call to suggestCharts:', error);\n",
              "      }\n",
              "      quickchartButtonEl.classList.remove('colab-df-spinner');\n",
              "      quickchartButtonEl.classList.add('colab-df-quickchart-complete');\n",
              "    }\n",
              "    (() => {\n",
              "      let quickchartButtonEl =\n",
              "        document.querySelector('#df-611030a1-c403-4674-ba59-b6035e8e7ccf button');\n",
              "      quickchartButtonEl.style.display =\n",
              "        google.colab.kernel.accessAllowed ? 'block' : 'none';\n",
              "    })();\n",
              "  </script>\n",
              "</div>\n",
              "    </div>\n",
              "  </div>\n"
            ]
          },
          "metadata": {},
          "execution_count": 44
        }
      ]
    },
    {
      "cell_type": "code",
      "source": [
        "ch = df['urine_protein'] / df['serum_creatinine']\n",
        "ch.describe()"
      ],
      "metadata": {
        "id": "mGhZ2dZrnMX1",
        "outputId": "b998c737-f4b9-4c67-9c89-7b4e090e3bf2",
        "colab": {
          "base_uri": "https://localhost:8080/"
        }
      },
      "execution_count": 45,
      "outputs": [
        {
          "output_type": "execute_result",
          "data": {
            "text/plain": [
              "count    13863.000000\n",
              "mean         1.154677\n",
              "std          0.619274\n",
              "min          0.100000\n",
              "25%          0.909091\n",
              "50%          1.000000\n",
              "75%          1.250000\n",
              "max         30.000000\n",
              "dtype: float64"
            ]
          },
          "metadata": {},
          "execution_count": 45
        }
      ]
    },
    {
      "cell_type": "code",
      "source": [
        "ch.hist()"
      ],
      "metadata": {
        "colab": {
          "base_uri": "https://localhost:8080/",
          "height": 447
        },
        "id": "da3CT_n5vSXL",
        "outputId": "e8ef6b4c-ca04-43ef-982c-3949d463aca6"
      },
      "execution_count": 46,
      "outputs": [
        {
          "output_type": "execute_result",
          "data": {
            "text/plain": [
              "<Axes: >"
            ]
          },
          "metadata": {},
          "execution_count": 46
        },
        {
          "output_type": "display_data",
          "data": {
            "text/plain": [
              "<Figure size 640x480 with 1 Axes>"
            ],
            "image/png": "[encoded data removed]"
          },
          "metadata": {}
        }
      ]
    },
    {
      "cell_type": "code",
      "source": [
        "def add_protein_to_creatinine_ratio(df):\n",
        "  df['protein_to_creatinine_ratio'] = df['urine_protein'] / df['serum_creatinine']\n",
        "\n",
        "add_protein_to_creatinine_ratio(df)\n",
        "add_protein_to_creatinine_ratio(test)"
      ],
      "metadata": {
        "id": "BnI6wzhHmxQz"
      },
      "execution_count": 47,
      "outputs": []
    },
    {
      "cell_type": "markdown",
      "source": [
        "##8. Dental care:"
      ],
      "metadata": {
        "id": "_VM54L3PwUkg"
      }
    },
    {
      "cell_type": "code",
      "source": [
        "phik_corr_features(['dental_caries', 'tartar'], 'smoking')"
      ],
      "metadata": {
        "colab": {
          "base_uri": "https://localhost:8080/",
          "height": 129
        },
        "id": "pI2C1GVAN-Gc",
        "outputId": "41bfed01-781b-408d-93a7-849d2de3f1ed"
      },
      "execution_count": 48,
      "outputs": [
        {
          "output_type": "stream",
          "name": "stdout",
          "text": [
            "interval columns not set, guessing: ['dental_caries', 'smoking']\n"
          ]
        },
        {
          "output_type": "execute_result",
          "data": {
            "text/plain": [
              "               smoking\n",
              "tartar            0.10\n",
              "dental_caries     0.09"
            ],
            "text/html": [
              "\n",
              "  <div id=\"df-f0a9d95b-f3fc-43a0-9789-9db8c34ae7de\" class=\"colab-df-container\">\n",
              "    <div>\n",
              "<style scoped>\n",
              "    .dataframe tbody tr th:only-of-type {\n",
              "        vertical-align: middle;\n",
              "    }\n",
              "\n",
              "    .dataframe tbody tr th {\n",
              "        vertical-align: top;\n",
              "    }\n",
              "\n",
              "    .dataframe thead th {\n",
              "        text-align: right;\n",
              "    }\n",
              "</style>\n",
              "<table border=\"1\" class=\"dataframe\">\n",
              "  <thead>\n",
              "    <tr style=\"text-align: right;\">\n",
              "      <th></th>\n",
              "      <th>smoking</th>\n",
              "    </tr>\n",
              "  </thead>\n",
              "  <tbody>\n",
              "    <tr>\n",
              "      <th>tartar</th>\n",
              "      <td>0.10</td>\n",
              "    </tr>\n",
              "    <tr>\n",
              "      <th>dental_caries</th>\n",
              "      <td>0.09</td>\n",
              "    </tr>\n",
              "  </tbody>\n",
              "</table>\n",
              "</div>\n",
              "    <div class=\"colab-df-buttons\">\n",
              "\n",
              "  <div class=\"colab-df-container\">\n",
              "    <button class=\"colab-df-convert\" onclick=\"convertToInteractive('df-f0a9d95b-f3fc-43a0-9789-9db8c34ae7de')\"\n",
              "            title=\"Convert this dataframe to an interactive table.\"\n",
              "            style=\"display:none;\">\n",
              "\n",
              "  <svg xmlns=\"http://www.w3.org/2000/svg\" height=\"24px\" viewBox=\"0 -960 960 960\">\n",
              "    <path d=\"M120-120v-720h720v720H120Zm60-500h600v-160H180v160Zm220 220h160v-160H400v160Zm0 220h160v-160H400v160ZM180-400h160v-160H180v160Zm440 0h160v-160H620v160ZM180-180h160v-160H180v160Zm440 0h160v-160H620v160Z\"/>\n",
              "  </svg>\n",
              "    </button>\n",
              "\n",
              "  <style>\n",
              "    .colab-df-container {\n",
              "      display:flex;\n",
              "      gap: 12px;\n",
              "    }\n",
              "\n",
              "    .colab-df-convert {\n",
              "      background-color: #E8F0FE;\n",
              "      border: none;\n",
              "      border-radius: 50%;\n",
              "      cursor: pointer;\n",
              "      display: none;\n",
              "      fill: #1967D2;\n",
              "      height: 32px;\n",
              "      padding: 0 0 0 0;\n",
              "      width: 32px;\n",
              "    }\n",
              "\n",
              "    .colab-df-convert:hover {\n",
              "      background-color: #E2EBFA;\n",
              "      box-shadow: 0px 1px 2px rgba(60, 64, 67, 0.3), 0px 1px 3px 1px rgba(60, 64, 67, 0.15);\n",
              "      fill: #174EA6;\n",
              "    }\n",
              "\n",
              "    .colab-df-buttons div {\n",
              "      margin-bottom: 4px;\n",
              "    }\n",
              "\n",
              "    [theme=dark] .colab-df-convert {\n",
              "      background-color: #3B4455;\n",
              "      fill: #D2E3FC;\n",
              "    }\n",
              "\n",
              "    [theme=dark] .colab-df-convert:hover {\n",
              "      background-color: #434B5C;\n",
              "      box-shadow: 0px 1px 3px 1px rgba(0, 0, 0, 0.15);\n",
              "      filter: drop-shadow(0px 1px 2px rgba(0, 0, 0, 0.3));\n",
              "      fill: #FFFFFF;\n",
              "    }\n",
              "  </style>\n",
              "\n",
              "    <script>\n",
              "      const buttonEl =\n",
              "        document.querySelector('#df-f0a9d95b-f3fc-43a0-9789-9db8c34ae7de button.colab-df-convert');\n",
              "      buttonEl.style.display =\n",
              "        google.colab.kernel.accessAllowed ? 'block' : 'none';\n",
              "\n",
              "      async function convertToInteractive(key) {\n",
              "        const element = document.querySelector('#df-f0a9d95b-f3fc-43a0-9789-9db8c34ae7de');\n",
              "        const dataTable =\n",
              "          await google.colab.kernel.invokeFunction('convertToInteractive',\n",
              "                                                    [key], {});\n",
              "        if (!dataTable) return;\n",
              "\n",
              "        const docLinkHtml = 'Like what you see? Visit the ' +\n",
              "          '<a target=\"_blank\" href=https://colab.research.google.com/notebooks/data_table.ipynb>data table notebook</a>'\n",
              "          + ' to learn more about interactive tables.';\n",
              "        element.innerHTML = '';\n",
              "        dataTable['output_type'] = 'display_data';\n",
              "        await google.colab.output.renderOutput(dataTable, element);\n",
              "        const docLink = document.createElement('div');\n",
              "        docLink.innerHTML = docLinkHtml;\n",
              "        element.appendChild(docLink);\n",
              "      }\n",
              "    </script>\n",
              "  </div>\n",
              "\n",
              "\n",
              "<div id=\"df-271d2038-b472-4d05-b564-110c4f3d939f\">\n",
              "  <button class=\"colab-df-quickchart\" onclick=\"quickchart('df-271d2038-b472-4d05-b564-110c4f3d939f')\"\n",
              "            title=\"Suggest charts.\"\n",
              "            style=\"display:none;\">\n",
              "\n",
              "<svg xmlns=\"http://www.w3.org/2000/svg\" height=\"24px\"viewBox=\"0 0 24 24\"\n",
              "     width=\"24px\">\n",
              "    <g>\n",
              "        <path d=\"M19 3H5c-1.1 0-2 .9-2 2v14c0 1.1.9 2 2 2h14c1.1 0 2-.9 2-2V5c0-1.1-.9-2-2-2zM9 17H7v-7h2v7zm4 0h-2V7h2v10zm4 0h-2v-4h2v4z\"/>\n",
              "    </g>\n",
              "</svg>\n",
              "  </button>\n",
              "\n",
              "<style>\n",
              "  .colab-df-quickchart {\n",
              "      --bg-color: #E8F0FE;\n",
              "      --fill-color: #1967D2;\n",
              "      --hover-bg-color: #E2EBFA;\n",
              "      --hover-fill-color: #174EA6;\n",
              "      --disabled-fill-color: #AAA;\n",
              "      --disabled-bg-color: #DDD;\n",
              "  }\n",
              "\n",
              "  [theme=dark] .colab-df-quickchart {\n",
              "      --bg-color: #3B4455;\n",
              "      --fill-color: #D2E3FC;\n",
              "      --hover-bg-color: #434B5C;\n",
              "      --hover-fill-color: #FFFFFF;\n",
              "      --disabled-bg-color: #3B4455;\n",
              "      --disabled-fill-color: #666;\n",
              "  }\n",
              "\n",
              "  .colab-df-quickchart {\n",
              "    background-color: var(--bg-color);\n",
              "    border: none;\n",
              "    border-radius: 50%;\n",
              "    cursor: pointer;\n",
              "    display: none;\n",
              "    fill: var(--fill-color);\n",
              "    height: 32px;\n",
              "    padding: 0;\n",
              "    width: 32px;\n",
              "  }\n",
              "\n",
              "  .colab-df-quickchart:hover {\n",
              "    background-color: var(--hover-bg-color);\n",
              "    box-shadow: 0 1px 2px rgba(60, 64, 67, 0.3), 0 1px 3px 1px rgba(60, 64, 67, 0.15);\n",
              "    fill: var(--button-hover-fill-color);\n",
              "  }\n",
              "\n",
              "  .colab-df-quickchart-complete:disabled,\n",
              "  .colab-df-quickchart-complete:disabled:hover {\n",
              "    background-color: var(--disabled-bg-color);\n",
              "    fill: var(--disabled-fill-color);\n",
              "    box-shadow: none;\n",
              "  }\n",
              "\n",
              "  .colab-df-spinner {\n",
              "    border: 2px solid var(--fill-color);\n",
              "    border-color: transparent;\n",
              "    border-bottom-color: var(--fill-color);\n",
              "    animation:\n",
              "      spin 1s steps(1) infinite;\n",
              "  }\n",
              "\n",
              "  @keyframes spin {\n",
              "    0% {\n",
              "      border-color: transparent;\n",
              "      border-bottom-color: var(--fill-color);\n",
              "      border-left-color: var(--fill-color);\n",
              "    }\n",
              "    20% {\n",
              "      border-color: transparent;\n",
              "      border-left-color: var(--fill-color);\n",
              "      border-top-color: var(--fill-color);\n",
              "    }\n",
              "    30% {\n",
              "      border-color: transparent;\n",
              "      border-left-color: var(--fill-color);\n",
              "      border-top-color: var(--fill-color);\n",
              "      border-right-color: var(--fill-color);\n",
              "    }\n",
              "    40% {\n",
              "      border-color: transparent;\n",
              "      border-right-color: var(--fill-color);\n",
              "      border-top-color: var(--fill-color);\n",
              "    }\n",
              "    60% {\n",
              "      border-color: transparent;\n",
              "      border-right-color: var(--fill-color);\n",
              "    }\n",
              "    80% {\n",
              "      border-color: transparent;\n",
              "      border-right-color: var(--fill-color);\n",
              "      border-bottom-color: var(--fill-color);\n",
              "    }\n",
              "    90% {\n",
              "      border-color: transparent;\n",
              "      border-bottom-color: var(--fill-color);\n",
              "    }\n",
              "  }\n",
              "</style>\n",
              "\n",
              "  <script>\n",
              "    async function quickchart(key) {\n",
              "      const quickchartButtonEl =\n",
              "        document.querySelector('#' + key + ' button');\n",
              "      quickchartButtonEl.disabled = true;  // To prevent multiple clicks.\n",
              "      quickchartButtonEl.classList.add('colab-df-spinner');\n",
              "      try {\n",
              "        const charts = await google.colab.kernel.invokeFunction(\n",
              "            'suggestCharts', [key], {});\n",
              "      } catch (error) {\n",
              "        console.error('Error during call to suggestCharts:', error);\n",
              "      }\n",
              "      quickchartButtonEl.classList.remove('colab-df-spinner');\n",
              "      quickchartButtonEl.classList.add('colab-df-quickchart-complete');\n",
              "    }\n",
              "    (() => {\n",
              "      let quickchartButtonEl =\n",
              "        document.querySelector('#df-271d2038-b472-4d05-b564-110c4f3d939f button');\n",
              "      quickchartButtonEl.style.display =\n",
              "        google.colab.kernel.accessAllowed ? 'block' : 'none';\n",
              "    })();\n",
              "  </script>\n",
              "</div>\n",
              "    </div>\n",
              "  </div>\n"
            ]
          },
          "metadata": {},
          "execution_count": 48
        }
      ]
    },
    {
      "cell_type": "code",
      "source": [
        "df['tartar'] = (df['tartar'] == 'Y').astype('int')\n",
        "\n",
        "ch = df['tartar'] + df['dental_caries']\n",
        "ch.hist()"
      ],
      "metadata": {
        "colab": {
          "base_uri": "https://localhost:8080/",
          "height": 447
        },
        "id": "eHfQBevh4LrA",
        "outputId": "bb29073e-3ac5-4038-ef3c-3cc8e4da5a07"
      },
      "execution_count": 49,
      "outputs": [
        {
          "output_type": "execute_result",
          "data": {
            "text/plain": [
              "<Axes: >"
            ]
          },
          "metadata": {},
          "execution_count": 49
        },
        {
          "output_type": "display_data",
          "data": {
            "text/plain": [
              "<Figure size 640x480 with 1 Axes>"
            ],
            "image/png": "[encoded data removed]"
          },
          "metadata": {}
        }
      ]
    },
    {
      "cell_type": "code",
      "source": [
        "ch.nunique()"
      ],
      "metadata": {
        "colab": {
          "base_uri": "https://localhost:8080/"
        },
        "id": "jJAjFHgM4jas",
        "outputId": "f4ca30ed-41e9-4424-fedf-6d038db3cefd"
      },
      "execution_count": 50,
      "outputs": [
        {
          "output_type": "execute_result",
          "data": {
            "text/plain": [
              "3"
            ]
          },
          "metadata": {},
          "execution_count": 50
        }
      ]
    },
    {
      "cell_type": "code",
      "source": [
        "df['tartar'] = (df['tartar'] == 'Y').astype('int')\n",
        "test['tartar'] = (test['tartar'] == 'Y').astype('int')\n",
        "\n",
        "def add_dental_health(df):\n",
        "  df['dental_health'] = df['tartar'] + df['dental_caries']\n",
        "  ranges = [-0.5, 0.5, 1.5, 2.5]\n",
        "  categories = ['very_good', 'average', 'very_poor']\n",
        "  df['cat_dental_health'] = pd.cut(df['dental_health'], bins=ranges, labels=categories)\n",
        "\n",
        "add_dental_health(df)\n",
        "add_dental_health(test)"
      ],
      "metadata": {
        "id": "iyMo_WEqOnqb"
      },
      "execution_count": 51,
      "outputs": []
    },
    {
      "cell_type": "code",
      "source": [
        "df.columns"
      ],
      "metadata": {
        "colab": {
          "base_uri": "https://localhost:8080/"
        },
        "id": "njEPtPLDDfpz",
        "outputId": "2a94ce32-9ac6-41b8-e292-149a275bdde1"
      },
      "execution_count": 52,
      "outputs": [
        {
          "output_type": "execute_result",
          "data": {
            "text/plain": [
              "Index(['id', 'age', 'height_cm', 'weight_kg', 'waist_cm', 'eyesight_left',\n",
              "       'eyesight_right', 'hearing_left', 'hearing_right', 'systolic',\n",
              "       'relaxation', 'fasting_blood_sugar', 'cholesterol', 'triglyceride',\n",
              "       'hdl', 'ldl', 'hemoglobin', 'urine_protein', 'serum_creatinine', 'ast',\n",
              "       'alt', 'gtp', 'oral', 'dental_caries', 'tartar', 'smoking', 'bmi',\n",
              "       'cat_bmi', 'waist_to_height_ratio', 'cat_waist_to_height_ratio',\n",
              "       'blood_pressure', 'cat_blood_pressure', 'eyesight_avg', 'hearing_avg',\n",
              "       'cholesterol_to_hdl_ratio', 'cholesterol_to_ldl_ratio',\n",
              "       'cat_cholesterol_to_hdl_ratio', 'cat_cholesterol_to_ldl_ratio',\n",
              "       'protein_to_creatinine_ratio', 'dental_health', 'cat_dental_health'],\n",
              "      dtype='object')"
            ]
          },
          "metadata": {},
          "execution_count": 52
        }
      ]
    },
    {
      "cell_type": "code",
      "source": [
        "df.select_dtypes(include='category').columns"
      ],
      "metadata": {
        "colab": {
          "base_uri": "https://localhost:8080/"
        },
        "id": "jfGEW_SoHRBL",
        "outputId": "f375d621-7f00-4e24-af0e-46cc26af0d36"
      },
      "execution_count": 62,
      "outputs": [
        {
          "output_type": "execute_result",
          "data": {
            "text/plain": [
              "Index(['cat_bmi', 'cat_waist_to_height_ratio', 'cat_blood_pressure',\n",
              "       'cat_cholesterol_to_hdl_ratio', 'cat_cholesterol_to_ldl_ratio',\n",
              "       'cat_dental_health'],\n",
              "      dtype='object')"
            ]
          },
          "metadata": {},
          "execution_count": 62
        }
      ]
    },
    {
      "cell_type": "markdown",
      "source": [
        "#Splited data by train and validation data, in proportion 80/20"
      ],
      "metadata": {
        "id": "44yNEzr4UEXv"
      }
    },
    {
      "cell_type": "code",
      "source": [
        "train, val = train_test_split(df, train_size=0.80, random_state=42, stratify=df['smoking'])"
      ],
      "metadata": {
        "id": "uKFA6UmE4tsT"
      },
      "execution_count": 53,
      "outputs": []
    },
    {
      "cell_type": "code",
      "source": [
        "train.smoking.mean()"
      ],
      "metadata": {
        "colab": {
          "base_uri": "https://localhost:8080/"
        },
        "id": "V2OsDrXiGA56",
        "outputId": "826f7866-e73b-41fe-ca89-f58f4a08a035"
      },
      "execution_count": 54,
      "outputs": [
        {
          "output_type": "execute_result",
          "data": {
            "text/plain": [
              "0.20198376916140667"
            ]
          },
          "metadata": {},
          "execution_count": 54
        }
      ]
    },
    {
      "cell_type": "code",
      "source": [
        "val.smoking.mean()\n"
      ],
      "metadata": {
        "colab": {
          "base_uri": "https://localhost:8080/"
        },
        "id": "z3qgIjSBGHJZ",
        "outputId": "9a3f2184-e1f2-4916-81a7-0b2267d461de"
      },
      "execution_count": 55,
      "outputs": [
        {
          "output_type": "execute_result",
          "data": {
            "text/plain": [
              "0.2019473494410386"
            ]
          },
          "metadata": {},
          "execution_count": 55
        }
      ]
    },
    {
      "cell_type": "code",
      "source": [
        "X = ['id', 'age', 'height_cm', 'weight_kg', 'waist_cm', 'eyesight_left',\n",
        "       'eyesight_right', 'hearing_left', 'hearing_right', 'systolic',\n",
        "       'relaxation', 'fasting_blood_sugar', 'cholesterol', 'triglyceride',\n",
        "       'hdl', 'ldl', 'hemoglobin', 'urine_protein', 'serum_creatinine', 'ast',\n",
        "       'alt', 'gtp', 'dental_caries', 'tartar']\n",
        "\n",
        "\n",
        "y = [\"smoking\"]\n",
        "\n",
        "# cat_features = ['tartar']"
      ],
      "metadata": {
        "id": "YrTgfwEt5ALG"
      },
      "execution_count": 71,
      "outputs": []
    },
    {
      "cell_type": "code",
      "source": [
        "X_1 = ['age', 'height_cm', 'weight_kg', 'waist_cm', 'systolic',\n",
        "       'relaxation', 'fasting_blood_sugar', 'cholesterol', 'triglyceride',\n",
        "       'hdl', 'ldl', 'hemoglobin', 'urine_protein', 'serum_creatinine', 'ast',\n",
        "       'alt', 'gtp', 'dental_caries', 'tartar', 'bmi',\n",
        "       'cat_bmi', 'waist_to_height_ratio', 'cat_waist_to_height_ratio',\n",
        "       'blood_pressure', 'cat_blood_pressure', 'eyesight_avg', 'hearing_avg',\n",
        "       'cholesterol_to_hdl_ratio', 'cholesterol_to_ldl_ratio',\n",
        "       'cat_cholesterol_to_hdl_ratio', 'cat_cholesterol_to_ldl_ratio',\n",
        "       'protein_to_creatinine_ratio', 'dental_health', 'cat_dental_health']\n",
        "\n",
        "\n",
        "y = [\"smoking\"]\n",
        "\n",
        "cat_features_1 = ['cat_bmi', 'cat_waist_to_height_ratio', 'cat_blood_pressure',\n",
        "       'cat_cholesterol_to_hdl_ratio', 'cat_cholesterol_to_ldl_ratio',\n",
        "       'cat_dental_health']"
      ],
      "metadata": {
        "id": "YQ6EOcQI5dT7"
      },
      "execution_count": 63,
      "outputs": []
    },
    {
      "cell_type": "code",
      "source": [
        "# phik_corr_features(X_1, 'smoking')\n",
        "df.dtypes"
      ],
      "metadata": {
        "colab": {
          "base_uri": "https://localhost:8080/"
        },
        "id": "4aVRqQuLJV1z",
        "outputId": "5a565801-f179-4b9e-de69-bc0e9457d99a"
      },
      "execution_count": 70,
      "outputs": [
        {
          "output_type": "execute_result",
          "data": {
            "text/plain": [
              "id                                int64\n",
              "age                               int64\n",
              "height_cm                         int64\n",
              "weight_kg                         int64\n",
              "waist_cm                        float64\n",
              "eyesight_left                   float64\n",
              "eyesight_right                  float64\n",
              "hearing_left                    float64\n",
              "hearing_right                   float64\n",
              "systolic                        float64\n",
              "relaxation                      float64\n",
              "fasting_blood_sugar             float64\n",
              "cholesterol                     float64\n",
              "triglyceride                    float64\n",
              "hdl                             float64\n",
              "ldl                             float64\n",
              "hemoglobin                      float64\n",
              "urine_protein                   float64\n",
              "serum_creatinine                float64\n",
              "ast                             float64\n",
              "alt                             float64\n",
              "gtp                             float64\n",
              "oral                             object\n",
              "dental_caries                     int64\n",
              "tartar                            int64\n",
              "smoking                           int64\n",
              "bmi                             float64\n",
              "cat_bmi                          object\n",
              "waist_to_height_ratio           float64\n",
              "cat_waist_to_height_ratio        object\n",
              "blood_pressure                  float64\n",
              "cat_blood_pressure               object\n",
              "eyesight_avg                    float64\n",
              "hearing_avg                     float64\n",
              "cholesterol_to_hdl_ratio        float64\n",
              "cholesterol_to_ldl_ratio        float64\n",
              "cat_cholesterol_to_hdl_ratio     object\n",
              "cat_cholesterol_to_ldl_ratio     object\n",
              "protein_to_creatinine_ratio     float64\n",
              "dental_health                     int64\n",
              "cat_dental_health                object\n",
              "dtype: object"
            ]
          },
          "metadata": {},
          "execution_count": 70
        }
      ]
    },
    {
      "cell_type": "code",
      "source": [
        "df[cat_features_1] = df[cat_features_1].astype('str')\n",
        "test[cat_features_1] = test[cat_features_1].astype('str')"
      ],
      "metadata": {
        "id": "MSM2UPcUKwq3"
      },
      "execution_count": 68,
      "outputs": []
    },
    {
      "cell_type": "code",
      "source": [
        "train_data = Pool(data=train[X],\n",
        "                  label=train[y],\n",
        "                  # cat_features=cat_features\n",
        "                 )\n",
        "\n",
        "valid_data = Pool(data=val[X],\n",
        "                  label=val[y],\n",
        "                  # cat_features=cat_features\n",
        "                 )\n",
        "\n",
        "train_full_data = Pool(data=df[X],\n",
        "                  label=df[y],\n",
        "                  # cat_features=cat_features\n",
        "                 )"
      ],
      "metadata": {
        "id": "YMm27Mva5eRG"
      },
      "execution_count": 72,
      "outputs": []
    },
    {
      "cell_type": "code",
      "source": [
        "train_data_1 = Pool(data=train[X_1],\n",
        "                  label=train[y],\n",
        "                  cat_features=cat_features_1\n",
        "                 )\n",
        "\n",
        "valid_data_1 = Pool(data=val[X_1],\n",
        "                  label=val[y],\n",
        "                  cat_features=cat_features_1\n",
        "                 )\n",
        "\n",
        "train_full_data_1 = Pool(data=df[X_1],\n",
        "                  label=df[y],\n",
        "                  cat_features=cat_features_1\n",
        "                 )"
      ],
      "metadata": {
        "id": "lS-SCST8J51_"
      },
      "execution_count": 73,
      "outputs": []
    },
    {
      "cell_type": "code",
      "source": [
        "params = {\n",
        "    # 'cat_features': cat_features,\n",
        "    # 'iterations': model.best_iteration_ + 1,\n",
        "    'eval_metric': 'AUC',\n",
        "    'loss_function': 'Logloss',\n",
        "    'learning_rate': 0.011,\n",
        "    'random_seed': 42,\n",
        "    'verbose':100\n",
        "}\n",
        "\n",
        "params_1 = {\n",
        "    # 'iterations': model_1.best_iteration_ + 1,\n",
        "    'cat_features': cat_features_1,\n",
        "    'eval_metric': 'AUC',\n",
        "    'loss_function': 'Logloss',\n",
        "    'learning_rate': 0.01,\n",
        "    'random_seed': 42,\n",
        "    'verbose':100\n",
        "}"
      ],
      "metadata": {
        "id": "pLOhl7rh6TRf"
      },
      "execution_count": 84,
      "outputs": []
    },
    {
      "cell_type": "code",
      "source": [
        "cv_data = cv(\n",
        "    params = params,\n",
        "    pool = train_data,\n",
        "    fold_count=5,\n",
        "    shuffle=True,\n",
        "    partition_random_seed=0,\n",
        "    stratified=False,\n",
        "    verbose=False,\n",
        "    early_stopping_rounds=200\n",
        ")"
      ],
      "metadata": {
        "colab": {
          "base_uri": "https://localhost:8080/"
        },
        "id": "wVbugtTz6o7g",
        "outputId": "39715555-e537-4897-efd5-0f64af715c43"
      },
      "execution_count": 81,
      "outputs": [
        {
          "output_type": "stream",
          "name": "stdout",
          "text": [
            "Training on fold [0/5]\n",
            "\n",
            "bestTest = 0.7126261527\n",
            "bestIteration = 956\n",
            "\n",
            "Training on fold [1/5]\n",
            "\n",
            "bestTest = 0.7036544378\n",
            "bestIteration = 997\n",
            "\n",
            "Training on fold [2/5]\n",
            "\n",
            "bestTest = 0.7120543518\n",
            "bestIteration = 833\n",
            "\n",
            "Training on fold [3/5]\n",
            "\n",
            "bestTest = 0.7054075138\n",
            "bestIteration = 992\n",
            "\n",
            "Training on fold [4/5]\n",
            "\n",
            "bestTest = 0.6743417016\n",
            "bestIteration = 990\n",
            "\n"
          ]
        }
      ]
    },
    {
      "cell_type": "code",
      "source": [
        "cv_data[cv_data['test-AUC-mean'] == cv_data['test-AUC-mean'].max()]"
      ],
      "metadata": {
        "colab": {
          "base_uri": "https://localhost:8080/",
          "height": 81
        },
        "id": "56xUqVnm6zPC",
        "outputId": "1974a837-1319-40c7-da66-869a6fbe6ff2"
      },
      "execution_count": 82,
      "outputs": [
        {
          "output_type": "execute_result",
          "data": {
            "text/plain": [
              "     iterations  test-AUC-mean  test-AUC-std  test-Logloss-mean  \\\n",
              "993         993       0.701474      0.015668           0.459853   \n",
              "\n",
              "     test-Logloss-std  train-Logloss-mean  train-Logloss-std  \n",
              "993          0.006981            0.397491           0.002782  "
            ],
            "text/html": [
              "\n",
              "  <div id=\"df-f00521d5-ceb1-4531-90c9-e37786736d73\" class=\"colab-df-container\">\n",
              "    <div>\n",
              "<style scoped>\n",
              "    .dataframe tbody tr th:only-of-type {\n",
              "        vertical-align: middle;\n",
              "    }\n",
              "\n",
              "    .dataframe tbody tr th {\n",
              "        vertical-align: top;\n",
              "    }\n",
              "\n",
              "    .dataframe thead th {\n",
              "        text-align: right;\n",
              "    }\n",
              "</style>\n",
              "<table border=\"1\" class=\"dataframe\">\n",
              "  <thead>\n",
              "    <tr style=\"text-align: right;\">\n",
              "      <th></th>\n",
              "      <th>iterations</th>\n",
              "      <th>test-AUC-mean</th>\n",
              "      <th>test-AUC-std</th>\n",
              "      <th>test-Logloss-mean</th>\n",
              "      <th>test-Logloss-std</th>\n",
              "      <th>train-Logloss-mean</th>\n",
              "      <th>train-Logloss-std</th>\n",
              "    </tr>\n",
              "  </thead>\n",
              "  <tbody>\n",
              "    <tr>\n",
              "      <th>993</th>\n",
              "      <td>993</td>\n",
              "      <td>0.701474</td>\n",
              "      <td>0.015668</td>\n",
              "      <td>0.459853</td>\n",
              "      <td>0.006981</td>\n",
              "      <td>0.397491</td>\n",
              "      <td>0.002782</td>\n",
              "    </tr>\n",
              "  </tbody>\n",
              "</table>\n",
              "</div>\n",
              "    <div class=\"colab-df-buttons\">\n",
              "\n",
              "  <div class=\"colab-df-container\">\n",
              "    <button class=\"colab-df-convert\" onclick=\"convertToInteractive('df-f00521d5-ceb1-4531-90c9-e37786736d73')\"\n",
              "            title=\"Convert this dataframe to an interactive table.\"\n",
              "            style=\"display:none;\">\n",
              "\n",
              "  <svg xmlns=\"http://www.w3.org/2000/svg\" height=\"24px\" viewBox=\"0 -960 960 960\">\n",
              "    <path d=\"M120-120v-720h720v720H120Zm60-500h600v-160H180v160Zm220 220h160v-160H400v160Zm0 220h160v-160H400v160ZM180-400h160v-160H180v160Zm440 0h160v-160H620v160ZM180-180h160v-160H180v160Zm440 0h160v-160H620v160Z\"/>\n",
              "  </svg>\n",
              "    </button>\n",
              "\n",
              "  <style>\n",
              "    .colab-df-container {\n",
              "      display:flex;\n",
              "      gap: 12px;\n",
              "    }\n",
              "\n",
              "    .colab-df-convert {\n",
              "      background-color: #E8F0FE;\n",
              "      border: none;\n",
              "      border-radius: 50%;\n",
              "      cursor: pointer;\n",
              "      display: none;\n",
              "      fill: #1967D2;\n",
              "      height: 32px;\n",
              "      padding: 0 0 0 0;\n",
              "      width: 32px;\n",
              "    }\n",
              "\n",
              "    .colab-df-convert:hover {\n",
              "      background-color: #E2EBFA;\n",
              "      box-shadow: 0px 1px 2px rgba(60, 64, 67, 0.3), 0px 1px 3px 1px rgba(60, 64, 67, 0.15);\n",
              "      fill: #174EA6;\n",
              "    }\n",
              "\n",
              "    .colab-df-buttons div {\n",
              "      margin-bottom: 4px;\n",
              "    }\n",
              "\n",
              "    [theme=dark] .colab-df-convert {\n",
              "      background-color: #3B4455;\n",
              "      fill: #D2E3FC;\n",
              "    }\n",
              "\n",
              "    [theme=dark] .colab-df-convert:hover {\n",
              "      background-color: #434B5C;\n",
              "      box-shadow: 0px 1px 3px 1px rgba(0, 0, 0, 0.15);\n",
              "      filter: drop-shadow(0px 1px 2px rgba(0, 0, 0, 0.3));\n",
              "      fill: #FFFFFF;\n",
              "    }\n",
              "  </style>\n",
              "\n",
              "    <script>\n",
              "      const buttonEl =\n",
              "        document.querySelector('#df-f00521d5-ceb1-4531-90c9-e37786736d73 button.colab-df-convert');\n",
              "      buttonEl.style.display =\n",
              "        google.colab.kernel.accessAllowed ? 'block' : 'none';\n",
              "\n",
              "      async function convertToInteractive(key) {\n",
              "        const element = document.querySelector('#df-f00521d5-ceb1-4531-90c9-e37786736d73');\n",
              "        const dataTable =\n",
              "          await google.colab.kernel.invokeFunction('convertToInteractive',\n",
              "                                                    [key], {});\n",
              "        if (!dataTable) return;\n",
              "\n",
              "        const docLinkHtml = 'Like what you see? Visit the ' +\n",
              "          '<a target=\"_blank\" href=https://colab.research.google.com/notebooks/data_table.ipynb>data table notebook</a>'\n",
              "          + ' to learn more about interactive tables.';\n",
              "        element.innerHTML = '';\n",
              "        dataTable['output_type'] = 'display_data';\n",
              "        await google.colab.output.renderOutput(dataTable, element);\n",
              "        const docLink = document.createElement('div');\n",
              "        docLink.innerHTML = docLinkHtml;\n",
              "        element.appendChild(docLink);\n",
              "      }\n",
              "    </script>\n",
              "  </div>\n",
              "\n",
              "    </div>\n",
              "  </div>\n"
            ]
          },
          "metadata": {},
          "execution_count": 82
        }
      ]
    },
    {
      "cell_type": "code",
      "source": [
        "cv_data = cv(\n",
        "    params = params_1,\n",
        "    pool = train_data_1,\n",
        "    fold_count=5,\n",
        "    shuffle=True,\n",
        "    partition_random_seed=0,\n",
        "    stratified=False,\n",
        "    verbose=False,\n",
        "    early_stopping_rounds=200\n",
        ")"
      ],
      "metadata": {
        "colab": {
          "base_uri": "https://localhost:8080/"
        },
        "id": "8xTNTQnYOcfz",
        "outputId": "b469dd43-2820-43b9-c68a-097297bca322"
      },
      "execution_count": 77,
      "outputs": [
        {
          "output_type": "stream",
          "name": "stdout",
          "text": [
            "Training on fold [0/5]\n",
            "\n",
            "bestTest = 0.7141660509\n",
            "bestIteration = 995\n",
            "\n",
            "Training on fold [1/5]\n",
            "\n",
            "bestTest = 0.6988861289\n",
            "bestIteration = 998\n",
            "\n",
            "Training on fold [2/5]\n",
            "\n",
            "bestTest = 0.7137238155\n",
            "bestIteration = 991\n",
            "\n",
            "Training on fold [3/5]\n",
            "\n",
            "bestTest = 0.7026577773\n",
            "bestIteration = 984\n",
            "\n",
            "Training on fold [4/5]\n",
            "\n",
            "bestTest = 0.6799621638\n",
            "bestIteration = 995\n",
            "\n"
          ]
        }
      ]
    },
    {
      "cell_type": "code",
      "source": [
        "cv_data[cv_data['test-AUC-mean'] == cv_data['test-AUC-mean'].max()]"
      ],
      "metadata": {
        "colab": {
          "base_uri": "https://localhost:8080/",
          "height": 81
        },
        "id": "ohqHGJojSJXo",
        "outputId": "8aa548f7-be73-4f3d-e1b5-f88081a57814"
      },
      "execution_count": 78,
      "outputs": [
        {
          "output_type": "execute_result",
          "data": {
            "text/plain": [
              "     iterations  test-AUC-mean  test-AUC-std  test-Logloss-mean  \\\n",
              "990         990       0.701784      0.014027           0.460261   \n",
              "\n",
              "     test-Logloss-std  train-Logloss-mean  train-Logloss-std  \n",
              "990          0.007382            0.409113           0.002914  "
            ],
            "text/html": [
              "\n",
              "  <div id=\"df-bbb4c4d8-121a-41cf-af01-0a854aa833e4\" class=\"colab-df-container\">\n",
              "    <div>\n",
              "<style scoped>\n",
              "    .dataframe tbody tr th:only-of-type {\n",
              "        vertical-align: middle;\n",
              "    }\n",
              "\n",
              "    .dataframe tbody tr th {\n",
              "        vertical-align: top;\n",
              "    }\n",
              "\n",
              "    .dataframe thead th {\n",
              "        text-align: right;\n",
              "    }\n",
              "</style>\n",
              "<table border=\"1\" class=\"dataframe\">\n",
              "  <thead>\n",
              "    <tr style=\"text-align: right;\">\n",
              "      <th></th>\n",
              "      <th>iterations</th>\n",
              "      <th>test-AUC-mean</th>\n",
              "      <th>test-AUC-std</th>\n",
              "      <th>test-Logloss-mean</th>\n",
              "      <th>test-Logloss-std</th>\n",
              "      <th>train-Logloss-mean</th>\n",
              "      <th>train-Logloss-std</th>\n",
              "    </tr>\n",
              "  </thead>\n",
              "  <tbody>\n",
              "    <tr>\n",
              "      <th>990</th>\n",
              "      <td>990</td>\n",
              "      <td>0.701784</td>\n",
              "      <td>0.014027</td>\n",
              "      <td>0.460261</td>\n",
              "      <td>0.007382</td>\n",
              "      <td>0.409113</td>\n",
              "      <td>0.002914</td>\n",
              "    </tr>\n",
              "  </tbody>\n",
              "</table>\n",
              "</div>\n",
              "    <div class=\"colab-df-buttons\">\n",
              "\n",
              "  <div class=\"colab-df-container\">\n",
              "    <button class=\"colab-df-convert\" onclick=\"convertToInteractive('df-bbb4c4d8-121a-41cf-af01-0a854aa833e4')\"\n",
              "            title=\"Convert this dataframe to an interactive table.\"\n",
              "            style=\"display:none;\">\n",
              "\n",
              "  <svg xmlns=\"http://www.w3.org/2000/svg\" height=\"24px\" viewBox=\"0 -960 960 960\">\n",
              "    <path d=\"M120-120v-720h720v720H120Zm60-500h600v-160H180v160Zm220 220h160v-160H400v160Zm0 220h160v-160H400v160ZM180-400h160v-160H180v160Zm440 0h160v-160H620v160ZM180-180h160v-160H180v160Zm440 0h160v-160H620v160Z\"/>\n",
              "  </svg>\n",
              "    </button>\n",
              "\n",
              "  <style>\n",
              "    .colab-df-container {\n",
              "      display:flex;\n",
              "      gap: 12px;\n",
              "    }\n",
              "\n",
              "    .colab-df-convert {\n",
              "      background-color: #E8F0FE;\n",
              "      border: none;\n",
              "      border-radius: 50%;\n",
              "      cursor: pointer;\n",
              "      display: none;\n",
              "      fill: #1967D2;\n",
              "      height: 32px;\n",
              "      padding: 0 0 0 0;\n",
              "      width: 32px;\n",
              "    }\n",
              "\n",
              "    .colab-df-convert:hover {\n",
              "      background-color: #E2EBFA;\n",
              "      box-shadow: 0px 1px 2px rgba(60, 64, 67, 0.3), 0px 1px 3px 1px rgba(60, 64, 67, 0.15);\n",
              "      fill: #174EA6;\n",
              "    }\n",
              "\n",
              "    .colab-df-buttons div {\n",
              "      margin-bottom: 4px;\n",
              "    }\n",
              "\n",
              "    [theme=dark] .colab-df-convert {\n",
              "      background-color: #3B4455;\n",
              "      fill: #D2E3FC;\n",
              "    }\n",
              "\n",
              "    [theme=dark] .colab-df-convert:hover {\n",
              "      background-color: #434B5C;\n",
              "      box-shadow: 0px 1px 3px 1px rgba(0, 0, 0, 0.15);\n",
              "      filter: drop-shadow(0px 1px 2px rgba(0, 0, 0, 0.3));\n",
              "      fill: #FFFFFF;\n",
              "    }\n",
              "  </style>\n",
              "\n",
              "    <script>\n",
              "      const buttonEl =\n",
              "        document.querySelector('#df-bbb4c4d8-121a-41cf-af01-0a854aa833e4 button.colab-df-convert');\n",
              "      buttonEl.style.display =\n",
              "        google.colab.kernel.accessAllowed ? 'block' : 'none';\n",
              "\n",
              "      async function convertToInteractive(key) {\n",
              "        const element = document.querySelector('#df-bbb4c4d8-121a-41cf-af01-0a854aa833e4');\n",
              "        const dataTable =\n",
              "          await google.colab.kernel.invokeFunction('convertToInteractive',\n",
              "                                                    [key], {});\n",
              "        if (!dataTable) return;\n",
              "\n",
              "        const docLinkHtml = 'Like what you see? Visit the ' +\n",
              "          '<a target=\"_blank\" href=https://colab.research.google.com/notebooks/data_table.ipynb>data table notebook</a>'\n",
              "          + ' to learn more about interactive tables.';\n",
              "        element.innerHTML = '';\n",
              "        dataTable['output_type'] = 'display_data';\n",
              "        await google.colab.output.renderOutput(dataTable, element);\n",
              "        const docLink = document.createElement('div');\n",
              "        docLink.innerHTML = docLinkHtml;\n",
              "        element.appendChild(docLink);\n",
              "      }\n",
              "    </script>\n",
              "  </div>\n",
              "\n",
              "    </div>\n",
              "  </div>\n"
            ]
          },
          "metadata": {},
          "execution_count": 78
        }
      ]
    },
    {
      "cell_type": "code",
      "source": [],
      "metadata": {
        "id": "PJlnS7yJS1m_"
      },
      "execution_count": 79,
      "outputs": []
    },
    {
      "cell_type": "code",
      "source": [
        "model_train = CatBoostClassifier(**params)\n",
        "model_full = CatBoostClassifier(**params)\n",
        "\n",
        "model_train_1 = CatBoostClassifier(**params_1)\n",
        "model_full_1 = CatBoostClassifier(**params_1)"
      ],
      "metadata": {
        "id": "r5fZOq-i7L0w"
      },
      "execution_count": 85,
      "outputs": []
    },
    {
      "cell_type": "code",
      "source": [
        "model_train.fit(train_data, eval_set=valid_data)\n",
        "model_full.fit(train_full_data)"
      ],
      "metadata": {
        "colab": {
          "base_uri": "https://localhost:8080/"
        },
        "id": "ehm8cdYu722k",
        "outputId": "d5218ddc-8457-4861-cd81-4c601f0b7623"
      },
      "execution_count": 87,
      "outputs": [
        {
          "output_type": "stream",
          "name": "stdout",
          "text": [
            "0:\ttest: 0.5750052\tbest: 0.5750052 (0)\ttotal: 8.54ms\tremaining: 8.53s\n",
            "100:\ttest: 0.6843433\tbest: 0.6843433 (100)\ttotal: 769ms\tremaining: 6.84s\n",
            "200:\ttest: 0.7040217\tbest: 0.7040217 (200)\ttotal: 1.54s\tremaining: 6.12s\n",
            "300:\ttest: 0.7145165\tbest: 0.7145165 (300)\ttotal: 2.29s\tremaining: 5.32s\n",
            "400:\ttest: 0.7197849\tbest: 0.7198357 (397)\ttotal: 3.85s\tremaining: 5.75s\n",
            "500:\ttest: 0.7246748\tbest: 0.7246748 (500)\ttotal: 5.52s\tremaining: 5.5s\n",
            "600:\ttest: 0.7271843\tbest: 0.7271843 (600)\ttotal: 6.26s\tremaining: 4.16s\n",
            "700:\ttest: 0.7279896\tbest: 0.7280300 (686)\ttotal: 6.96s\tremaining: 2.97s\n",
            "800:\ttest: 0.7288910\tbest: 0.7289507 (795)\ttotal: 7.69s\tremaining: 1.91s\n",
            "900:\ttest: 0.7298310\tbest: 0.7299053 (899)\ttotal: 8.43s\tremaining: 926ms\n",
            "999:\ttest: 0.7304120\tbest: 0.7306283 (991)\ttotal: 9.14s\tremaining: 0us\n",
            "\n",
            "bestTest = 0.730628268\n",
            "bestIteration = 991\n",
            "\n",
            "Shrink model to first 992 iterations.\n",
            "0:\ttotal: 8.39ms\tremaining: 8.38s\n",
            "100:\ttotal: 744ms\tremaining: 6.62s\n",
            "200:\ttotal: 1.5s\tremaining: 5.97s\n",
            "300:\ttotal: 2.25s\tremaining: 5.24s\n",
            "400:\ttotal: 3.4s\tremaining: 5.07s\n",
            "500:\ttotal: 4.17s\tremaining: 4.15s\n",
            "600:\ttotal: 4.88s\tremaining: 3.24s\n",
            "700:\ttotal: 5.61s\tremaining: 2.39s\n",
            "800:\ttotal: 6.92s\tremaining: 1.72s\n",
            "900:\ttotal: 8.78s\tremaining: 965ms\n",
            "999:\ttotal: 9.52s\tremaining: 0us\n"
          ]
        },
        {
          "output_type": "execute_result",
          "data": {
            "text/plain": [
              "<catboost.core.CatBoostClassifier at 0x7ff0f60dc8b0>"
            ]
          },
          "metadata": {},
          "execution_count": 87
        }
      ]
    },
    {
      "cell_type": "code",
      "source": [
        "model_train_1.fit(train_data_1, eval_set=valid_data_1)\n",
        "model_full_1.fit(train_full_data_1)"
      ],
      "metadata": {
        "colab": {
          "base_uri": "https://localhost:8080/"
        },
        "id": "PSI0RImqU-Mz",
        "outputId": "925fb82e-a25a-477b-9bd5-f580ac4176c5"
      },
      "execution_count": 88,
      "outputs": [
        {
          "output_type": "stream",
          "name": "stdout",
          "text": [
            "0:\ttest: 0.5899131\tbest: 0.5899131 (0)\ttotal: 32.3ms\tremaining: 32.3s\n",
            "100:\ttest: 0.6848009\tbest: 0.6851325 (98)\ttotal: 3.28s\tremaining: 29.2s\n",
            "200:\ttest: 0.6992810\tbest: 0.6992810 (200)\ttotal: 6.96s\tremaining: 27.7s\n",
            "300:\ttest: 0.7105327\tbest: 0.7105779 (299)\ttotal: 9.74s\tremaining: 22.6s\n",
            "400:\ttest: 0.7159359\tbest: 0.7159359 (400)\ttotal: 12.5s\tremaining: 18.7s\n",
            "500:\ttest: 0.7189029\tbest: 0.7189037 (498)\ttotal: 15.3s\tremaining: 15.2s\n",
            "600:\ttest: 0.7211026\tbest: 0.7212325 (596)\ttotal: 19.2s\tremaining: 12.8s\n",
            "700:\ttest: 0.7224824\tbest: 0.7225244 (698)\ttotal: 21.9s\tremaining: 9.34s\n",
            "800:\ttest: 0.7237654\tbest: 0.7237856 (799)\ttotal: 26.7s\tremaining: 6.64s\n",
            "900:\ttest: 0.7244828\tbest: 0.7245723 (890)\ttotal: 30.6s\tremaining: 3.36s\n",
            "999:\ttest: 0.7253865\tbest: 0.7254115 (993)\ttotal: 33.4s\tremaining: 0us\n",
            "\n",
            "bestTest = 0.7254115293\n",
            "bestIteration = 993\n",
            "\n",
            "Shrink model to first 994 iterations.\n",
            "0:\ttotal: 34.5ms\tremaining: 34.4s\n",
            "100:\ttotal: 3.11s\tremaining: 27.7s\n",
            "200:\ttotal: 6.07s\tremaining: 24.1s\n",
            "300:\ttotal: 10.4s\tremaining: 24.1s\n",
            "400:\ttotal: 13.4s\tremaining: 20.1s\n",
            "500:\ttotal: 16.4s\tremaining: 16.4s\n",
            "600:\ttotal: 19.4s\tremaining: 12.8s\n",
            "700:\ttotal: 23.6s\tremaining: 10.1s\n",
            "800:\ttotal: 26.6s\tremaining: 6.62s\n",
            "900:\ttotal: 29.5s\tremaining: 3.24s\n",
            "999:\ttotal: 32.5s\tremaining: 0us\n"
          ]
        },
        {
          "output_type": "execute_result",
          "data": {
            "text/plain": [
              "<catboost.core.CatBoostClassifier at 0x7ff0f5252440>"
            ]
          },
          "metadata": {},
          "execution_count": 88
        }
      ]
    },
    {
      "cell_type": "code",
      "source": [
        "model_train.predict_proba(train_data)[:, 1]\n",
        "model_full.predict_proba(train_full_data)[:, 1]\n",
        "\n",
        "model_train_1.predict_proba(train_data_1)[:, 1]\n",
        "model_full_1.predict_proba(train_full_data_1)[:, 1]"
      ],
      "metadata": {
        "colab": {
          "base_uri": "https://localhost:8080/"
        },
        "id": "odoRoAyd87-R",
        "outputId": "8cb53287-1080-4ea8-e244-36d6319e537c"
      },
      "execution_count": 90,
      "outputs": [
        {
          "output_type": "execute_result",
          "data": {
            "text/plain": [
              "array([0.16478847, 0.28250282, 0.10172648, ..., 0.2221039 , 0.14569144,\n",
              "       0.07122533])"
            ]
          },
          "metadata": {},
          "execution_count": 90
        }
      ]
    },
    {
      "cell_type": "code",
      "source": [
        "df['y_score'] = model_full.predict_proba(df[X])[:, 1]\n",
        "df['y_score_1'] = model_full_1.predict_proba(df[X_1])[:, 1]\n",
        "\n",
        "\n",
        "train['y_score'] = model_train.predict_proba(train_data)[:, 1]\n",
        "train['y_score_1'] = model_train_1.predict_proba(train_data_1)[:, 1]"
      ],
      "metadata": {
        "id": "wYv6DnrV8Brw"
      },
      "execution_count": 91,
      "outputs": []
    },
    {
      "cell_type": "code",
      "source": [
        "train[train.id ==  12267]"
      ],
      "metadata": {
        "colab": {
          "base_uri": "https://localhost:8080/",
          "height": 130
        },
        "id": "1YDNH6BC8U1q",
        "outputId": "a9fd42a8-67f9-4c15-c875-0cb3e0feb172"
      },
      "execution_count": 95,
      "outputs": [
        {
          "output_type": "execute_result",
          "data": {
            "text/plain": [
              "         id  age  height_cm  weight_kg  waist_cm  eyesight_left  \\\n",
              "2378  12267   40        170         85      93.0            1.2   \n",
              "\n",
              "      eyesight_right  hearing_left  hearing_right  systolic  ...  hearing_avg  \\\n",
              "2378             1.5           1.0            1.0     143.0  ...          1.0   \n",
              "\n",
              "      cholesterol_to_hdl_ratio  cholesterol_to_ldl_ratio  \\\n",
              "2378                  4.222222                   1.96129   \n",
              "\n",
              "      cat_cholesterol_to_hdl_ratio  cat_cholesterol_to_ldl_ratio  \\\n",
              "2378                       average                          good   \n",
              "\n",
              "      protein_to_creatinine_ratio  dental_health  cat_dental_health   y_score  \\\n",
              "2378                          5.0              0          very_good  0.295271   \n",
              "\n",
              "      y_score_1  \n",
              "2378   0.315053  \n",
              "\n",
              "[1 rows x 43 columns]"
            ],
            "text/html": [
              "\n",
              "  <div id=\"df-2465ef11-523f-441b-b331-2c3900fa30fc\" class=\"colab-df-container\">\n",
              "    <div>\n",
              "<style scoped>\n",
              "    .dataframe tbody tr th:only-of-type {\n",
              "        vertical-align: middle;\n",
              "    }\n",
              "\n",
              "    .dataframe tbody tr th {\n",
              "        vertical-align: top;\n",
              "    }\n",
              "\n",
              "    .dataframe thead th {\n",
              "        text-align: right;\n",
              "    }\n",
              "</style>\n",
              "<table border=\"1\" class=\"dataframe\">\n",
              "  <thead>\n",
              "    <tr style=\"text-align: right;\">\n",
              "      <th></th>\n",
              "      <th>id</th>\n",
              "      <th>age</th>\n",
              "      <th>height_cm</th>\n",
              "      <th>weight_kg</th>\n",
              "      <th>waist_cm</th>\n",
              "      <th>eyesight_left</th>\n",
              "      <th>eyesight_right</th>\n",
              "      <th>hearing_left</th>\n",
              "      <th>hearing_right</th>\n",
              "      <th>systolic</th>\n",
              "      <th>...</th>\n",
              "      <th>hearing_avg</th>\n",
              "      <th>cholesterol_to_hdl_ratio</th>\n",
              "      <th>cholesterol_to_ldl_ratio</th>\n",
              "      <th>cat_cholesterol_to_hdl_ratio</th>\n",
              "      <th>cat_cholesterol_to_ldl_ratio</th>\n",
              "      <th>protein_to_creatinine_ratio</th>\n",
              "      <th>dental_health</th>\n",
              "      <th>cat_dental_health</th>\n",
              "      <th>y_score</th>\n",
              "      <th>y_score_1</th>\n",
              "    </tr>\n",
              "  </thead>\n",
              "  <tbody>\n",
              "    <tr>\n",
              "      <th>2378</th>\n",
              "      <td>12267</td>\n",
              "      <td>40</td>\n",
              "      <td>170</td>\n",
              "      <td>85</td>\n",
              "      <td>93.0</td>\n",
              "      <td>1.2</td>\n",
              "      <td>1.5</td>\n",
              "      <td>1.0</td>\n",
              "      <td>1.0</td>\n",
              "      <td>143.0</td>\n",
              "      <td>...</td>\n",
              "      <td>1.0</td>\n",
              "      <td>4.222222</td>\n",
              "      <td>1.96129</td>\n",
              "      <td>average</td>\n",
              "      <td>good</td>\n",
              "      <td>5.0</td>\n",
              "      <td>0</td>\n",
              "      <td>very_good</td>\n",
              "      <td>0.295271</td>\n",
              "      <td>0.315053</td>\n",
              "    </tr>\n",
              "  </tbody>\n",
              "</table>\n",
              "<p>1 rows × 43 columns</p>\n",
              "</div>\n",
              "    <div class=\"colab-df-buttons\">\n",
              "\n",
              "  <div class=\"colab-df-container\">\n",
              "    <button class=\"colab-df-convert\" onclick=\"convertToInteractive('df-2465ef11-523f-441b-b331-2c3900fa30fc')\"\n",
              "            title=\"Convert this dataframe to an interactive table.\"\n",
              "            style=\"display:none;\">\n",
              "\n",
              "  <svg xmlns=\"http://www.w3.org/2000/svg\" height=\"24px\" viewBox=\"0 -960 960 960\">\n",
              "    <path d=\"M120-120v-720h720v720H120Zm60-500h600v-160H180v160Zm220 220h160v-160H400v160Zm0 220h160v-160H400v160ZM180-400h160v-160H180v160Zm440 0h160v-160H620v160ZM180-180h160v-160H180v160Zm440 0h160v-160H620v160Z\"/>\n",
              "  </svg>\n",
              "    </button>\n",
              "\n",
              "  <style>\n",
              "    .colab-df-container {\n",
              "      display:flex;\n",
              "      gap: 12px;\n",
              "    }\n",
              "\n",
              "    .colab-df-convert {\n",
              "      background-color: #E8F0FE;\n",
              "      border: none;\n",
              "      border-radius: 50%;\n",
              "      cursor: pointer;\n",
              "      display: none;\n",
              "      fill: #1967D2;\n",
              "      height: 32px;\n",
              "      padding: 0 0 0 0;\n",
              "      width: 32px;\n",
              "    }\n",
              "\n",
              "    .colab-df-convert:hover {\n",
              "      background-color: #E2EBFA;\n",
              "      box-shadow: 0px 1px 2px rgba(60, 64, 67, 0.3), 0px 1px 3px 1px rgba(60, 64, 67, 0.15);\n",
              "      fill: #174EA6;\n",
              "    }\n",
              "\n",
              "    .colab-df-buttons div {\n",
              "      margin-bottom: 4px;\n",
              "    }\n",
              "\n",
              "    [theme=dark] .colab-df-convert {\n",
              "      background-color: #3B4455;\n",
              "      fill: #D2E3FC;\n",
              "    }\n",
              "\n",
              "    [theme=dark] .colab-df-convert:hover {\n",
              "      background-color: #434B5C;\n",
              "      box-shadow: 0px 1px 3px 1px rgba(0, 0, 0, 0.15);\n",
              "      filter: drop-shadow(0px 1px 2px rgba(0, 0, 0, 0.3));\n",
              "      fill: #FFFFFF;\n",
              "    }\n",
              "  </style>\n",
              "\n",
              "    <script>\n",
              "      const buttonEl =\n",
              "        document.querySelector('#df-2465ef11-523f-441b-b331-2c3900fa30fc button.colab-df-convert');\n",
              "      buttonEl.style.display =\n",
              "        google.colab.kernel.accessAllowed ? 'block' : 'none';\n",
              "\n",
              "      async function convertToInteractive(key) {\n",
              "        const element = document.querySelector('#df-2465ef11-523f-441b-b331-2c3900fa30fc');\n",
              "        const dataTable =\n",
              "          await google.colab.kernel.invokeFunction('convertToInteractive',\n",
              "                                                    [key], {});\n",
              "        if (!dataTable) return;\n",
              "\n",
              "        const docLinkHtml = 'Like what you see? Visit the ' +\n",
              "          '<a target=\"_blank\" href=https://colab.research.google.com/notebooks/data_table.ipynb>data table notebook</a>'\n",
              "          + ' to learn more about interactive tables.';\n",
              "        element.innerHTML = '';\n",
              "        dataTable['output_type'] = 'display_data';\n",
              "        await google.colab.output.renderOutput(dataTable, element);\n",
              "        const docLink = document.createElement('div');\n",
              "        docLink.innerHTML = docLinkHtml;\n",
              "        element.appendChild(docLink);\n",
              "      }\n",
              "    </script>\n",
              "  </div>\n",
              "\n",
              "    </div>\n",
              "  </div>\n"
            ]
          },
          "metadata": {},
          "execution_count": 95
        }
      ]
    },
    {
      "cell_type": "code",
      "source": [
        "df[df.id ==  12267]"
      ],
      "metadata": {
        "colab": {
          "base_uri": "https://localhost:8080/",
          "height": 130
        },
        "id": "MrC-YZSh8ZGK",
        "outputId": "dbaf7710-2734-402b-9d86-4d3f15658df1"
      },
      "execution_count": 94,
      "outputs": [
        {
          "output_type": "execute_result",
          "data": {
            "text/plain": [
              "         id  age  height_cm  weight_kg  waist_cm  eyesight_left  \\\n",
              "2378  12267   40        170         85      93.0            1.2   \n",
              "\n",
              "      eyesight_right  hearing_left  hearing_right  systolic  ...  hearing_avg  \\\n",
              "2378             1.5           1.0            1.0     143.0  ...          1.0   \n",
              "\n",
              "      cholesterol_to_hdl_ratio  cholesterol_to_ldl_ratio  \\\n",
              "2378                  4.222222                   1.96129   \n",
              "\n",
              "      cat_cholesterol_to_hdl_ratio  cat_cholesterol_to_ldl_ratio  \\\n",
              "2378                       average                          good   \n",
              "\n",
              "      protein_to_creatinine_ratio  dental_health  cat_dental_health   y_score  \\\n",
              "2378                          5.0              0          very_good  0.334335   \n",
              "\n",
              "      y_score_1  \n",
              "2378   0.337402  \n",
              "\n",
              "[1 rows x 43 columns]"
            ],
            "text/html": [
              "\n",
              "  <div id=\"df-7a008603-4ff2-4d6e-86b6-c6e54c3cab31\" class=\"colab-df-container\">\n",
              "    <div>\n",
              "<style scoped>\n",
              "    .dataframe tbody tr th:only-of-type {\n",
              "        vertical-align: middle;\n",
              "    }\n",
              "\n",
              "    .dataframe tbody tr th {\n",
              "        vertical-align: top;\n",
              "    }\n",
              "\n",
              "    .dataframe thead th {\n",
              "        text-align: right;\n",
              "    }\n",
              "</style>\n",
              "<table border=\"1\" class=\"dataframe\">\n",
              "  <thead>\n",
              "    <tr style=\"text-align: right;\">\n",
              "      <th></th>\n",
              "      <th>id</th>\n",
              "      <th>age</th>\n",
              "      <th>height_cm</th>\n",
              "      <th>weight_kg</th>\n",
              "      <th>waist_cm</th>\n",
              "      <th>eyesight_left</th>\n",
              "      <th>eyesight_right</th>\n",
              "      <th>hearing_left</th>\n",
              "      <th>hearing_right</th>\n",
              "      <th>systolic</th>\n",
              "      <th>...</th>\n",
              "      <th>hearing_avg</th>\n",
              "      <th>cholesterol_to_hdl_ratio</th>\n",
              "      <th>cholesterol_to_ldl_ratio</th>\n",
              "      <th>cat_cholesterol_to_hdl_ratio</th>\n",
              "      <th>cat_cholesterol_to_ldl_ratio</th>\n",
              "      <th>protein_to_creatinine_ratio</th>\n",
              "      <th>dental_health</th>\n",
              "      <th>cat_dental_health</th>\n",
              "      <th>y_score</th>\n",
              "      <th>y_score_1</th>\n",
              "    </tr>\n",
              "  </thead>\n",
              "  <tbody>\n",
              "    <tr>\n",
              "      <th>2378</th>\n",
              "      <td>12267</td>\n",
              "      <td>40</td>\n",
              "      <td>170</td>\n",
              "      <td>85</td>\n",
              "      <td>93.0</td>\n",
              "      <td>1.2</td>\n",
              "      <td>1.5</td>\n",
              "      <td>1.0</td>\n",
              "      <td>1.0</td>\n",
              "      <td>143.0</td>\n",
              "      <td>...</td>\n",
              "      <td>1.0</td>\n",
              "      <td>4.222222</td>\n",
              "      <td>1.96129</td>\n",
              "      <td>average</td>\n",
              "      <td>good</td>\n",
              "      <td>5.0</td>\n",
              "      <td>0</td>\n",
              "      <td>very_good</td>\n",
              "      <td>0.334335</td>\n",
              "      <td>0.337402</td>\n",
              "    </tr>\n",
              "  </tbody>\n",
              "</table>\n",
              "<p>1 rows × 43 columns</p>\n",
              "</div>\n",
              "    <div class=\"colab-df-buttons\">\n",
              "\n",
              "  <div class=\"colab-df-container\">\n",
              "    <button class=\"colab-df-convert\" onclick=\"convertToInteractive('df-7a008603-4ff2-4d6e-86b6-c6e54c3cab31')\"\n",
              "            title=\"Convert this dataframe to an interactive table.\"\n",
              "            style=\"display:none;\">\n",
              "\n",
              "  <svg xmlns=\"http://www.w3.org/2000/svg\" height=\"24px\" viewBox=\"0 -960 960 960\">\n",
              "    <path d=\"M120-120v-720h720v720H120Zm60-500h600v-160H180v160Zm220 220h160v-160H400v160Zm0 220h160v-160H400v160ZM180-400h160v-160H180v160Zm440 0h160v-160H620v160ZM180-180h160v-160H180v160Zm440 0h160v-160H620v160Z\"/>\n",
              "  </svg>\n",
              "    </button>\n",
              "\n",
              "  <style>\n",
              "    .colab-df-container {\n",
              "      display:flex;\n",
              "      gap: 12px;\n",
              "    }\n",
              "\n",
              "    .colab-df-convert {\n",
              "      background-color: #E8F0FE;\n",
              "      border: none;\n",
              "      border-radius: 50%;\n",
              "      cursor: pointer;\n",
              "      display: none;\n",
              "      fill: #1967D2;\n",
              "      height: 32px;\n",
              "      padding: 0 0 0 0;\n",
              "      width: 32px;\n",
              "    }\n",
              "\n",
              "    .colab-df-convert:hover {\n",
              "      background-color: #E2EBFA;\n",
              "      box-shadow: 0px 1px 2px rgba(60, 64, 67, 0.3), 0px 1px 3px 1px rgba(60, 64, 67, 0.15);\n",
              "      fill: #174EA6;\n",
              "    }\n",
              "\n",
              "    .colab-df-buttons div {\n",
              "      margin-bottom: 4px;\n",
              "    }\n",
              "\n",
              "    [theme=dark] .colab-df-convert {\n",
              "      background-color: #3B4455;\n",
              "      fill: #D2E3FC;\n",
              "    }\n",
              "\n",
              "    [theme=dark] .colab-df-convert:hover {\n",
              "      background-color: #434B5C;\n",
              "      box-shadow: 0px 1px 3px 1px rgba(0, 0, 0, 0.15);\n",
              "      filter: drop-shadow(0px 1px 2px rgba(0, 0, 0, 0.3));\n",
              "      fill: #FFFFFF;\n",
              "    }\n",
              "  </style>\n",
              "\n",
              "    <script>\n",
              "      const buttonEl =\n",
              "        document.querySelector('#df-7a008603-4ff2-4d6e-86b6-c6e54c3cab31 button.colab-df-convert');\n",
              "      buttonEl.style.display =\n",
              "        google.colab.kernel.accessAllowed ? 'block' : 'none';\n",
              "\n",
              "      async function convertToInteractive(key) {\n",
              "        const element = document.querySelector('#df-7a008603-4ff2-4d6e-86b6-c6e54c3cab31');\n",
              "        const dataTable =\n",
              "          await google.colab.kernel.invokeFunction('convertToInteractive',\n",
              "                                                    [key], {});\n",
              "        if (!dataTable) return;\n",
              "\n",
              "        const docLinkHtml = 'Like what you see? Visit the ' +\n",
              "          '<a target=\"_blank\" href=https://colab.research.google.com/notebooks/data_table.ipynb>data table notebook</a>'\n",
              "          + ' to learn more about interactive tables.';\n",
              "        element.innerHTML = '';\n",
              "        dataTable['output_type'] = 'display_data';\n",
              "        await google.colab.output.renderOutput(dataTable, element);\n",
              "        const docLink = document.createElement('div');\n",
              "        docLink.innerHTML = docLinkHtml;\n",
              "        element.appendChild(docLink);\n",
              "      }\n",
              "    </script>\n",
              "  </div>\n",
              "\n",
              "    </div>\n",
              "  </div>\n"
            ]
          },
          "metadata": {},
          "execution_count": 94
        }
      ]
    },
    {
      "cell_type": "code",
      "source": [
        "thresholds = np.linspace(0, 1, num=101)"
      ],
      "metadata": {
        "id": "W9Qo8LgfE_Zq"
      },
      "execution_count": 96,
      "outputs": []
    },
    {
      "cell_type": "code",
      "source": [
        "# thresholds"
      ],
      "metadata": {
        "id": "2357B4U1Fxs-"
      },
      "execution_count": null,
      "outputs": []
    },
    {
      "cell_type": "code",
      "source": [
        "# df['y_score'].hist()"
      ],
      "metadata": {
        "id": "yQ3FnuhGF1Cz"
      },
      "execution_count": null,
      "outputs": []
    },
    {
      "cell_type": "code",
      "source": [
        "thresholds = np.linspace(0, 1, num=101)\n",
        "f1_scores = []\n",
        "f1_scores_train = []\n",
        "f1_scores_1 = []\n",
        "f1_scores_train_1 = []\n",
        "\n",
        "for threshold in tqdm(thresholds):\n",
        "    y_pred = (df['y_score'] >= threshold).astype(int)\n",
        "    f1 = f1_score(df['smoking'], y_pred)\n",
        "    f1_scores.append(f1)\n",
        "\n",
        "    y_pred = (train['y_score'] >= threshold).astype(int)\n",
        "    f1 = f1_score(train['smoking'], y_pred)\n",
        "    f1_scores_train.append(f1)\n",
        "\n",
        "    y_pred = (df['y_score_1'] >= threshold).astype(int)\n",
        "    f1 = f1_score(df['smoking'], y_pred)\n",
        "    f1_scores_1.append(f1)\n",
        "\n",
        "    y_pred = (train['y_score_1'] >= threshold).astype(int)\n",
        "    f1 = f1_score(train['smoking'], y_pred)\n",
        "    f1_scores_train_1.append(f1)\n",
        "\n",
        "results_df = pd.DataFrame({'threshold': thresholds, 'f1': f1_scores})\n",
        "\n",
        "results_train_df = pd.DataFrame({'threshold': thresholds, 'f1': f1_scores_train})\n",
        "\n",
        "results_df_1 = pd.DataFrame({'threshold': thresholds, 'f1': f1_scores_1})\n",
        "\n",
        "results_train_df_1 = pd.DataFrame({'threshold': thresholds, 'f1': f1_scores_train_1})"
      ],
      "metadata": {
        "colab": {
          "base_uri": "https://localhost:8080/",
          "height": 49,
          "referenced_widgets": [
            "44e77e5053634b94a271280bc8936e0c",
            "3e24c1a8e88a4081b7676ca4e8a185d1",
            "499c5e37b71e4a73b21484caede8cc30",
            "cbf1ec7c88d6402d9f9d7cc29bfe6c55",
            "97d0ad42c3404be8b28dcc78d6c8dee3",
            "a5d8546e5eec47aabfeb09582b1f6172",
            "6b75e4ad263746b2aa969de2b2081b36",
            "e3615928da664ecea98ab0b9bab1c56f",
            "654baf217ed840cc9d2d120a1a9fda4a",
            "a5c8bf0c9aa9409b9f5159e29fb713ef",
            "27b0f1e914d74aee95a9ab76d6069899"
          ]
        },
        "id": "ztS_eW6HF9Ou",
        "outputId": "1f17726a-c68f-427d-b556-24db59ab5aeb"
      },
      "execution_count": 101,
      "outputs": [
        {
          "output_type": "display_data",
          "data": {
            "text/plain": [
              "  0%|          | 0/101 [00:00<?, ?it/s]"
            ],
            "application/vnd.jupyter.widget-view+json": {
              "version_major": 2,
              "version_minor": 0,
              "model_id": "44e77e5053634b94a271280bc8936e0c"
            }
          },
          "metadata": {}
        }
      ]
    },
    {
      "cell_type": "code",
      "source": [
        "# results_df\n",
        "# len(f1_scores)"
      ],
      "metadata": {
        "id": "ffUUVJw-Gr9i"
      },
      "execution_count": 102,
      "outputs": []
    },
    {
      "cell_type": "code",
      "source": [
        "max_f1_row = results_df.loc[results_df['f1'].idxmax()]\n",
        "max_f1_row_1 = results_df.loc[results_df_1['f1'].idxmax()]"
      ],
      "metadata": {
        "id": "4yPpCvraGwBc"
      },
      "execution_count": 104,
      "outputs": []
    },
    {
      "cell_type": "code",
      "source": [
        "max_train_f1_row = results_df.loc[results_train_df['f1'].idxmax()]\n",
        "max_train_f1_row_1 = results_df.loc[results_train_df_1['f1'].idxmax()]"
      ],
      "metadata": {
        "id": "hrT6Z86yzTTa"
      },
      "execution_count": 105,
      "outputs": []
    },
    {
      "cell_type": "code",
      "source": [
        "max_f1_row"
      ],
      "metadata": {
        "colab": {
          "base_uri": "https://localhost:8080/"
        },
        "id": "Tau1q_dKG39p",
        "outputId": "807d7196-fa9f-47a4-f45d-aff82d5dd5f4"
      },
      "execution_count": 106,
      "outputs": [
        {
          "output_type": "execute_result",
          "data": {
            "text/plain": [
              "threshold    0.250000\n",
              "f1           0.532309\n",
              "Name: 25, dtype: float64"
            ]
          },
          "metadata": {},
          "execution_count": 106
        }
      ]
    },
    {
      "cell_type": "code",
      "source": [
        "max_f1_row_1"
      ],
      "metadata": {
        "colab": {
          "base_uri": "https://localhost:8080/"
        },
        "id": "upJp544vYzxs",
        "outputId": "9dc8c253-3343-4b74-aca9-7464d933e4a9"
      },
      "execution_count": 108,
      "outputs": [
        {
          "output_type": "execute_result",
          "data": {
            "text/plain": [
              "threshold    0.250000\n",
              "f1           0.532309\n",
              "Name: 25, dtype: float64"
            ]
          },
          "metadata": {},
          "execution_count": 108
        }
      ]
    },
    {
      "cell_type": "code",
      "source": [
        "max_train_f1_row"
      ],
      "metadata": {
        "colab": {
          "base_uri": "https://localhost:8080/"
        },
        "id": "HtJ9m60azeUZ",
        "outputId": "4be106f6-1636-481b-92b1-147057cfee5f"
      },
      "execution_count": 107,
      "outputs": [
        {
          "output_type": "execute_result",
          "data": {
            "text/plain": [
              "threshold    0.260000\n",
              "f1           0.530754\n",
              "Name: 26, dtype: float64"
            ]
          },
          "metadata": {},
          "execution_count": 107
        }
      ]
    },
    {
      "cell_type": "code",
      "source": [
        "max_train_f1_row_1"
      ],
      "metadata": {
        "colab": {
          "base_uri": "https://localhost:8080/"
        },
        "id": "uwVVktzhY3HP",
        "outputId": "2a4f61bb-b4e8-4b70-e717-5faec7365683"
      },
      "execution_count": 109,
      "outputs": [
        {
          "output_type": "execute_result",
          "data": {
            "text/plain": [
              "threshold    0.240000\n",
              "f1           0.530052\n",
              "Name: 24, dtype: float64"
            ]
          },
          "metadata": {},
          "execution_count": 109
        }
      ]
    },
    {
      "cell_type": "code",
      "source": [
        "unique_y_scores = sorted(df['y_score'].unique())\n",
        "unique_train_y_scores = sorted(train['y_score'].unique())\n",
        "\n",
        "unique_y_scores_1 = sorted(df['y_score_1'].unique())\n",
        "unique_train_y_scores_1 = sorted(train['y_score_1'].unique())"
      ],
      "metadata": {
        "id": "x9lBCTeVG7GH"
      },
      "execution_count": 111,
      "outputs": []
    },
    {
      "cell_type": "code",
      "source": [
        "f1_scores = []\n",
        "f1_train_scores = []\n",
        "f1_scores_1 = []\n",
        "f1_train_scores_1 = []\n",
        "\n",
        "for threshold in tqdm(unique_y_scores):\n",
        "    y_pred = (df['y_score'] >= threshold).astype(int)\n",
        "    f1 = f1_score(df['smoking'], y_pred)\n",
        "    f1_scores.append(f1)\n",
        "\n",
        "for threshold in tqdm(unique_train_y_scores):\n",
        "    y_pred = (df['y_score'] >= threshold).astype(int)\n",
        "    f1 = f1_score(df['smoking'], y_pred)\n",
        "    f1_train_scores.append(f1)\n",
        "\n",
        "for threshold in tqdm(unique_y_scores_1):\n",
        "    y_pred = (df['y_score_1'] >= threshold).astype(int)\n",
        "    f1 = f1_score(df['smoking'], y_pred)\n",
        "    f1_scores_1.append(f1)\n",
        "\n",
        "for threshold in tqdm(unique_train_y_scores_1):\n",
        "    y_pred = (df['y_score_1'] >= threshold).astype(int)\n",
        "    f1 = f1_score(df['smoking'], y_pred)\n",
        "    f1_train_scores_1.append(f1)\n",
        "\n",
        "\n",
        "results_df_unq = pd.DataFrame({'threshold': unique_y_scores, 'f1': f1_scores})\n",
        "results_train_df_unq = pd.DataFrame({'threshold': unique_train_y_scores, 'f1': f1_train_scores})\n",
        "\n",
        "results_df_unq_1 = pd.DataFrame({'threshold': unique_y_scores_1, 'f1': f1_scores_1})\n",
        "results_train_df_unq_1 = pd.DataFrame({'threshold': unique_train_y_scores_1, 'f1': f1_train_scores_1})\n"
      ],
      "metadata": {
        "colab": {
          "base_uri": "https://localhost:8080/",
          "height": 145,
          "referenced_widgets": [
            "cc5275a22a4e413b96b0d53e7048451c",
            "1e986f72e1214f73808882f4e38f984f",
            "920ebe42518a4ec68ab328f143be1f34",
            "d0dee55d03524a90b62c2622f9370e24",
            "b90300e9dac14051923877bf4f8e93eb",
            "f03d2932474b411893d9ff2449b8d512",
            "0d66b9ea725245ae859e8c555c67cc9c",
            "53524d8f143244d5a15df41c4537b34f",
            "d817e0fe11ef4b39a2cc3201ae290ec0",
            "cc46218b053e43289bf26efbd04397a2",
            "8fa013a011cb46f08d18e4698b0eb6f1",
            "d132bf88ce044a76989933fd3942750d",
            "fe51dd8bd6d64546b017f0e2ab9cb467",
            "b66e578dabec473b9b25551690af83ee",
            "a51cdc1abfcd4fce852eb31792fb11f4",
            "65bb0d7d20c74f19b03729ea527431a0",
            "a969f246e2544616a1f752ca557fbd85",
            "4c25be172c454c3594cc603a60184e4e",
            "c1d47c2b07e44f53a6d0ea7f6bb3a26f",
            "680e901b688d4b14b8e711e6591ce231",
            "6b40cdf858a341a58d2189b785d9781f",
            "1212c6d8fba34f2fa9a566f974f4df9e",
            "6f447dc2fa214e469639df8062a83fc2",
            "b0ccebd4c591464e97bd861a5b9cc1a9",
            "a401972833ce49ee987e334404eb63bb",
            "1c010875dbd9495dbadd000837599cdc",
            "94f5c98cfcd64ede9be44a6ed677c8c5",
            "5648437a799b4335941aa24ca2e0564a",
            "3a6c14eaf39f48f382ab4c8dd63e2ca4",
            "41866384997842cdbb05abad9a56ac99",
            "71505680b571499280e2d07867ee2a97",
            "5f897e0f0be045208a62dab44bfad39d",
            "1f71148c54db4ad4ae4942d334379bc1",
            "054ebd91f66c4657b959661b55d02825",
            "7de99b5c9d564d49884a31ec91584635",
            "bc64f113bc9f4979ac1fd2c3c4cc8253",
            "ad4810e6f9794b0cb31999ab2a1e576c",
            "5e3a8837e8044a77bd7d03780439af4b",
            "468ed5d8b12c4c95bd867332d14c1378",
            "60004b76a46f4061b212223ab8e878d5",
            "448ade1a7cba413ea38ef0a81a3b8b20",
            "8f8d76016d6b4661a4c400e6b5a98273",
            "89f2ffdd7cad40ce91e7887e5bcfa6fe",
            "70962bbfc1784a4cabeccb27de7dc35b"
          ]
        },
        "id": "MeuMEzSDHEtO",
        "outputId": "cce02912-ac04-4f97-8c61-7e0205e3451c"
      },
      "execution_count": 112,
      "outputs": [
        {
          "output_type": "display_data",
          "data": {
            "text/plain": [
              "  0%|          | 0/13843 [00:00<?, ?it/s]"
            ],
            "application/vnd.jupyter.widget-view+json": {
              "version_major": 2,
              "version_minor": 0,
              "model_id": "cc5275a22a4e413b96b0d53e7048451c"
            }
          },
          "metadata": {}
        },
        {
          "output_type": "display_data",
          "data": {
            "text/plain": [
              "  0%|          | 0/11076 [00:00<?, ?it/s]"
            ],
            "application/vnd.jupyter.widget-view+json": {
              "version_major": 2,
              "version_minor": 0,
              "model_id": "d132bf88ce044a76989933fd3942750d"
            }
          },
          "metadata": {}
        },
        {
          "output_type": "display_data",
          "data": {
            "text/plain": [
              "  0%|          | 0/12209 [00:00<?, ?it/s]"
            ],
            "application/vnd.jupyter.widget-view+json": {
              "version_major": 2,
              "version_minor": 0,
              "model_id": "6f447dc2fa214e469639df8062a83fc2"
            }
          },
          "metadata": {}
        },
        {
          "output_type": "display_data",
          "data": {
            "text/plain": [
              "  0%|          | 0/10024 [00:00<?, ?it/s]"
            ],
            "application/vnd.jupyter.widget-view+json": {
              "version_major": 2,
              "version_minor": 0,
              "model_id": "054ebd91f66c4657b959661b55d02825"
            }
          },
          "metadata": {}
        }
      ]
    },
    {
      "cell_type": "code",
      "source": [
        "max_f1_row_unq = results_df_unq.loc[results_df_unq['f1'].idxmax()]\n",
        "max_train_f1_row_unq = results_df_unq.loc[results_train_df_unq['f1'].idxmax()]\n",
        "\n",
        "max_f1_row_unq_1 = results_df_unq_1.loc[results_df_unq_1['f1'].idxmax()]\n",
        "max_train_f1_row_unq_1 = results_df_unq_1.loc[results_train_df_unq_1['f1'].idxmax()]"
      ],
      "metadata": {
        "id": "WcrtTAYAHIvo"
      },
      "execution_count": 115,
      "outputs": []
    },
    {
      "cell_type": "code",
      "source": [
        "max_f1_row_unq"
      ],
      "metadata": {
        "colab": {
          "base_uri": "https://localhost:8080/"
        },
        "id": "qsaERk5ZIxjn",
        "outputId": "236457c2-dcd8-4302-f19e-5d14884275cc"
      },
      "execution_count": 116,
      "outputs": [
        {
          "output_type": "execute_result",
          "data": {
            "text/plain": [
              "threshold    0.254913\n",
              "f1           0.533871\n",
              "Name: 10445, dtype: float64"
            ]
          },
          "metadata": {},
          "execution_count": 116
        }
      ]
    },
    {
      "cell_type": "code",
      "source": [
        "max_f1_row_unq_1"
      ],
      "metadata": {
        "colab": {
          "base_uri": "https://localhost:8080/"
        },
        "id": "Ng1XkjWBbkap",
        "outputId": "239047e6-413b-4ead-ce3a-f7fe5f3198cb"
      },
      "execution_count": 117,
      "outputs": [
        {
          "output_type": "execute_result",
          "data": {
            "text/plain": [
              "threshold    0.247595\n",
              "f1           0.520437\n",
              "Name: 8920, dtype: float64"
            ]
          },
          "metadata": {},
          "execution_count": 117
        }
      ]
    },
    {
      "cell_type": "code",
      "source": [
        "max_train_f1_row_unq"
      ],
      "metadata": {
        "colab": {
          "base_uri": "https://localhost:8080/"
        },
        "id": "0amy-NK9buPM",
        "outputId": "92de963e-3f3e-4fd1-99f5-276b9b400b7d"
      },
      "execution_count": 118,
      "outputs": [
        {
          "output_type": "execute_result",
          "data": {
            "text/plain": [
              "threshold    0.201631\n",
              "f1           0.507510\n",
              "Name: 8394, dtype: float64"
            ]
          },
          "metadata": {},
          "execution_count": 118
        }
      ]
    },
    {
      "cell_type": "code",
      "source": [
        "max_train_f1_row_unq_1"
      ],
      "metadata": {
        "colab": {
          "base_uri": "https://localhost:8080/"
        },
        "id": "--ADvurcz_7d",
        "outputId": "7e3468a9-c752-42a5-d269-e6b0acdf437d"
      },
      "execution_count": 119,
      "outputs": [
        {
          "output_type": "execute_result",
          "data": {
            "text/plain": [
              "threshold    0.208402\n",
              "f1           0.502367\n",
              "Name: 7487, dtype: float64"
            ]
          },
          "metadata": {},
          "execution_count": 119
        }
      ]
    },
    {
      "cell_type": "code",
      "source": [
        "# model.get_feature_importance(prettified=True)\n",
        "df.head(1)"
      ],
      "metadata": {
        "id": "51814GVIKsFI",
        "colab": {
          "base_uri": "https://localhost:8080/",
          "height": 130
        },
        "outputId": "841db8e0-a076-49c7-d47a-8cff5e5ec42a"
      },
      "execution_count": 122,
      "outputs": [
        {
          "output_type": "execute_result",
          "data": {
            "text/plain": [
              "     id  age  height_cm  weight_kg  waist_cm  eyesight_left  eyesight_right  \\\n",
              "0  2791   65        170         75      91.0            0.6             0.9   \n",
              "\n",
              "   hearing_left  hearing_right  systolic  ...  hearing_avg  \\\n",
              "0           1.0            1.0     122.0  ...          1.0   \n",
              "\n",
              "   cholesterol_to_hdl_ratio  cholesterol_to_ldl_ratio  \\\n",
              "0                  1.676056                  2.288462   \n",
              "\n",
              "   cat_cholesterol_to_hdl_ratio  cat_cholesterol_to_ldl_ratio  \\\n",
              "0                     very_good                       average   \n",
              "\n",
              "   protein_to_creatinine_ratio  dental_health  cat_dental_health   y_score  \\\n",
              "0                          2.5              0          very_good  0.161474   \n",
              "\n",
              "   y_score_1  \n",
              "0   0.164788  \n",
              "\n",
              "[1 rows x 43 columns]"
            ],
            "text/html": [
              "\n",
              "  <div id=\"df-0798124a-8adc-4347-aa48-5a4ddafacbdc\" class=\"colab-df-container\">\n",
              "    <div>\n",
              "<style scoped>\n",
              "    .dataframe tbody tr th:only-of-type {\n",
              "        vertical-align: middle;\n",
              "    }\n",
              "\n",
              "    .dataframe tbody tr th {\n",
              "        vertical-align: top;\n",
              "    }\n",
              "\n",
              "    .dataframe thead th {\n",
              "        text-align: right;\n",
              "    }\n",
              "</style>\n",
              "<table border=\"1\" class=\"dataframe\">\n",
              "  <thead>\n",
              "    <tr style=\"text-align: right;\">\n",
              "      <th></th>\n",
              "      <th>id</th>\n",
              "      <th>age</th>\n",
              "      <th>height_cm</th>\n",
              "      <th>weight_kg</th>\n",
              "      <th>waist_cm</th>\n",
              "      <th>eyesight_left</th>\n",
              "      <th>eyesight_right</th>\n",
              "      <th>hearing_left</th>\n",
              "      <th>hearing_right</th>\n",
              "      <th>systolic</th>\n",
              "      <th>...</th>\n",
              "      <th>hearing_avg</th>\n",
              "      <th>cholesterol_to_hdl_ratio</th>\n",
              "      <th>cholesterol_to_ldl_ratio</th>\n",
              "      <th>cat_cholesterol_to_hdl_ratio</th>\n",
              "      <th>cat_cholesterol_to_ldl_ratio</th>\n",
              "      <th>protein_to_creatinine_ratio</th>\n",
              "      <th>dental_health</th>\n",
              "      <th>cat_dental_health</th>\n",
              "      <th>y_score</th>\n",
              "      <th>y_score_1</th>\n",
              "    </tr>\n",
              "  </thead>\n",
              "  <tbody>\n",
              "    <tr>\n",
              "      <th>0</th>\n",
              "      <td>2791</td>\n",
              "      <td>65</td>\n",
              "      <td>170</td>\n",
              "      <td>75</td>\n",
              "      <td>91.0</td>\n",
              "      <td>0.6</td>\n",
              "      <td>0.9</td>\n",
              "      <td>1.0</td>\n",
              "      <td>1.0</td>\n",
              "      <td>122.0</td>\n",
              "      <td>...</td>\n",
              "      <td>1.0</td>\n",
              "      <td>1.676056</td>\n",
              "      <td>2.288462</td>\n",
              "      <td>very_good</td>\n",
              "      <td>average</td>\n",
              "      <td>2.5</td>\n",
              "      <td>0</td>\n",
              "      <td>very_good</td>\n",
              "      <td>0.161474</td>\n",
              "      <td>0.164788</td>\n",
              "    </tr>\n",
              "  </tbody>\n",
              "</table>\n",
              "<p>1 rows × 43 columns</p>\n",
              "</div>\n",
              "    <div class=\"colab-df-buttons\">\n",
              "\n",
              "  <div class=\"colab-df-container\">\n",
              "    <button class=\"colab-df-convert\" onclick=\"convertToInteractive('df-0798124a-8adc-4347-aa48-5a4ddafacbdc')\"\n",
              "            title=\"Convert this dataframe to an interactive table.\"\n",
              "            style=\"display:none;\">\n",
              "\n",
              "  <svg xmlns=\"http://www.w3.org/2000/svg\" height=\"24px\" viewBox=\"0 -960 960 960\">\n",
              "    <path d=\"M120-120v-720h720v720H120Zm60-500h600v-160H180v160Zm220 220h160v-160H400v160Zm0 220h160v-160H400v160ZM180-400h160v-160H180v160Zm440 0h160v-160H620v160ZM180-180h160v-160H180v160Zm440 0h160v-160H620v160Z\"/>\n",
              "  </svg>\n",
              "    </button>\n",
              "\n",
              "  <style>\n",
              "    .colab-df-container {\n",
              "      display:flex;\n",
              "      gap: 12px;\n",
              "    }\n",
              "\n",
              "    .colab-df-convert {\n",
              "      background-color: #E8F0FE;\n",
              "      border: none;\n",
              "      border-radius: 50%;\n",
              "      cursor: pointer;\n",
              "      display: none;\n",
              "      fill: #1967D2;\n",
              "      height: 32px;\n",
              "      padding: 0 0 0 0;\n",
              "      width: 32px;\n",
              "    }\n",
              "\n",
              "    .colab-df-convert:hover {\n",
              "      background-color: #E2EBFA;\n",
              "      box-shadow: 0px 1px 2px rgba(60, 64, 67, 0.3), 0px 1px 3px 1px rgba(60, 64, 67, 0.15);\n",
              "      fill: #174EA6;\n",
              "    }\n",
              "\n",
              "    .colab-df-buttons div {\n",
              "      margin-bottom: 4px;\n",
              "    }\n",
              "\n",
              "    [theme=dark] .colab-df-convert {\n",
              "      background-color: #3B4455;\n",
              "      fill: #D2E3FC;\n",
              "    }\n",
              "\n",
              "    [theme=dark] .colab-df-convert:hover {\n",
              "      background-color: #434B5C;\n",
              "      box-shadow: 0px 1px 3px 1px rgba(0, 0, 0, 0.15);\n",
              "      filter: drop-shadow(0px 1px 2px rgba(0, 0, 0, 0.3));\n",
              "      fill: #FFFFFF;\n",
              "    }\n",
              "  </style>\n",
              "\n",
              "    <script>\n",
              "      const buttonEl =\n",
              "        document.querySelector('#df-0798124a-8adc-4347-aa48-5a4ddafacbdc button.colab-df-convert');\n",
              "      buttonEl.style.display =\n",
              "        google.colab.kernel.accessAllowed ? 'block' : 'none';\n",
              "\n",
              "      async function convertToInteractive(key) {\n",
              "        const element = document.querySelector('#df-0798124a-8adc-4347-aa48-5a4ddafacbdc');\n",
              "        const dataTable =\n",
              "          await google.colab.kernel.invokeFunction('convertToInteractive',\n",
              "                                                    [key], {});\n",
              "        if (!dataTable) return;\n",
              "\n",
              "        const docLinkHtml = 'Like what you see? Visit the ' +\n",
              "          '<a target=\"_blank\" href=https://colab.research.google.com/notebooks/data_table.ipynb>data table notebook</a>'\n",
              "          + ' to learn more about interactive tables.';\n",
              "        element.innerHTML = '';\n",
              "        dataTable['output_type'] = 'display_data';\n",
              "        await google.colab.output.renderOutput(dataTable, element);\n",
              "        const docLink = document.createElement('div');\n",
              "        docLink.innerHTML = docLinkHtml;\n",
              "        element.appendChild(docLink);\n",
              "      }\n",
              "    </script>\n",
              "  </div>\n",
              "\n",
              "    </div>\n",
              "  </div>\n"
            ]
          },
          "metadata": {},
          "execution_count": 122
        }
      ]
    },
    {
      "cell_type": "code",
      "source": [
        "df['pred_smoking_thres'] = (df['y_score'] >= max_f1_row[0])* 1\n",
        "df['pred_smoking_unq'] = (df['y_score'] >= max_f1_row_unq[0])* 1\n",
        "df['pred_smoking_unq_1'] = (df['y_score_1'] >= max_f1_row_unq_1[0])* 1\n",
        "\n",
        "df['pred_train_smoking'] = (df['y_score'] >= max_train_f1_row[0])* 1\n",
        "df['pred_train_smoking_unq'] = (df['y_score'] >= max_train_f1_row_unq[0])* 1\n",
        "df['pred_train_smoking_unq_1'] = (df['y_score_1'] >= max_train_f1_row_unq_1[0])* 1"
      ],
      "metadata": {
        "id": "l0SrLypmNxre"
      },
      "execution_count": 123,
      "outputs": []
    },
    {
      "cell_type": "code",
      "source": [
        "df"
      ],
      "metadata": {
        "colab": {
          "base_uri": "https://localhost:8080/",
          "height": 444
        },
        "id": "6xUj9s6vCd7X",
        "outputId": "e4b74837-adc6-448a-82f7-6d78918b221b"
      },
      "execution_count": 124,
      "outputs": [
        {
          "output_type": "execute_result",
          "data": {
            "text/plain": [
              "          id  age  height_cm  weight_kg  waist_cm  eyesight_left  \\\n",
              "0       2791   65        170         75      91.0            0.6   \n",
              "1      18280   35        170         85      97.0            1.5   \n",
              "2       1618   70        165         55      75.0            0.8   \n",
              "3      16856   35        180         85      83.0            1.2   \n",
              "4       5885   25        170         65      80.0            1.5   \n",
              "...      ...  ...        ...        ...       ...            ...   \n",
              "13858   7835   45        175         85      94.0            0.8   \n",
              "13859   9335   40        170         75      86.0            1.2   \n",
              "13860  18936   65        170         70      85.0            0.6   \n",
              "13861  11064   30        160         80      89.0            1.5   \n",
              "13862   2646   60        170         70      86.0            1.5   \n",
              "\n",
              "       eyesight_right  hearing_left  hearing_right  systolic  ...  \\\n",
              "0                 0.9           1.0            1.0     122.0  ...   \n",
              "1                 1.5           1.0            1.0     138.0  ...   \n",
              "2                 1.0           1.0            1.0     115.0  ...   \n",
              "3                 1.0           1.0            1.0     130.0  ...   \n",
              "4                 1.2           1.0            1.0     135.0  ...   \n",
              "...               ...           ...            ...       ...  ...   \n",
              "13858             0.8           1.0            1.0     127.0  ...   \n",
              "13859             1.0           1.0            1.0     134.0  ...   \n",
              "13860             0.7           1.0            1.0     131.0  ...   \n",
              "13861             1.5           1.0            1.0     120.0  ...   \n",
              "13862             1.5           1.0            1.0     135.0  ...   \n",
              "\n",
              "       dental_health  cat_dental_health   y_score  y_score_1  \\\n",
              "0                  0          very_good  0.161474   0.164788   \n",
              "1                  0          very_good  0.337392   0.282503   \n",
              "2                  0          very_good  0.088415   0.101726   \n",
              "3                  0          very_good  0.171565   0.177706   \n",
              "4                  0          very_good  0.146900   0.141246   \n",
              "...              ...                ...       ...        ...   \n",
              "13858              0          very_good  0.235955   0.244277   \n",
              "13859              0          very_good  0.392212   0.367334   \n",
              "13860              1            average  0.305467   0.222104   \n",
              "13861              0          very_good  0.148338   0.145691   \n",
              "13862              1            average  0.056244   0.071225   \n",
              "\n",
              "       pred_smoking_thres  pred_smoking_unq  pred_smoking_unq_1  \\\n",
              "0                       0                 0                   0   \n",
              "1                       1                 1                   1   \n",
              "2                       0                 0                   0   \n",
              "3                       0                 0                   0   \n",
              "4                       0                 0                   0   \n",
              "...                   ...               ...                 ...   \n",
              "13858                   0                 0                   0   \n",
              "13859                   1                 1                   1   \n",
              "13860                   1                 1                   0   \n",
              "13861                   0                 0                   0   \n",
              "13862                   0                 0                   0   \n",
              "\n",
              "       pred_train_smoking  pred_train_smoking_unq  pred_train_smoking_unq_1  \n",
              "0                       0                       0                         0  \n",
              "1                       1                       1                         1  \n",
              "2                       0                       0                         0  \n",
              "3                       0                       0                         0  \n",
              "4                       0                       0                         0  \n",
              "...                   ...                     ...                       ...  \n",
              "13858                   0                       1                         1  \n",
              "13859                   1                       1                         1  \n",
              "13860                   1                       1                         1  \n",
              "13861                   0                       0                         0  \n",
              "13862                   0                       0                         0  \n",
              "\n",
              "[13863 rows x 49 columns]"
            ],
            "text/html": [
              "\n",
              "  <div id=\"df-61c67fa8-e2e7-4b72-8a72-e5f591913a6e\" class=\"colab-df-container\">\n",
              "    <div>\n",
              "<style scoped>\n",
              "    .dataframe tbody tr th:only-of-type {\n",
              "        vertical-align: middle;\n",
              "    }\n",
              "\n",
              "    .dataframe tbody tr th {\n",
              "        vertical-align: top;\n",
              "    }\n",
              "\n",
              "    .dataframe thead th {\n",
              "        text-align: right;\n",
              "    }\n",
              "</style>\n",
              "<table border=\"1\" class=\"dataframe\">\n",
              "  <thead>\n",
              "    <tr style=\"text-align: right;\">\n",
              "      <th></th>\n",
              "      <th>id</th>\n",
              "      <th>age</th>\n",
              "      <th>height_cm</th>\n",
              "      <th>weight_kg</th>\n",
              "      <th>waist_cm</th>\n",
              "      <th>eyesight_left</th>\n",
              "      <th>eyesight_right</th>\n",
              "      <th>hearing_left</th>\n",
              "      <th>hearing_right</th>\n",
              "      <th>systolic</th>\n",
              "      <th>...</th>\n",
              "      <th>dental_health</th>\n",
              "      <th>cat_dental_health</th>\n",
              "      <th>y_score</th>\n",
              "      <th>y_score_1</th>\n",
              "      <th>pred_smoking_thres</th>\n",
              "      <th>pred_smoking_unq</th>\n",
              "      <th>pred_smoking_unq_1</th>\n",
              "      <th>pred_train_smoking</th>\n",
              "      <th>pred_train_smoking_unq</th>\n",
              "      <th>pred_train_smoking_unq_1</th>\n",
              "    </tr>\n",
              "  </thead>\n",
              "  <tbody>\n",
              "    <tr>\n",
              "      <th>0</th>\n",
              "      <td>2791</td>\n",
              "      <td>65</td>\n",
              "      <td>170</td>\n",
              "      <td>75</td>\n",
              "      <td>91.0</td>\n",
              "      <td>0.6</td>\n",
              "      <td>0.9</td>\n",
              "      <td>1.0</td>\n",
              "      <td>1.0</td>\n",
              "      <td>122.0</td>\n",
              "      <td>...</td>\n",
              "      <td>0</td>\n",
              "      <td>very_good</td>\n",
              "      <td>0.161474</td>\n",
              "      <td>0.164788</td>\n",
              "      <td>0</td>\n",
              "      <td>0</td>\n",
              "      <td>0</td>\n",
              "      <td>0</td>\n",
              "      <td>0</td>\n",
              "      <td>0</td>\n",
              "    </tr>\n",
              "    <tr>\n",
              "      <th>1</th>\n",
              "      <td>18280</td>\n",
              "      <td>35</td>\n",
              "      <td>170</td>\n",
              "      <td>85</td>\n",
              "      <td>97.0</td>\n",
              "      <td>1.5</td>\n",
              "      <td>1.5</td>\n",
              "      <td>1.0</td>\n",
              "      <td>1.0</td>\n",
              "      <td>138.0</td>\n",
              "      <td>...</td>\n",
              "      <td>0</td>\n",
              "      <td>very_good</td>\n",
              "      <td>0.337392</td>\n",
              "      <td>0.282503</td>\n",
              "      <td>1</td>\n",
              "      <td>1</td>\n",
              "      <td>1</td>\n",
              "      <td>1</td>\n",
              "      <td>1</td>\n",
              "      <td>1</td>\n",
              "    </tr>\n",
              "    <tr>\n",
              "      <th>2</th>\n",
              "      <td>1618</td>\n",
              "      <td>70</td>\n",
              "      <td>165</td>\n",
              "      <td>55</td>\n",
              "      <td>75.0</td>\n",
              "      <td>0.8</td>\n",
              "      <td>1.0</td>\n",
              "      <td>1.0</td>\n",
              "      <td>1.0</td>\n",
              "      <td>115.0</td>\n",
              "      <td>...</td>\n",
              "      <td>0</td>\n",
              "      <td>very_good</td>\n",
              "      <td>0.088415</td>\n",
              "      <td>0.101726</td>\n",
              "      <td>0</td>\n",
              "      <td>0</td>\n",
              "      <td>0</td>\n",
              "      <td>0</td>\n",
              "      <td>0</td>\n",
              "      <td>0</td>\n",
              "    </tr>\n",
              "    <tr>\n",
              "      <th>3</th>\n",
              "      <td>16856</td>\n",
              "      <td>35</td>\n",
              "      <td>180</td>\n",
              "      <td>85</td>\n",
              "      <td>83.0</td>\n",
              "      <td>1.2</td>\n",
              "      <td>1.0</td>\n",
              "      <td>1.0</td>\n",
              "      <td>1.0</td>\n",
              "      <td>130.0</td>\n",
              "      <td>...</td>\n",
              "      <td>0</td>\n",
              "      <td>very_good</td>\n",
              "      <td>0.171565</td>\n",
              "      <td>0.177706</td>\n",
              "      <td>0</td>\n",
              "      <td>0</td>\n",
              "      <td>0</td>\n",
              "      <td>0</td>\n",
              "      <td>0</td>\n",
              "      <td>0</td>\n",
              "    </tr>\n",
              "    <tr>\n",
              "      <th>4</th>\n",
              "      <td>5885</td>\n",
              "      <td>25</td>\n",
              "      <td>170</td>\n",
              "      <td>65</td>\n",
              "      <td>80.0</td>\n",
              "      <td>1.5</td>\n",
              "      <td>1.2</td>\n",
              "      <td>1.0</td>\n",
              "      <td>1.0</td>\n",
              "      <td>135.0</td>\n",
              "      <td>...</td>\n",
              "      <td>0</td>\n",
              "      <td>very_good</td>\n",
              "      <td>0.146900</td>\n",
              "      <td>0.141246</td>\n",
              "      <td>0</td>\n",
              "      <td>0</td>\n",
              "      <td>0</td>\n",
              "      <td>0</td>\n",
              "      <td>0</td>\n",
              "      <td>0</td>\n",
              "    </tr>\n",
              "    <tr>\n",
              "      <th>...</th>\n",
              "      <td>...</td>\n",
              "      <td>...</td>\n",
              "      <td>...</td>\n",
              "      <td>...</td>\n",
              "      <td>...</td>\n",
              "      <td>...</td>\n",
              "      <td>...</td>\n",
              "      <td>...</td>\n",
              "      <td>...</td>\n",
              "      <td>...</td>\n",
              "      <td>...</td>\n",
              "      <td>...</td>\n",
              "      <td>...</td>\n",
              "      <td>...</td>\n",
              "      <td>...</td>\n",
              "      <td>...</td>\n",
              "      <td>...</td>\n",
              "      <td>...</td>\n",
              "      <td>...</td>\n",
              "      <td>...</td>\n",
              "      <td>...</td>\n",
              "    </tr>\n",
              "    <tr>\n",
              "      <th>13858</th>\n",
              "      <td>7835</td>\n",
              "      <td>45</td>\n",
              "      <td>175</td>\n",
              "      <td>85</td>\n",
              "      <td>94.0</td>\n",
              "      <td>0.8</td>\n",
              "      <td>0.8</td>\n",
              "      <td>1.0</td>\n",
              "      <td>1.0</td>\n",
              "      <td>127.0</td>\n",
              "      <td>...</td>\n",
              "      <td>0</td>\n",
              "      <td>very_good</td>\n",
              "      <td>0.235955</td>\n",
              "      <td>0.244277</td>\n",
              "      <td>0</td>\n",
              "      <td>0</td>\n",
              "      <td>0</td>\n",
              "      <td>0</td>\n",
              "      <td>1</td>\n",
              "      <td>1</td>\n",
              "    </tr>\n",
              "    <tr>\n",
              "      <th>13859</th>\n",
              "      <td>9335</td>\n",
              "      <td>40</td>\n",
              "      <td>170</td>\n",
              "      <td>75</td>\n",
              "      <td>86.0</td>\n",
              "      <td>1.2</td>\n",
              "      <td>1.0</td>\n",
              "      <td>1.0</td>\n",
              "      <td>1.0</td>\n",
              "      <td>134.0</td>\n",
              "      <td>...</td>\n",
              "      <td>0</td>\n",
              "      <td>very_good</td>\n",
              "      <td>0.392212</td>\n",
              "      <td>0.367334</td>\n",
              "      <td>1</td>\n",
              "      <td>1</td>\n",
              "      <td>1</td>\n",
              "      <td>1</td>\n",
              "      <td>1</td>\n",
              "      <td>1</td>\n",
              "    </tr>\n",
              "    <tr>\n",
              "      <th>13860</th>\n",
              "      <td>18936</td>\n",
              "      <td>65</td>\n",
              "      <td>170</td>\n",
              "      <td>70</td>\n",
              "      <td>85.0</td>\n",
              "      <td>0.6</td>\n",
              "      <td>0.7</td>\n",
              "      <td>1.0</td>\n",
              "      <td>1.0</td>\n",
              "      <td>131.0</td>\n",
              "      <td>...</td>\n",
              "      <td>1</td>\n",
              "      <td>average</td>\n",
              "      <td>0.305467</td>\n",
              "      <td>0.222104</td>\n",
              "      <td>1</td>\n",
              "      <td>1</td>\n",
              "      <td>0</td>\n",
              "      <td>1</td>\n",
              "      <td>1</td>\n",
              "      <td>1</td>\n",
              "    </tr>\n",
              "    <tr>\n",
              "      <th>13861</th>\n",
              "      <td>11064</td>\n",
              "      <td>30</td>\n",
              "      <td>160</td>\n",
              "      <td>80</td>\n",
              "      <td>89.0</td>\n",
              "      <td>1.5</td>\n",
              "      <td>1.5</td>\n",
              "      <td>1.0</td>\n",
              "      <td>1.0</td>\n",
              "      <td>120.0</td>\n",
              "      <td>...</td>\n",
              "      <td>0</td>\n",
              "      <td>very_good</td>\n",
              "      <td>0.148338</td>\n",
              "      <td>0.145691</td>\n",
              "      <td>0</td>\n",
              "      <td>0</td>\n",
              "      <td>0</td>\n",
              "      <td>0</td>\n",
              "      <td>0</td>\n",
              "      <td>0</td>\n",
              "    </tr>\n",
              "    <tr>\n",
              "      <th>13862</th>\n",
              "      <td>2646</td>\n",
              "      <td>60</td>\n",
              "      <td>170</td>\n",
              "      <td>70</td>\n",
              "      <td>86.0</td>\n",
              "      <td>1.5</td>\n",
              "      <td>1.5</td>\n",
              "      <td>1.0</td>\n",
              "      <td>1.0</td>\n",
              "      <td>135.0</td>\n",
              "      <td>...</td>\n",
              "      <td>1</td>\n",
              "      <td>average</td>\n",
              "      <td>0.056244</td>\n",
              "      <td>0.071225</td>\n",
              "      <td>0</td>\n",
              "      <td>0</td>\n",
              "      <td>0</td>\n",
              "      <td>0</td>\n",
              "      <td>0</td>\n",
              "      <td>0</td>\n",
              "    </tr>\n",
              "  </tbody>\n",
              "</table>\n",
              "<p>13863 rows × 49 columns</p>\n",
              "</div>\n",
              "    <div class=\"colab-df-buttons\">\n",
              "\n",
              "  <div class=\"colab-df-container\">\n",
              "    <button class=\"colab-df-convert\" onclick=\"convertToInteractive('df-61c67fa8-e2e7-4b72-8a72-e5f591913a6e')\"\n",
              "            title=\"Convert this dataframe to an interactive table.\"\n",
              "            style=\"display:none;\">\n",
              "\n",
              "  <svg xmlns=\"http://www.w3.org/2000/svg\" height=\"24px\" viewBox=\"0 -960 960 960\">\n",
              "    <path d=\"M120-120v-720h720v720H120Zm60-500h600v-160H180v160Zm220 220h160v-160H400v160Zm0 220h160v-160H400v160ZM180-400h160v-160H180v160Zm440 0h160v-160H620v160ZM180-180h160v-160H180v160Zm440 0h160v-160H620v160Z\"/>\n",
              "  </svg>\n",
              "    </button>\n",
              "\n",
              "  <style>\n",
              "    .colab-df-container {\n",
              "      display:flex;\n",
              "      gap: 12px;\n",
              "    }\n",
              "\n",
              "    .colab-df-convert {\n",
              "      background-color: #E8F0FE;\n",
              "      border: none;\n",
              "      border-radius: 50%;\n",
              "      cursor: pointer;\n",
              "      display: none;\n",
              "      fill: #1967D2;\n",
              "      height: 32px;\n",
              "      padding: 0 0 0 0;\n",
              "      width: 32px;\n",
              "    }\n",
              "\n",
              "    .colab-df-convert:hover {\n",
              "      background-color: #E2EBFA;\n",
              "      box-shadow: 0px 1px 2px rgba(60, 64, 67, 0.3), 0px 1px 3px 1px rgba(60, 64, 67, 0.15);\n",
              "      fill: #174EA6;\n",
              "    }\n",
              "\n",
              "    .colab-df-buttons div {\n",
              "      margin-bottom: 4px;\n",
              "    }\n",
              "\n",
              "    [theme=dark] .colab-df-convert {\n",
              "      background-color: #3B4455;\n",
              "      fill: #D2E3FC;\n",
              "    }\n",
              "\n",
              "    [theme=dark] .colab-df-convert:hover {\n",
              "      background-color: #434B5C;\n",
              "      box-shadow: 0px 1px 3px 1px rgba(0, 0, 0, 0.15);\n",
              "      filter: drop-shadow(0px 1px 2px rgba(0, 0, 0, 0.3));\n",
              "      fill: #FFFFFF;\n",
              "    }\n",
              "  </style>\n",
              "\n",
              "    <script>\n",
              "      const buttonEl =\n",
              "        document.querySelector('#df-61c67fa8-e2e7-4b72-8a72-e5f591913a6e button.colab-df-convert');\n",
              "      buttonEl.style.display =\n",
              "        google.colab.kernel.accessAllowed ? 'block' : 'none';\n",
              "\n",
              "      async function convertToInteractive(key) {\n",
              "        const element = document.querySelector('#df-61c67fa8-e2e7-4b72-8a72-e5f591913a6e');\n",
              "        const dataTable =\n",
              "          await google.colab.kernel.invokeFunction('convertToInteractive',\n",
              "                                                    [key], {});\n",
              "        if (!dataTable) return;\n",
              "\n",
              "        const docLinkHtml = 'Like what you see? Visit the ' +\n",
              "          '<a target=\"_blank\" href=https://colab.research.google.com/notebooks/data_table.ipynb>data table notebook</a>'\n",
              "          + ' to learn more about interactive tables.';\n",
              "        element.innerHTML = '';\n",
              "        dataTable['output_type'] = 'display_data';\n",
              "        await google.colab.output.renderOutput(dataTable, element);\n",
              "        const docLink = document.createElement('div');\n",
              "        docLink.innerHTML = docLinkHtml;\n",
              "        element.appendChild(docLink);\n",
              "      }\n",
              "    </script>\n",
              "  </div>\n",
              "\n",
              "\n",
              "<div id=\"df-7c6a5617-4286-458b-b970-c689191e4fea\">\n",
              "  <button class=\"colab-df-quickchart\" onclick=\"quickchart('df-7c6a5617-4286-458b-b970-c689191e4fea')\"\n",
              "            title=\"Suggest charts.\"\n",
              "            style=\"display:none;\">\n",
              "\n",
              "<svg xmlns=\"http://www.w3.org/2000/svg\" height=\"24px\"viewBox=\"0 0 24 24\"\n",
              "     width=\"24px\">\n",
              "    <g>\n",
              "        <path d=\"M19 3H5c-1.1 0-2 .9-2 2v14c0 1.1.9 2 2 2h14c1.1 0 2-.9 2-2V5c0-1.1-.9-2-2-2zM9 17H7v-7h2v7zm4 0h-2V7h2v10zm4 0h-2v-4h2v4z\"/>\n",
              "    </g>\n",
              "</svg>\n",
              "  </button>\n",
              "\n",
              "<style>\n",
              "  .colab-df-quickchart {\n",
              "      --bg-color: #E8F0FE;\n",
              "      --fill-color: #1967D2;\n",
              "      --hover-bg-color: #E2EBFA;\n",
              "      --hover-fill-color: #174EA6;\n",
              "      --disabled-fill-color: #AAA;\n",
              "      --disabled-bg-color: #DDD;\n",
              "  }\n",
              "\n",
              "  [theme=dark] .colab-df-quickchart {\n",
              "      --bg-color: #3B4455;\n",
              "      --fill-color: #D2E3FC;\n",
              "      --hover-bg-color: #434B5C;\n",
              "      --hover-fill-color: #FFFFFF;\n",
              "      --disabled-bg-color: #3B4455;\n",
              "      --disabled-fill-color: #666;\n",
              "  }\n",
              "\n",
              "  .colab-df-quickchart {\n",
              "    background-color: var(--bg-color);\n",
              "    border: none;\n",
              "    border-radius: 50%;\n",
              "    cursor: pointer;\n",
              "    display: none;\n",
              "    fill: var(--fill-color);\n",
              "    height: 32px;\n",
              "    padding: 0;\n",
              "    width: 32px;\n",
              "  }\n",
              "\n",
              "  .colab-df-quickchart:hover {\n",
              "    background-color: var(--hover-bg-color);\n",
              "    box-shadow: 0 1px 2px rgba(60, 64, 67, 0.3), 0 1px 3px 1px rgba(60, 64, 67, 0.15);\n",
              "    fill: var(--button-hover-fill-color);\n",
              "  }\n",
              "\n",
              "  .colab-df-quickchart-complete:disabled,\n",
              "  .colab-df-quickchart-complete:disabled:hover {\n",
              "    background-color: var(--disabled-bg-color);\n",
              "    fill: var(--disabled-fill-color);\n",
              "    box-shadow: none;\n",
              "  }\n",
              "\n",
              "  .colab-df-spinner {\n",
              "    border: 2px solid var(--fill-color);\n",
              "    border-color: transparent;\n",
              "    border-bottom-color: var(--fill-color);\n",
              "    animation:\n",
              "      spin 1s steps(1) infinite;\n",
              "  }\n",
              "\n",
              "  @keyframes spin {\n",
              "    0% {\n",
              "      border-color: transparent;\n",
              "      border-bottom-color: var(--fill-color);\n",
              "      border-left-color: var(--fill-color);\n",
              "    }\n",
              "    20% {\n",
              "      border-color: transparent;\n",
              "      border-left-color: var(--fill-color);\n",
              "      border-top-color: var(--fill-color);\n",
              "    }\n",
              "    30% {\n",
              "      border-color: transparent;\n",
              "      border-left-color: var(--fill-color);\n",
              "      border-top-color: var(--fill-color);\n",
              "      border-right-color: var(--fill-color);\n",
              "    }\n",
              "    40% {\n",
              "      border-color: transparent;\n",
              "      border-right-color: var(--fill-color);\n",
              "      border-top-color: var(--fill-color);\n",
              "    }\n",
              "    60% {\n",
              "      border-color: transparent;\n",
              "      border-right-color: var(--fill-color);\n",
              "    }\n",
              "    80% {\n",
              "      border-color: transparent;\n",
              "      border-right-color: var(--fill-color);\n",
              "      border-bottom-color: var(--fill-color);\n",
              "    }\n",
              "    90% {\n",
              "      border-color: transparent;\n",
              "      border-bottom-color: var(--fill-color);\n",
              "    }\n",
              "  }\n",
              "</style>\n",
              "\n",
              "  <script>\n",
              "    async function quickchart(key) {\n",
              "      const quickchartButtonEl =\n",
              "        document.querySelector('#' + key + ' button');\n",
              "      quickchartButtonEl.disabled = true;  // To prevent multiple clicks.\n",
              "      quickchartButtonEl.classList.add('colab-df-spinner');\n",
              "      try {\n",
              "        const charts = await google.colab.kernel.invokeFunction(\n",
              "            'suggestCharts', [key], {});\n",
              "      } catch (error) {\n",
              "        console.error('Error during call to suggestCharts:', error);\n",
              "      }\n",
              "      quickchartButtonEl.classList.remove('colab-df-spinner');\n",
              "      quickchartButtonEl.classList.add('colab-df-quickchart-complete');\n",
              "    }\n",
              "    (() => {\n",
              "      let quickchartButtonEl =\n",
              "        document.querySelector('#df-7c6a5617-4286-458b-b970-c689191e4fea button');\n",
              "      quickchartButtonEl.style.display =\n",
              "        google.colab.kernel.accessAllowed ? 'block' : 'none';\n",
              "    })();\n",
              "  </script>\n",
              "</div>\n",
              "    </div>\n",
              "  </div>\n"
            ]
          },
          "metadata": {},
          "execution_count": 124
        }
      ]
    },
    {
      "cell_type": "code",
      "source": [
        "ConfusionMatrixDisplay(confusion_matrix(df['smoking'], df['pred_smoking_thres'])).plot();"
      ],
      "metadata": {
        "colab": {
          "base_uri": "https://localhost:8080/",
          "height": 449
        },
        "id": "U7oRZSGSDPVz",
        "outputId": "0f988cf2-bc6f-475d-8817-8cfce51ca02e"
      },
      "execution_count": 125,
      "outputs": [
        {
          "output_type": "display_data",
          "data": {
            "text/plain": [
              "<Figure size 640x480 with 2 Axes>"
            ],
            "image/png": "[encoded data removed]"
          },
          "metadata": {}
        }
      ]
    },
    {
      "cell_type": "code",
      "source": [
        "ConfusionMatrixDisplay(confusion_matrix(df['smoking'], df['pred_smoking_unq'])).plot();"
      ],
      "metadata": {
        "colab": {
          "base_uri": "https://localhost:8080/",
          "height": 449
        },
        "id": "q1y7RfMKIMUY",
        "outputId": "8de0f8a8-670f-4354-cc79-b18d29c4a559"
      },
      "execution_count": 126,
      "outputs": [
        {
          "output_type": "display_data",
          "data": {
            "text/plain": [
              "<Figure size 640x480 with 2 Axes>"
            ],
            "image/png": "[encoded data removed]"
          },
          "metadata": {}
        }
      ]
    },
    {
      "cell_type": "code",
      "source": [
        "ConfusionMatrixDisplay(confusion_matrix(df['smoking'], df['pred_smoking_unq_1'])).plot();\n"
      ],
      "metadata": {
        "colab": {
          "base_uri": "https://localhost:8080/",
          "height": 449
        },
        "id": "UfkQC0PZekNH",
        "outputId": "ab482559-215c-49b2-d231-7e601735a26d"
      },
      "execution_count": 127,
      "outputs": [
        {
          "output_type": "display_data",
          "data": {
            "text/plain": [
              "<Figure size 640x480 with 2 Axes>"
            ],
            "image/png": "[encoded data removed]"
          },
          "metadata": {}
        }
      ]
    },
    {
      "cell_type": "code",
      "source": [
        "ConfusionMatrixDisplay(confusion_matrix(df['smoking'], df['pred_train_smoking'])).plot();\n"
      ],
      "metadata": {
        "colab": {
          "base_uri": "https://localhost:8080/",
          "height": 449
        },
        "id": "crmFrpjSejYv",
        "outputId": "fe0741e9-cb6c-41ae-fcf6-c8d01791fef4"
      },
      "execution_count": 128,
      "outputs": [
        {
          "output_type": "display_data",
          "data": {
            "text/plain": [
              "<Figure size 640x480 with 2 Axes>"
            ],
            "image/png": "[encoded data removed]"
          },
          "metadata": {}
        }
      ]
    },
    {
      "cell_type": "code",
      "source": [
        "ConfusionMatrixDisplay(confusion_matrix(df['smoking'], df['pred_train_smoking_unq'])).plot();\n"
      ],
      "metadata": {
        "colab": {
          "base_uri": "https://localhost:8080/",
          "height": 449
        },
        "id": "kUqkk4uUe6ZB",
        "outputId": "96df4a10-7d3e-4cc4-a55a-e3bef488ccf7"
      },
      "execution_count": 129,
      "outputs": [
        {
          "output_type": "display_data",
          "data": {
            "text/plain": [
              "<Figure size 640x480 with 2 Axes>"
            ],
            "image/png": "[encoded data removed]"
          },
          "metadata": {}
        }
      ]
    },
    {
      "cell_type": "code",
      "source": [
        "ConfusionMatrixDisplay(confusion_matrix(df['smoking'], df['pred_train_smoking_unq_1'])).plot();\n"
      ],
      "metadata": {
        "colab": {
          "base_uri": "https://localhost:8080/",
          "height": 449
        },
        "id": "e4H3QxMEe53I",
        "outputId": "dbdd2c26-8724-48ed-fa53-e25f3c2932a9"
      },
      "execution_count": 130,
      "outputs": [
        {
          "output_type": "display_data",
          "data": {
            "text/plain": [
              "<Figure size 640x480 with 2 Axes>"
            ],
            "image/png": "[encoded data removed]"
          },
          "metadata": {}
        }
      ]
    },
    {
      "cell_type": "code",
      "source": [
        "print(classification_report(df['smoking'], df['pred_smoking_thres']))"
      ],
      "metadata": {
        "colab": {
          "base_uri": "https://localhost:8080/"
        },
        "id": "SUuNCB3oDYSR",
        "outputId": "b505a8f0-317d-4ab6-8ef2-a5be7839749b"
      },
      "execution_count": 131,
      "outputs": [
        {
          "output_type": "stream",
          "name": "stdout",
          "text": [
            "              precision    recall  f1-score   support\n",
            "\n",
            "           0       0.89      0.83      0.86     11063\n",
            "           1       0.47      0.61      0.53      2800\n",
            "\n",
            "    accuracy                           0.78     13863\n",
            "   macro avg       0.68      0.72      0.70     13863\n",
            "weighted avg       0.81      0.78      0.79     13863\n",
            "\n"
          ]
        }
      ]
    },
    {
      "cell_type": "code",
      "source": [
        "print(classification_report(df['smoking'], df['pred_train_smoking']))\n"
      ],
      "metadata": {
        "colab": {
          "base_uri": "https://localhost:8080/"
        },
        "id": "6wVKkem9kBYo",
        "outputId": "771676db-933d-4a82-987f-da990b288fab"
      },
      "execution_count": 145,
      "outputs": [
        {
          "output_type": "stream",
          "name": "stdout",
          "text": [
            "              precision    recall  f1-score   support\n",
            "\n",
            "           0       0.89      0.85      0.87     11063\n",
            "           1       0.49      0.57      0.53      2800\n",
            "\n",
            "    accuracy                           0.80     13863\n",
            "   macro avg       0.69      0.71      0.70     13863\n",
            "weighted avg       0.81      0.80      0.80     13863\n",
            "\n"
          ]
        }
      ]
    },
    {
      "cell_type": "code",
      "source": [
        "print(classification_report(df['smoking'], df['pred_smoking_unq']))\n"
      ],
      "metadata": {
        "colab": {
          "base_uri": "https://localhost:8080/"
        },
        "id": "kqD7BUDoEOTq",
        "outputId": "4a6c6979-d1ab-4d48-b2fc-74172f2f164d"
      },
      "execution_count": 132,
      "outputs": [
        {
          "output_type": "stream",
          "name": "stdout",
          "text": [
            "              precision    recall  f1-score   support\n",
            "\n",
            "           0       0.89      0.84      0.87     11063\n",
            "           1       0.49      0.59      0.53      2800\n",
            "\n",
            "    accuracy                           0.79     13863\n",
            "   macro avg       0.69      0.72      0.70     13863\n",
            "weighted avg       0.81      0.79      0.80     13863\n",
            "\n"
          ]
        }
      ]
    },
    {
      "cell_type": "code",
      "source": [
        "print(classification_report(df['smoking'], df['pred_train_smoking_unq']))\n"
      ],
      "metadata": {
        "colab": {
          "base_uri": "https://localhost:8080/"
        },
        "id": "MEvoHjQckV9n",
        "outputId": "f05b3b5d-0660-432f-b72d-e6eff6cfcdb8"
      },
      "execution_count": 146,
      "outputs": [
        {
          "output_type": "stream",
          "name": "stdout",
          "text": [
            "              precision    recall  f1-score   support\n",
            "\n",
            "           0       0.92      0.70      0.79     11063\n",
            "           1       0.38      0.75      0.51      2800\n",
            "\n",
            "    accuracy                           0.71     13863\n",
            "   macro avg       0.65      0.72      0.65     13863\n",
            "weighted avg       0.81      0.71      0.73     13863\n",
            "\n"
          ]
        }
      ]
    },
    {
      "cell_type": "code",
      "source": [
        "print(classification_report(df['smoking'], df['pred_smoking_unq_1']))\n"
      ],
      "metadata": {
        "colab": {
          "base_uri": "https://localhost:8080/"
        },
        "id": "0Q3KLqfEfnMM",
        "outputId": "4c850d94-bf3f-4702-d850-d5411f751d6a"
      },
      "execution_count": 133,
      "outputs": [
        {
          "output_type": "stream",
          "name": "stdout",
          "text": [
            "              precision    recall  f1-score   support\n",
            "\n",
            "           0       0.89      0.82      0.86     11063\n",
            "           1       0.46      0.60      0.52      2800\n",
            "\n",
            "    accuracy                           0.78     13863\n",
            "   macro avg       0.68      0.71      0.69     13863\n",
            "weighted avg       0.80      0.78      0.79     13863\n",
            "\n"
          ]
        }
      ]
    },
    {
      "cell_type": "code",
      "source": [
        "print(classification_report(df['smoking'], df['pred_train_smoking_unq_1']))"
      ],
      "metadata": {
        "colab": {
          "base_uri": "https://localhost:8080/"
        },
        "id": "_TE0RMIVke_c",
        "outputId": "c002c852-3662-47f5-efa1-adfe40740f40"
      },
      "execution_count": 148,
      "outputs": [
        {
          "output_type": "stream",
          "name": "stdout",
          "text": [
            "              precision    recall  f1-score   support\n",
            "\n",
            "           0       0.91      0.71      0.80     11063\n",
            "           1       0.39      0.72      0.50      2800\n",
            "\n",
            "    accuracy                           0.71     13863\n",
            "   macro avg       0.65      0.71      0.65     13863\n",
            "weighted avg       0.80      0.71      0.74     13863\n",
            "\n"
          ]
        }
      ]
    },
    {
      "cell_type": "code",
      "source": [
        "test['y_score'] = model_full.predict_proba(test[X])[:, 1]\n",
        "test['y_score_1'] = model_full_1.predict_proba(test[X_1])[:, 1]"
      ],
      "metadata": {
        "id": "OPkgWPM9EdjB"
      },
      "execution_count": 134,
      "outputs": []
    },
    {
      "cell_type": "code",
      "source": [
        "test['smoking'] = (test['y_score_1'] >= (test['y_score_1'] >= max_f1_row_unq_1[0])* 1\n",
        "\n",
        "\n",
        "# test['pred_smoking_thres'] = (test['y_score'] >= max_f1_row[0])* 1         # res_1.csv\n",
        "# test['pred_smoking_thres_1'] = (test['y_score_1'] >= max_f1_row_1[0])* 1   # res_2.csv\n",
        "# test['pred_smoking_unq'] = (test['y_score'] >= max_f1_row_unq[0])* 1       # res_3.csv\n",
        "# test['pred_smoking_unq_1'] = (test['y_score_1'] >= max_f1_row_unq_1[0])* 1 # res_4.csv\n",
        "\n",
        "# test['pred_train_smoking'] = (test['y_score'] >= max_train_f1_row[0])* 1   # res_5.csv\n",
        "# test['pred_train_smoking_1'] = (test['y_score'] >= max_train_f1_row[0])* 1             # res_6.csv\n",
        "# test['pred_train_smoking_unq'] = (test['y_score'] >= max_train_f1_row_unq[0])* 1       # res_7.csv\n",
        "# test['pred_train_smoking_unq_1'] = (test['y_score_1'] >= max_train_f1_row_unq_1[0])* 1   # res_8.csv\n",
        "\n",
        "res_df = test.loc[:, ['id', 'smoking']]\n",
        "res_df.to_csv(r'res_8.csv', index=False)"
      ],
      "metadata": {
        "id": "EMBIxhgMg8px"
      },
      "execution_count": 144,
      "outputs": []
    },
    {
      "cell_type": "markdown",
      "source": [
        "![res1_res8.png](data:image/png;base64,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)"
      ],
      "metadata": {
        "id": "Am5gn7Ds4o_B"
      }
    },
    {
      "cell_type": "markdown",
      "source": [
        "![leaderboard.png](data:image/png;base64,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)"
      ],
      "metadata": {
        "id": "4tLg16ku7_w6"
      }
    },
    {
      "cell_type": "code",
      "source": [],
      "metadata": {
        "id": "53jpepC38Uu5"
      },
      "execution_count": 23,
      "outputs": []
    },
    {
      "cell_type": "code",
      "source": [],
      "metadata": {
        "id": "e1GQE-9c8YW8"
      },
      "execution_count": null,
      "outputs": []
    }
  ]
}